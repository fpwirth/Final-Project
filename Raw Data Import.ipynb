{
 "cells": [
  {
   "cell_type": "code",
   "execution_count": 1,
   "metadata": {},
   "outputs": [],
   "source": [
    "#Load dependencies and define data files to import\n",
    "from datetime import datetime as dt, timedelta\n",
    "import pandas as pd\n",
    "url2017='https://hfdapp.houstontx.gov/311/311-Public-Data-Extract-2017.txt'\n",
    "url2018='https://hfdapp.houstontx.gov/311/311-Public-Data-Extract-2018.txt'\n",
    "url2019='https://hfdapp.houstontx.gov/311/311-Public-Data-Extract-2019.txt'\n",
    "url2020='https://hfdapp.houstontx.gov/311/311-Public-Data-Extract-monthly.txt'"
   ]
  },
  {
   "cell_type": "code",
   "execution_count": 2,
   "metadata": {},
   "outputs": [
    {
     "name": "stderr",
     "output_type": "stream",
     "text": [
      "b'Skipping line 9979: expected 29 fields, saw 30\\nSkipping line 16339: expected 29 fields, saw 30\\n'\n",
      "b'Skipping line 211068: expected 29 fields, saw 30\\n'\n",
      "b'Skipping line 294299: expected 29 fields, saw 30\\n'\n",
      "b'Skipping line 327924: expected 29 fields, saw 30\\n'\n"
     ]
    },
    {
     "data": {
      "text/plain": [
       "(364664, 29)"
      ]
     },
     "execution_count": 2,
     "metadata": {},
     "output_type": "execute_result"
    }
   ],
   "source": [
    "#Create 2017 data frames\n",
    "data2017=pd.read_csv(url2017,header=5,sep='|',error_bad_lines=False)\n",
    "data2017=data2017.drop(data2017.index[0]).reset_index(drop=True)\n",
    "data2017.columns=['case number','sr location','county','district','neighborhood','tax id','trash quad','recycle quad','trash day','heavy trash day','recycle day','key map',\n",
    "                'management district','department','division','sr type','queue','sla','status','sr create date','due date','date closed','overdue','title','x','y','latitude',\n",
    "                'longitude','channel type']\n",
    "data2017[['sr create date','due date','date closed']]=data2017[['sr create date','due date','date closed']].apply(pd.to_datetime,errors='coerce')\n",
    "top2017=data2017.groupby(['sr type'])['case number'].count().sort_values(ascending=False).head(20)\n",
    "data2017.shape"
   ]
  },
  {
   "cell_type": "code",
   "execution_count": 3,
   "metadata": {},
   "outputs": [
    {
     "name": "stderr",
     "output_type": "stream",
     "text": [
      "b'Skipping line 124864: expected 29 fields, saw 30\\n'\n",
      "C:\\Users\\phili\\Anaconda3\\lib\\site-packages\\IPython\\core\\interactiveshell.py:3058: DtypeWarning: Columns (22) have mixed types. Specify dtype option on import or set low_memory=False.\n",
      "  interactivity=interactivity, compiler=compiler, result=result)\n"
     ]
    },
    {
     "data": {
      "text/plain": [
       "(399953, 29)"
      ]
     },
     "execution_count": 3,
     "metadata": {},
     "output_type": "execute_result"
    }
   ],
   "source": [
    "#Create 2018 data frames\n",
    "data2018=pd.read_csv(url2018,header=5,sep='|',error_bad_lines=False)\n",
    "data2018=data2018.drop(data2018.index[0]).reset_index(drop=True)\n",
    "data2018.columns=['case number','sr location','county','district','neighborhood','tax id','trash quad','recycle quad','trash day','heavy trash day','recycle day','key map',\n",
    "                'management district','department','division','sr type','queue','sla','status','sr create date','due date','date closed','overdue','title','x','y','latitude',\n",
    "                'longitude','channel type']\n",
    "data2018[['sr create date','due date','date closed']]=data2018[['sr create date','due date','date closed']].apply(pd.to_datetime,errors='coerce')\n",
    "top2018=data2018.groupby(['sr type'])['case number'].count().sort_values(ascending=False).head(20)\n",
    "data2018.shape"
   ]
  },
  {
   "cell_type": "code",
   "execution_count": 4,
   "metadata": {},
   "outputs": [
    {
     "name": "stderr",
     "output_type": "stream",
     "text": [
      "b'Skipping line 86859: expected 29 fields, saw 31\\n'\n",
      "b'Skipping line 124913: expected 29 fields, saw 30\\n'\n",
      "b'Skipping line 144497: expected 29 fields, saw 30\\n'\n",
      "b'Skipping line 218652: expected 29 fields, saw 31\\n'\n",
      "b'Skipping line 349873: expected 29 fields, saw 30\\n'\n"
     ]
    },
    {
     "data": {
      "text/plain": [
       "(395258, 29)"
      ]
     },
     "execution_count": 4,
     "metadata": {},
     "output_type": "execute_result"
    }
   ],
   "source": [
    "#Create 2019 data frames\n",
    "data2019=pd.read_csv(url2019,header=5,sep='|',error_bad_lines=False)\n",
    "data2019=data2019.drop(data2019.index[0]).reset_index(drop=True)\n",
    "data2019.columns=['case number','sr location','county','district','neighborhood','tax id','trash quad','recycle quad','trash day','heavy trash day','recycle day','key map',\n",
    "                'management district','department','division','sr type','queue','sla','status','sr create date','due date','date closed','overdue','title','x','y','latitude',\n",
    "                'longitude','channel type']\n",
    "data2019[['sr create date','due date','date closed']]=data2019[['sr create date','due date','date closed']].apply(pd.to_datetime,errors='coerce')\n",
    "top2019=data2019.groupby(['sr type'])['case number'].count().sort_values(ascending=False).head(20)\n",
    "data2019.shape"
   ]
  },
  {
   "cell_type": "code",
   "execution_count": 5,
   "metadata": {},
   "outputs": [
    {
     "data": {
      "text/plain": [
       "(21209, 29)"
      ]
     },
     "execution_count": 5,
     "metadata": {},
     "output_type": "execute_result"
    }
   ],
   "source": [
    "#Create 2020 data frames\n",
    "data2020=pd.read_csv(url2020,header=5,sep='|',error_bad_lines=False)\n",
    "data2020=data2020.drop(data2020.index[0]).reset_index(drop=True)\n",
    "data2020.columns=['case number','sr location','county','district','neighborhood','tax id','trash quad','recycle quad','trash day','heavy trash day','recycle day','key map',\n",
    "                'management district','department','division','sr type','queue','sla','status','sr create date','due date','date closed','overdue','title','x','y','latitude',\n",
    "                'longitude','channel type']\n",
    "data2020[['sr create date','due date','date closed']]=data2020[['sr create date','due date','date closed']].apply(pd.to_datetime,errors='coerce')\n",
    "top2020=data2020.groupby(['sr type'])['case number'].count().sort_values(ascending=False).head(20)\n",
    "data2020.shape"
   ]
  },
  {
   "cell_type": "code",
   "execution_count": 6,
   "metadata": {},
   "outputs": [
    {
     "data": {
      "text/plain": [
       "(1159875, 30)"
      ]
     },
     "execution_count": 6,
     "metadata": {},
     "output_type": "execute_result"
    }
   ],
   "source": [
    "data311=data2017.append([data2018,data2019])\n",
    "data311['year']=data311['sr create date'].dt.year\n",
    "types311=data311.groupby(['sr type','year'])['case number'].count().unstack('year').reset_index()\n",
    "types311.columns=['sr type','2017','2018','2019']\n",
    "data311.shape"
   ]
  },
  {
   "cell_type": "code",
   "execution_count": 7,
   "metadata": {},
   "outputs": [
    {
     "data": {
      "text/plain": [
       "sr type\n",
       "Missed Garbage Pickup                       26950\n",
       "Container Problem                           25151\n",
       "Water Leak                                  23661\n",
       "Sewer Wastewater                            22585\n",
       "Nuisance On Property                        18806\n",
       "Traffic Signal Maintenance                  17424\n",
       "Street Hazard                               13147\n",
       "Missed Recycling Pickup                     12167\n",
       "Storm Debris Collection                     10802\n",
       "Water Service                               10778\n",
       "Traffic Signs                               10595\n",
       "Drainage                                     9382\n",
       "Parking Violation                            8806\n",
       "Dead Animal Collection                       8380\n",
       "Trash Dumping or Illegal Dumpsite            7563\n",
       "Heavy Trash Violation                        7476\n",
       "Unclassified 311 Web Request                 7244\n",
       "Recycling Cart Repair or Replace             6892\n",
       "Street Condition                             6832\n",
       "Missed Heavy Trash Pickup                    6416\n",
       "Name: case number, dtype: int64"
      ]
     },
     "execution_count": 7,
     "metadata": {},
     "output_type": "execute_result"
    }
   ],
   "source": [
    "top2017"
   ]
  },
  {
   "cell_type": "code",
   "execution_count": 8,
   "metadata": {},
   "outputs": [
    {
     "data": {
      "text/plain": [
       "sr type\n",
       "Water Leak                                  29560\n",
       "Missed Garbage Pickup                       29035\n",
       "Container Problem                           24369\n",
       "Missed Recycling Pickup                     24051\n",
       "Sewer Wastewater                            22476\n",
       "Nuisance On Property                        21132\n",
       "Missed Heavy Trash Pickup                   19502\n",
       "Traffic Signal Maintenance                  15469\n",
       "Water Service                               13423\n",
       "Street Hazard                               13059\n",
       "SWM Escalation                              12108\n",
       "Drainage                                    10538\n",
       "Traffic Signs                                9418\n",
       "Parking Violation                            8923\n",
       "Heavy Trash Violation                        8873\n",
       "Dead Animal Collection                       8467\n",
       "Street Condition                             8064\n",
       "Trash Dumping or Illegal Dumpsite            7369\n",
       "Building or Sign Code                        7302\n",
       "Unclassified 311 Web Request                 6905\n",
       "Name: case number, dtype: int64"
      ]
     },
     "execution_count": 8,
     "metadata": {},
     "output_type": "execute_result"
    }
   ],
   "source": [
    "top2018"
   ]
  },
  {
   "cell_type": "code",
   "execution_count": 9,
   "metadata": {},
   "outputs": [
    {
     "data": {
      "text/plain": [
       "sr type\n",
       "Missed Garbage Pickup                       26304\n",
       "Water Leak                                  25188\n",
       "Container Problem                           24827\n",
       "Sewer Wastewater                            22495\n",
       "Traffic Signal Maintenance                  20170\n",
       "Missed Heavy Trash Pickup                   19805\n",
       "Nuisance On Property                        19456\n",
       "Missed Recycling Pickup                     18735\n",
       "Street Hazard                               13276\n",
       "Water Service                               11403\n",
       "Drainage                                    10749\n",
       "SWM Escalation                              10255\n",
       "Street Condition                            10026\n",
       "Traffic Signs                                9474\n",
       "Parking Violation                            9216\n",
       "Dead Animal Collection                       8274\n",
       "Heavy Trash Violation                        8198\n",
       "Recycling Cart Repair or Replace             7871\n",
       "Recycling Participation NEW                  7745\n",
       "Pothole                                      7650\n",
       "Name: case number, dtype: int64"
      ]
     },
     "execution_count": 9,
     "metadata": {},
     "output_type": "execute_result"
    }
   ],
   "source": [
    "top2019"
   ]
  },
  {
   "cell_type": "code",
   "execution_count": 10,
   "metadata": {},
   "outputs": [
    {
     "data": {
      "text/plain": [
       "sr type\n",
       "Sewer Wastewater                            1643\n",
       "Missed Garbage Pickup                       1492\n",
       "Water Leak                                  1485\n",
       "Container Problem                           1253\n",
       "Water Service                               1023\n",
       "Missed Recycling Pickup                      926\n",
       "Nuisance On Property                         866\n",
       "Traffic Signal Maintenance                   836\n",
       "Dead Animal Collection                       603\n",
       "Missed Heavy Trash Pickup                    593\n",
       "Street Hazard                                548\n",
       "Heavy Trash Violation                        532\n",
       "Traffic Signs                                516\n",
       "Parking Violation                            507\n",
       "New Resident Container                       501\n",
       "Recycling Participation NEW                  495\n",
       "Missed Yard Waste Pickup                     493\n",
       "Street Condition                             457\n",
       "Building or Sign Code                        451\n",
       "Drainage                                     450\n",
       "Name: case number, dtype: int64"
      ]
     },
     "execution_count": 10,
     "metadata": {},
     "output_type": "execute_result"
    }
   ],
   "source": [
    "top2020"
   ]
  },
  {
   "cell_type": "code",
   "execution_count": 11,
   "metadata": {},
   "outputs": [
    {
     "data": {
      "text/html": [
       "<div>\n",
       "<style scoped>\n",
       "    .dataframe tbody tr th:only-of-type {\n",
       "        vertical-align: middle;\n",
       "    }\n",
       "\n",
       "    .dataframe tbody tr th {\n",
       "        vertical-align: top;\n",
       "    }\n",
       "\n",
       "    .dataframe thead th {\n",
       "        text-align: right;\n",
       "    }\n",
       "</style>\n",
       "<table border=\"1\" class=\"dataframe\">\n",
       "  <thead>\n",
       "    <tr style=\"text-align: right;\">\n",
       "      <th></th>\n",
       "      <th>sr type</th>\n",
       "      <th>2017</th>\n",
       "      <th>2018</th>\n",
       "      <th>2019</th>\n",
       "    </tr>\n",
       "  </thead>\n",
       "  <tbody>\n",
       "    <tr>\n",
       "      <td>0</td>\n",
       "      <td>Add A Bin</td>\n",
       "      <td>34.0</td>\n",
       "      <td>38.0</td>\n",
       "      <td>44.0</td>\n",
       "    </tr>\n",
       "    <tr>\n",
       "      <td>1</td>\n",
       "      <td>Add A Can</td>\n",
       "      <td>2406.0</td>\n",
       "      <td>2811.0</td>\n",
       "      <td>2696.0</td>\n",
       "    </tr>\n",
       "    <tr>\n",
       "      <td>2</td>\n",
       "      <td>Add A Can CANCELLATION</td>\n",
       "      <td>550.0</td>\n",
       "      <td>592.0</td>\n",
       "      <td>604.0</td>\n",
       "    </tr>\n",
       "    <tr>\n",
       "      <td>3</td>\n",
       "      <td>Add A Cart</td>\n",
       "      <td>16.0</td>\n",
       "      <td>16.0</td>\n",
       "      <td>28.0</td>\n",
       "    </tr>\n",
       "    <tr>\n",
       "      <td>4</td>\n",
       "      <td>Add A Cart CANCELLATION</td>\n",
       "      <td>32.0</td>\n",
       "      <td>21.0</td>\n",
       "      <td>54.0</td>\n",
       "    </tr>\n",
       "    <tr>\n",
       "      <td>...</td>\n",
       "      <td>...</td>\n",
       "      <td>...</td>\n",
       "      <td>...</td>\n",
       "      <td>...</td>\n",
       "    </tr>\n",
       "    <tr>\n",
       "      <td>162</td>\n",
       "      <td>Water Main Valve</td>\n",
       "      <td>4015.0</td>\n",
       "      <td>5282.0</td>\n",
       "      <td>3609.0</td>\n",
       "    </tr>\n",
       "    <tr>\n",
       "      <td>163</td>\n",
       "      <td>Water Playground Repair</td>\n",
       "      <td>73.0</td>\n",
       "      <td>48.0</td>\n",
       "      <td>43.0</td>\n",
       "    </tr>\n",
       "    <tr>\n",
       "      <td>164</td>\n",
       "      <td>Water Quality</td>\n",
       "      <td>1877.0</td>\n",
       "      <td>1904.0</td>\n",
       "      <td>1297.0</td>\n",
       "    </tr>\n",
       "    <tr>\n",
       "      <td>165</td>\n",
       "      <td>Water Service</td>\n",
       "      <td>10778.0</td>\n",
       "      <td>13423.0</td>\n",
       "      <td>11403.0</td>\n",
       "    </tr>\n",
       "    <tr>\n",
       "      <td>166</td>\n",
       "      <td>Water or Ground Pollution</td>\n",
       "      <td>156.0</td>\n",
       "      <td>176.0</td>\n",
       "      <td>187.0</td>\n",
       "    </tr>\n",
       "  </tbody>\n",
       "</table>\n",
       "<p>167 rows × 4 columns</p>\n",
       "</div>"
      ],
      "text/plain": [
       "                                      sr type     2017     2018     2019\n",
       "0    Add A Bin                                    34.0     38.0     44.0\n",
       "1    Add A Can                                  2406.0   2811.0   2696.0\n",
       "2    Add A Can CANCELLATION                      550.0    592.0    604.0\n",
       "3    Add A Cart                                   16.0     16.0     28.0\n",
       "4    Add A Cart CANCELLATION                      32.0     21.0     54.0\n",
       "..                                        ...      ...      ...      ...\n",
       "162  Water Main Valve                           4015.0   5282.0   3609.0\n",
       "163  Water Playground Repair                      73.0     48.0     43.0\n",
       "164  Water Quality                              1877.0   1904.0   1297.0\n",
       "165  Water Service                             10778.0  13423.0  11403.0\n",
       "166  Water or Ground Pollution                   156.0    176.0    187.0\n",
       "\n",
       "[167 rows x 4 columns]"
      ]
     },
     "execution_count": 11,
     "metadata": {},
     "output_type": "execute_result"
    }
   ],
   "source": [
    "types311"
   ]
  },
  {
   "cell_type": "code",
   "execution_count": 12,
   "metadata": {},
   "outputs": [],
   "source": [
    "types311.to_csv('Clean Data Files/Houston 311 SR Types by Year.csv',index=False,header=True)"
   ]
  },
  {
   "cell_type": "code",
   "execution_count": null,
   "metadata": {},
   "outputs": [],
   "source": []
  }
 ],
 "metadata": {
  "kernelspec": {
   "display_name": "Python 3",
   "language": "python",
   "name": "python3"
  },
  "language_info": {
   "codemirror_mode": {
    "name": "ipython",
    "version": 3
   },
   "file_extension": ".py",
   "mimetype": "text/x-python",
   "name": "python",
   "nbconvert_exporter": "python",
   "pygments_lexer": "ipython3",
   "version": "3.7.4"
  }
 },
 "nbformat": 4,
 "nbformat_minor": 4
}
