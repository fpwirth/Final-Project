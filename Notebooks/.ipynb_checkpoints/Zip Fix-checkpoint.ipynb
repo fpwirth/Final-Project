{
 "cells": [
  {
   "cell_type": "code",
   "execution_count": 1,
   "metadata": {},
   "outputs": [],
   "source": [
    "import pandas as pd"
   ]
  },
  {
   "cell_type": "code",
   "execution_count": 2,
   "metadata": {},
   "outputs": [],
   "source": [
    "origzip=pd.read_csv('../Clean Data Files/311latlngzipcodes.csv',dtype={'calczip':str})\n",
    "newzip=pd.read_csv('../Clean Data Files/allzipdata.csv',dtype={'calczip':str})"
   ]
  },
  {
   "cell_type": "code",
   "execution_count": 3,
   "metadata": {},
   "outputs": [
    {
     "data": {
      "text/plain": [
       "(13957, 3)"
      ]
     },
     "execution_count": 3,
     "metadata": {},
     "output_type": "execute_result"
    }
   ],
   "source": [
    "origzip.shape"
   ]
  },
  {
   "cell_type": "code",
   "execution_count": 4,
   "metadata": {},
   "outputs": [
    {
     "name": "stdout",
     "output_type": "stream",
     "text": [
      "        latitude  longitude calczip\n",
      "10202  29.768612 -95.326553   77020\n",
      "10431  29.868305 -95.350456   77093\n",
      "10477  29.731129 -95.399490   77006\n",
      "10534  29.698362 -95.586731   77072\n",
      "11424  29.687075 -95.290398   77087\n",
      "11503  29.756500 -95.339760   77003\n",
      "11669  30.051056 -95.142741   77345\n",
      "12148  29.779680 -95.393982   77007\n",
      "12560  29.690605 -95.290497   77087\n",
      "12652  29.686778 -95.430385   77025\n",
      "13024  29.611655 -95.499027   77489\n",
      "13027  29.718748 -95.378670   77004\n",
      "13322  29.794924 -95.487175   77055\n",
      "13837  29.711504 -95.337372   77021\n"
     ]
    }
   ],
   "source": [
    "duporig=origzip[origzip.duplicated()]\n",
    "print(duporig)"
   ]
  },
  {
   "cell_type": "code",
   "execution_count": 5,
   "metadata": {},
   "outputs": [
    {
     "data": {
      "text/plain": [
       "(13943, 3)"
      ]
     },
     "execution_count": 5,
     "metadata": {},
     "output_type": "execute_result"
    }
   ],
   "source": [
    "origzip.drop_duplicates(inplace=True)\n",
    "origzip.shape"
   ]
  },
  {
   "cell_type": "code",
   "execution_count": 6,
   "metadata": {},
   "outputs": [
    {
     "data": {
      "text/plain": [
       "(10744, 4)"
      ]
     },
     "execution_count": 6,
     "metadata": {},
     "output_type": "execute_result"
    }
   ],
   "source": [
    "newzip.shape"
   ]
  },
  {
   "cell_type": "code",
   "execution_count": 7,
   "metadata": {},
   "outputs": [
    {
     "name": "stderr",
     "output_type": "stream",
     "text": [
      "C:\\Users\\phili\\Anaconda3\\lib\\site-packages\\ipykernel_launcher.py:2: SettingWithCopyWarning: \n",
      "A value is trying to be set on a copy of a slice from a DataFrame\n",
      "\n",
      "See the caveats in the documentation: http://pandas.pydata.org/pandas-docs/stable/user_guide/indexing.html#returning-a-view-versus-a-copy\n",
      "  \n"
     ]
    },
    {
     "data": {
      "text/plain": [
       "(10632, 4)"
      ]
     },
     "execution_count": 7,
     "metadata": {},
     "output_type": "execute_result"
    }
   ],
   "source": [
    "zipstoadd=newzip.loc[newzip['calczip']!='None']\n",
    "zipstoadd.drop_duplicates(inplace=True)\n",
    "zipstoadd.shape"
   ]
  },
  {
   "cell_type": "code",
   "execution_count": 8,
   "metadata": {},
   "outputs": [
    {
     "data": {
      "text/plain": [
       "(112, 4)"
      ]
     },
     "execution_count": 8,
     "metadata": {},
     "output_type": "execute_result"
    }
   ],
   "source": [
    "nonezips=newzip.loc[newzip['calczip']=='None']\n",
    "nonezips.shape"
   ]
  },
  {
   "cell_type": "code",
   "execution_count": 9,
   "metadata": {},
   "outputs": [
    {
     "data": {
      "text/plain": [
       "(24575, 4)"
      ]
     },
     "execution_count": 9,
     "metadata": {},
     "output_type": "execute_result"
    }
   ],
   "source": [
    "addedzips=origzip.append([zipstoadd],sort=False)\n",
    "addedzips.shape"
   ]
  },
  {
   "cell_type": "code",
   "execution_count": 10,
   "metadata": {},
   "outputs": [
    {
     "data": {
      "text/plain": [
       "(16299, 3)"
      ]
     },
     "execution_count": 10,
     "metadata": {},
     "output_type": "execute_result"
    }
   ],
   "source": [
    "addedzips.drop(['index'],axis=1,inplace=True)\n",
    "addedzips.drop_duplicates(inplace=True)\n",
    "addedzips.shape"
   ]
  },
  {
   "cell_type": "code",
   "execution_count": 11,
   "metadata": {},
   "outputs": [],
   "source": [
    "addedzips.to_csv('../Clean Data Files/311latlngzipcodes.csv',index=False,header=True)"
   ]
  },
  {
   "cell_type": "code",
   "execution_count": null,
   "metadata": {},
   "outputs": [],
   "source": []
  }
 ],
 "metadata": {
  "kernelspec": {
   "display_name": "Python 3",
   "language": "python",
   "name": "python3"
  },
  "language_info": {
   "codemirror_mode": {
    "name": "ipython",
    "version": 3
   },
   "file_extension": ".py",
   "mimetype": "text/x-python",
   "name": "python",
   "nbconvert_exporter": "python",
   "pygments_lexer": "ipython3",
   "version": "3.7.4"
  }
 },
 "nbformat": 4,
 "nbformat_minor": 4
}
