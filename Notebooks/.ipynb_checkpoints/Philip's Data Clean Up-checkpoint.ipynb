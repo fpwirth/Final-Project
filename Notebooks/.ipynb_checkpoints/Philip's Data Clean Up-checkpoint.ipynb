{
 "cells": [
  {
   "cell_type": "code",
   "execution_count": 1,
   "metadata": {},
   "outputs": [],
   "source": [
    "#Load dependencies\n",
    "from datetime import datetime as dt, timedelta\n",
    "import pandas as pd\n",
    "import numpy as np\n",
    "from uszipcode import SearchEngine\n",
    "\n",
    "#Open case close date\n",
    "opencaseclosedate=np.datetime64('2021-01-01')"
   ]
  },
  {
   "cell_type": "code",
   "execution_count": 2,
   "metadata": {},
   "outputs": [],
   "source": [
    "#Define data files to import\n",
    "url2017='https://hfdapp.houstontx.gov/311/311-Public-Data-Extract-2017.txt'\n",
    "url2018='https://hfdapp.houstontx.gov/311/311-Public-Data-Extract-2018.txt'\n",
    "url2019='https://hfdapp.houstontx.gov/311/311-Public-Data-Extract-2019.txt'\n",
    "url2020='https://hfdapp.houstontx.gov/311/311-Public-Data-Extract-monthly.txt'\n",
    "nullzip=pd.read_csv('../Clean Data Files/311latlngzipcodes.csv',dtype={'calczip':str})\n",
    "\n",
    "#Define dataframe column names and select numeric and date columns\n",
    "cols=['case number','sr location','county','district','neighborhood','tax id','trash quad','recycle quad','trash day','heavy trash day','recycle day','key map',\n",
    "      'management district','department','division','sr type','queue','sla','status','sr create date','due date','date closed','overdue','title','x','y','latitude',\n",
    "      'longitude','channel type']\n",
    "numcols=['latitude','longitude']\n",
    "datecols=['sr create date','due date','date closed']\n",
    "\n",
    "#Create zipcode retrieval function\n",
    "search=SearchEngine(simple_zipcode=False)\n",
    "def zipinfo(lat,lng):\n",
    "    zipdata=search.by_coordinates(lat,lng,radius=3,returns=1)\n",
    "    for zipcode in zipdata:\n",
    "        return zipcode.zipcode\n",
    "    \n",
    "#Create function to assign season based on month\n",
    "def season(row_number, assigned_value): \n",
    "    return assigned_value[row_number] "
   ]
  },
  {
   "cell_type": "code",
   "execution_count": 3,
   "metadata": {},
   "outputs": [
    {
     "name": "stderr",
     "output_type": "stream",
     "text": [
      "b'Skipping line 9979: expected 29 fields, saw 30\\nSkipping line 16339: expected 29 fields, saw 30\\n'\n",
      "b'Skipping line 211068: expected 29 fields, saw 30\\n'\n",
      "b'Skipping line 294299: expected 29 fields, saw 30\\n'\n",
      "b'Skipping line 327926: expected 29 fields, saw 30\\n'\n"
     ]
    },
    {
     "data": {
      "text/plain": [
       "(364666, 29)"
      ]
     },
     "execution_count": 3,
     "metadata": {},
     "output_type": "execute_result"
    }
   ],
   "source": [
    "#Create 2017 data frames\n",
    "data2017=pd.read_csv(url2017,header=5,sep='|',error_bad_lines=False)\n",
    "data2017=data2017.drop(data2017.index[0]).reset_index(drop=True)\n",
    "data2017.columns=cols\n",
    "data2017[cols]=data2017[cols].apply(lambda x:x.str.strip()).replace(r'^\\s*$',np.nan,regex=True)\n",
    "data2017[datecols]=data2017[datecols].apply(pd.to_datetime,format='%Y-%m-%d %H:%M:%S',errors='coerce')\n",
    "data2017[numcols]=data2017[numcols].apply(pd.to_numeric,errors='coerce')\n",
    "top2017=data2017['sr type'].value_counts()[lambda x:x>=10000].index.tolist()\n",
    "data2017.shape"
   ]
  },
  {
   "cell_type": "code",
   "execution_count": 4,
   "metadata": {},
   "outputs": [
    {
     "name": "stderr",
     "output_type": "stream",
     "text": [
      "b'Skipping line 124864: expected 29 fields, saw 30\\n'\n",
      "C:\\Users\\phili\\Anaconda3\\lib\\site-packages\\IPython\\core\\interactiveshell.py:3058: DtypeWarning: Columns (22) have mixed types. Specify dtype option on import or set low_memory=False.\n",
      "  interactivity=interactivity, compiler=compiler, result=result)\n"
     ]
    },
    {
     "data": {
      "text/plain": [
       "(399955, 29)"
      ]
     },
     "execution_count": 4,
     "metadata": {},
     "output_type": "execute_result"
    }
   ],
   "source": [
    "#Create 2018 data frames\n",
    "data2018=pd.read_csv(url2018,header=5,sep='|',error_bad_lines=False)\n",
    "data2018=data2018.drop(data2018.index[0]).reset_index(drop=True)\n",
    "data2018.columns=cols\n",
    "data2018[cols]=data2018[cols].apply(lambda x:x.str.strip()).replace(r'^\\s*$',np.nan,regex=True)\n",
    "data2018[datecols]=data2018[datecols].apply(pd.to_datetime,format='%Y-%m-%d %H:%M:%S',errors='coerce')\n",
    "data2018[numcols]=data2018[numcols].apply(pd.to_numeric,errors='coerce')\n",
    "top2018=data2018['sr type'].value_counts()[lambda x:x>=10000].index.tolist()\n",
    "data2018.shape"
   ]
  },
  {
   "cell_type": "code",
   "execution_count": 5,
   "metadata": {},
   "outputs": [
    {
     "name": "stderr",
     "output_type": "stream",
     "text": [
      "b'Skipping line 86859: expected 29 fields, saw 31\\n'\n",
      "b'Skipping line 124913: expected 29 fields, saw 30\\n'\n",
      "b'Skipping line 144497: expected 29 fields, saw 30\\n'\n",
      "b'Skipping line 218652: expected 29 fields, saw 31\\n'\n",
      "b'Skipping line 349873: expected 29 fields, saw 30\\n'\n"
     ]
    },
    {
     "data": {
      "text/plain": [
       "(395258, 29)"
      ]
     },
     "execution_count": 5,
     "metadata": {},
     "output_type": "execute_result"
    }
   ],
   "source": [
    "#Create 2019 data frames\n",
    "data2019=pd.read_csv(url2019,header=5,sep='|',error_bad_lines=False)\n",
    "data2019=data2019.drop(data2019.index[0]).reset_index(drop=True)\n",
    "data2019.columns=cols\n",
    "data2019[cols]=data2019[cols].apply(lambda x:x.str.strip()).replace(r'^\\s*$',np.nan,regex=True)\n",
    "data2019[datecols]=data2019[datecols].apply(pd.to_datetime,format='%Y-%m-%d %H:%M:%S',errors='coerce')\n",
    "data2019[numcols]=data2019[numcols].apply(pd.to_numeric,errors='coerce')\n",
    "top2019=data2019['sr type'].value_counts()[lambda x:x>=10000].index.tolist()\n",
    "data2019.shape"
   ]
  },
  {
   "cell_type": "code",
   "execution_count": 6,
   "metadata": {},
   "outputs": [
    {
     "data": {
      "text/plain": [
       "(26987, 29)"
      ]
     },
     "execution_count": 6,
     "metadata": {},
     "output_type": "execute_result"
    }
   ],
   "source": [
    "#Create 2020 data frames\n",
    "data2020=pd.read_csv(url2020,header=5,sep='|',error_bad_lines=False)\n",
    "data2020=data2020.drop(data2020.index[0]).reset_index(drop=True)\n",
    "data2020.columns=cols\n",
    "data2020[cols]=data2020[cols].apply(lambda x:x.str.strip()).replace(r'^\\s*$',np.nan,regex=True)\n",
    "data2020[datecols]=data2020[datecols].apply(pd.to_datetime,format='%Y-%m-%d %H:%M:%S',errors='coerce')\n",
    "data2020[numcols]=data2020[numcols].apply(pd.to_numeric,errors='coerce')\n",
    "top2020=data2020['sr type'].value_counts()[lambda x:x>=10000].index.tolist()\n",
    "data2020.shape"
   ]
  },
  {
   "cell_type": "code",
   "execution_count": 7,
   "metadata": {},
   "outputs": [
    {
     "data": {
      "text/plain": [
       "(1094514, 35)"
      ]
     },
     "execution_count": 7,
     "metadata": {},
     "output_type": "execute_result"
    }
   ],
   "source": [
    "#Create all complete years dataframe\n",
    "tempdata311=data2017.append([data2018,data2019,data2020])\n",
    "data311=pd.merge(tempdata311,nullzip,on=['latitude','longitude'],how='left')\n",
    "data311['date']=data311['sr create date'].dt.strftime('%Y-%m-%d')\n",
    "data311['year']=data311['sr create date'].dt.strftime('%Y')\n",
    "data311['month']=data311['sr create date'].dt.strftime('%m')\n",
    "seasondict={'01':'winter','02':'winter','03':'spring','04':'spring','05':'spring','06':'summer',\n",
    "        '07':'summer','08':'summer','09':'fall','10':'fall','11':'fall','12':'winter','NaT':'none'}\n",
    "data311['season']=data311['month'].apply(season,args=(seasondict,))\n",
    "data311=data311[pd.notnull(data311['latitude'])]\n",
    "data311['date closed']=np.where(data311['date closed'].isnull()==True,opencaseclosedate,data311['date closed'])\n",
    "data311['truezip']='77'+data311['sr location'].str.extract(r'77(\\d{3}\\-?\\d{0,4})')\n",
    "data311['zipcode']=np.where(data311['truezip'].isnull()==True,data311['calczip'],data311['truezip'])\n",
    "data311['openclosetime']=data311['date closed']-data311['sr create date']\n",
    "data311['daystoclose']=data311['openclosetime']/timedelta(days=1)\n",
    "data311['openduetime']=data311['due date']-data311['sr create date']\n",
    "data311['daysdue']=data311['openduetime']/timedelta(days=1)\n",
    "data311['missedduedate']=np.where(data311['due date']>data311['date closed'],0,1)\n",
    "data311.drop(['x','y','calczip','truezip','openclosetime','openduetime'],axis=1,inplace=True)\n",
    "types311=data311.groupby(['sr type','year'])['case number'].count().unstack('year').reset_index()\n",
    "types311.columns=['sr type','2017','2018','2019','2020']\n",
    "data311.shape"
   ]
  },
  {
   "cell_type": "code",
   "execution_count": 8,
   "metadata": {},
   "outputs": [],
   "source": [
    "#Create dataframe containing service requests with around 10000 a year\n",
    "toprequests=sorted(np.unique(top2017+top2018+top2019+top2020))\n",
    "topdata=data311.loc[data311['sr type'].isin(toprequests)].reset_index()\n",
    "topdata.drop(['index'],axis=1,inplace=True)"
   ]
  },
  {
   "cell_type": "code",
   "execution_count": 9,
   "metadata": {},
   "outputs": [
    {
     "data": {
      "text/plain": [
       "['Container Problem',\n",
       " 'Drainage',\n",
       " 'Missed Garbage Pickup',\n",
       " 'Missed Heavy Trash Pickup',\n",
       " 'Missed Recycling Pickup',\n",
       " 'Nuisance On Property',\n",
       " 'SWM Escalation',\n",
       " 'Sewer Wastewater',\n",
       " 'Storm Debris Collection',\n",
       " 'Street Condition',\n",
       " 'Street Hazard',\n",
       " 'Traffic Signal Maintenance',\n",
       " 'Traffic Signs',\n",
       " 'Water Leak',\n",
       " 'Water Service']"
      ]
     },
     "execution_count": 9,
     "metadata": {},
     "output_type": "execute_result"
    }
   ],
   "source": [
    "toprequests"
   ]
  },
  {
   "cell_type": "code",
   "execution_count": 10,
   "metadata": {},
   "outputs": [],
   "source": [
    "#Create csv of number of service requests by type per year\n",
    "types311.to_csv('../Clean Data Files/Houston 311 SR Types by Year.csv',index=False,header=True)"
   ]
  },
  {
   "cell_type": "code",
   "execution_count": 11,
   "metadata": {},
   "outputs": [
    {
     "data": {
      "text/plain": [
       "case number                 0\n",
       "sr location                 0\n",
       "county                   2034\n",
       "district                 2949\n",
       "neighborhood             3975\n",
       "tax id                   2024\n",
       "trash quad             112208\n",
       "recycle quad           114424\n",
       "trash day              112208\n",
       "heavy trash day        112794\n",
       "recycle day            114422\n",
       "key map                     0\n",
       "management district    392317\n",
       "department                  0\n",
       "division                    0\n",
       "sr type                     0\n",
       "queue                       0\n",
       "sla                         0\n",
       "status                      0\n",
       "sr create date              0\n",
       "due date                    6\n",
       "date closed                 0\n",
       "overdue                  5037\n",
       "title                       0\n",
       "latitude                    0\n",
       "longitude                   0\n",
       "channel type                0\n",
       "date                        0\n",
       "year                        0\n",
       "month                       0\n",
       "season                      0\n",
       "zipcode                   393\n",
       "daystoclose                 0\n",
       "daysdue                     6\n",
       "missedduedate               0\n",
       "dtype: int64"
      ]
     },
     "execution_count": 11,
     "metadata": {},
     "output_type": "execute_result"
    }
   ],
   "source": [
    "#Display null values in dataset\n",
    "topdata.isnull().sum()"
   ]
  },
  {
   "cell_type": "code",
   "execution_count": 12,
   "metadata": {},
   "outputs": [
    {
     "data": {
      "text/html": [
       "<div>\n",
       "<style scoped>\n",
       "    .dataframe tbody tr th:only-of-type {\n",
       "        vertical-align: middle;\n",
       "    }\n",
       "\n",
       "    .dataframe tbody tr th {\n",
       "        vertical-align: top;\n",
       "    }\n",
       "\n",
       "    .dataframe thead th {\n",
       "        text-align: right;\n",
       "    }\n",
       "</style>\n",
       "<table border=\"1\" class=\"dataframe\">\n",
       "  <thead>\n",
       "    <tr style=\"text-align: right;\">\n",
       "      <th></th>\n",
       "      <th>latitude</th>\n",
       "      <th>longitude</th>\n",
       "    </tr>\n",
       "  </thead>\n",
       "  <tbody>\n",
       "    <tr>\n",
       "      <td>0</td>\n",
       "      <td>29.736628</td>\n",
       "      <td>-95.581200</td>\n",
       "    </tr>\n",
       "    <tr>\n",
       "      <td>1</td>\n",
       "      <td>29.675718</td>\n",
       "      <td>-95.232803</td>\n",
       "    </tr>\n",
       "    <tr>\n",
       "      <td>2</td>\n",
       "      <td>29.739761</td>\n",
       "      <td>-95.378532</td>\n",
       "    </tr>\n",
       "    <tr>\n",
       "      <td>4</td>\n",
       "      <td>29.665729</td>\n",
       "      <td>-95.469205</td>\n",
       "    </tr>\n",
       "    <tr>\n",
       "      <td>6</td>\n",
       "      <td>29.841055</td>\n",
       "      <td>-95.416438</td>\n",
       "    </tr>\n",
       "    <tr>\n",
       "      <td>7</td>\n",
       "      <td>29.761276</td>\n",
       "      <td>-95.366600</td>\n",
       "    </tr>\n",
       "    <tr>\n",
       "      <td>9</td>\n",
       "      <td>29.866869</td>\n",
       "      <td>-95.300560</td>\n",
       "    </tr>\n",
       "    <tr>\n",
       "      <td>13</td>\n",
       "      <td>29.598766</td>\n",
       "      <td>-95.197990</td>\n",
       "    </tr>\n",
       "    <tr>\n",
       "      <td>15</td>\n",
       "      <td>29.773882</td>\n",
       "      <td>-95.307419</td>\n",
       "    </tr>\n",
       "    <tr>\n",
       "      <td>16</td>\n",
       "      <td>29.724491</td>\n",
       "      <td>-95.438095</td>\n",
       "    </tr>\n",
       "    <tr>\n",
       "      <td>18</td>\n",
       "      <td>29.734184</td>\n",
       "      <td>-95.329773</td>\n",
       "    </tr>\n",
       "    <tr>\n",
       "      <td>21</td>\n",
       "      <td>29.746372</td>\n",
       "      <td>-95.365669</td>\n",
       "    </tr>\n",
       "    <tr>\n",
       "      <td>22</td>\n",
       "      <td>29.742993</td>\n",
       "      <td>-95.381043</td>\n",
       "    </tr>\n",
       "    <tr>\n",
       "      <td>24</td>\n",
       "      <td>29.749977</td>\n",
       "      <td>-95.482643</td>\n",
       "    </tr>\n",
       "    <tr>\n",
       "      <td>25</td>\n",
       "      <td>30.020278</td>\n",
       "      <td>-95.380115</td>\n",
       "    </tr>\n",
       "    <tr>\n",
       "      <td>29</td>\n",
       "      <td>29.621023</td>\n",
       "      <td>-95.430779</td>\n",
       "    </tr>\n",
       "    <tr>\n",
       "      <td>30</td>\n",
       "      <td>29.673988</td>\n",
       "      <td>-95.234650</td>\n",
       "    </tr>\n",
       "    <tr>\n",
       "      <td>32</td>\n",
       "      <td>29.739574</td>\n",
       "      <td>-95.379967</td>\n",
       "    </tr>\n",
       "    <tr>\n",
       "      <td>34</td>\n",
       "      <td>29.592073</td>\n",
       "      <td>-95.222267</td>\n",
       "    </tr>\n",
       "    <tr>\n",
       "      <td>46</td>\n",
       "      <td>29.833198</td>\n",
       "      <td>-95.308475</td>\n",
       "    </tr>\n",
       "    <tr>\n",
       "      <td>51</td>\n",
       "      <td>29.754627</td>\n",
       "      <td>-95.362915</td>\n",
       "    </tr>\n",
       "    <tr>\n",
       "      <td>52</td>\n",
       "      <td>29.581255</td>\n",
       "      <td>-95.133919</td>\n",
       "    </tr>\n",
       "    <tr>\n",
       "      <td>53</td>\n",
       "      <td>29.803808</td>\n",
       "      <td>-95.410149</td>\n",
       "    </tr>\n",
       "    <tr>\n",
       "      <td>61</td>\n",
       "      <td>29.862051</td>\n",
       "      <td>-95.505585</td>\n",
       "    </tr>\n",
       "    <tr>\n",
       "      <td>63</td>\n",
       "      <td>29.750307</td>\n",
       "      <td>-95.374016</td>\n",
       "    </tr>\n",
       "    <tr>\n",
       "      <td>69</td>\n",
       "      <td>29.833004</td>\n",
       "      <td>-95.345444</td>\n",
       "    </tr>\n",
       "    <tr>\n",
       "      <td>71</td>\n",
       "      <td>29.810619</td>\n",
       "      <td>-95.461334</td>\n",
       "    </tr>\n",
       "    <tr>\n",
       "      <td>78</td>\n",
       "      <td>29.731730</td>\n",
       "      <td>-95.436386</td>\n",
       "    </tr>\n",
       "    <tr>\n",
       "      <td>101</td>\n",
       "      <td>29.770477</td>\n",
       "      <td>-95.414375</td>\n",
       "    </tr>\n",
       "    <tr>\n",
       "      <td>110</td>\n",
       "      <td>29.745361</td>\n",
       "      <td>-95.363975</td>\n",
       "    </tr>\n",
       "    <tr>\n",
       "      <td>161</td>\n",
       "      <td>29.736153</td>\n",
       "      <td>-95.378830</td>\n",
       "    </tr>\n",
       "    <tr>\n",
       "      <td>162</td>\n",
       "      <td>29.737501</td>\n",
       "      <td>-95.370194</td>\n",
       "    </tr>\n",
       "    <tr>\n",
       "      <td>192</td>\n",
       "      <td>29.754208</td>\n",
       "      <td>-95.359467</td>\n",
       "    </tr>\n",
       "    <tr>\n",
       "      <td>278</td>\n",
       "      <td>29.730812</td>\n",
       "      <td>-95.436386</td>\n",
       "    </tr>\n",
       "    <tr>\n",
       "      <td>386</td>\n",
       "      <td>29.641823</td>\n",
       "      <td>-95.442795</td>\n",
       "    </tr>\n",
       "    <tr>\n",
       "      <td>391</td>\n",
       "      <td>29.702979</td>\n",
       "      <td>-95.352570</td>\n",
       "    </tr>\n",
       "  </tbody>\n",
       "</table>\n",
       "</div>"
      ],
      "text/plain": [
       "      latitude  longitude\n",
       "0    29.736628 -95.581200\n",
       "1    29.675718 -95.232803\n",
       "2    29.739761 -95.378532\n",
       "4    29.665729 -95.469205\n",
       "6    29.841055 -95.416438\n",
       "7    29.761276 -95.366600\n",
       "9    29.866869 -95.300560\n",
       "13   29.598766 -95.197990\n",
       "15   29.773882 -95.307419\n",
       "16   29.724491 -95.438095\n",
       "18   29.734184 -95.329773\n",
       "21   29.746372 -95.365669\n",
       "22   29.742993 -95.381043\n",
       "24   29.749977 -95.482643\n",
       "25   30.020278 -95.380115\n",
       "29   29.621023 -95.430779\n",
       "30   29.673988 -95.234650\n",
       "32   29.739574 -95.379967\n",
       "34   29.592073 -95.222267\n",
       "46   29.833198 -95.308475\n",
       "51   29.754627 -95.362915\n",
       "52   29.581255 -95.133919\n",
       "53   29.803808 -95.410149\n",
       "61   29.862051 -95.505585\n",
       "63   29.750307 -95.374016\n",
       "69   29.833004 -95.345444\n",
       "71   29.810619 -95.461334\n",
       "78   29.731730 -95.436386\n",
       "101  29.770477 -95.414375\n",
       "110  29.745361 -95.363975\n",
       "161  29.736153 -95.378830\n",
       "162  29.737501 -95.370194\n",
       "192  29.754208 -95.359467\n",
       "278  29.730812 -95.436386\n",
       "386  29.641823 -95.442795\n",
       "391  29.702979 -95.352570"
      ]
     },
     "execution_count": 12,
     "metadata": {},
     "output_type": "execute_result"
    }
   ],
   "source": [
    "#Create dataframe of missing zipcodes\n",
    "missingzip=topdata[topdata.zipcode.isnull()]\n",
    "missingzip=missingzip[['latitude','longitude']].reset_index()\n",
    "missingzip.drop(['index'],axis=1,inplace=True)\n",
    "missingzip.drop_duplicates(inplace=True)\n",
    "missingzip"
   ]
  },
  {
   "cell_type": "code",
   "execution_count": 13,
   "metadata": {},
   "outputs": [],
   "source": [
    "#Get missing zipcodes\n",
    "#zipmiss=missingzip[0:5000]\n",
    "missingzip['calczip']=np.vectorize(zipinfo)(missingzip['latitude'].values,missingzip['longitude'].values)"
   ]
  },
  {
   "cell_type": "code",
   "execution_count": 14,
   "metadata": {},
   "outputs": [
    {
     "data": {
      "text/html": [
       "<div>\n",
       "<style scoped>\n",
       "    .dataframe tbody tr th:only-of-type {\n",
       "        vertical-align: middle;\n",
       "    }\n",
       "\n",
       "    .dataframe tbody tr th {\n",
       "        vertical-align: top;\n",
       "    }\n",
       "\n",
       "    .dataframe thead th {\n",
       "        text-align: right;\n",
       "    }\n",
       "</style>\n",
       "<table border=\"1\" class=\"dataframe\">\n",
       "  <thead>\n",
       "    <tr style=\"text-align: right;\">\n",
       "      <th></th>\n",
       "      <th>latitude</th>\n",
       "      <th>longitude</th>\n",
       "      <th>calczip</th>\n",
       "    </tr>\n",
       "  </thead>\n",
       "  <tbody>\n",
       "  </tbody>\n",
       "</table>\n",
       "</div>"
      ],
      "text/plain": [
       "Empty DataFrame\n",
       "Columns: [latitude, longitude, calczip]\n",
       "Index: []"
      ]
     },
     "execution_count": 14,
     "metadata": {},
     "output_type": "execute_result"
    }
   ],
   "source": [
    "#Check for zips that cannot be coded\n",
    "nonezips=missingzip.loc[missingzip['calczip']=='None']\n",
    "nonezips"
   ]
  },
  {
   "cell_type": "code",
   "execution_count": 15,
   "metadata": {},
   "outputs": [
    {
     "data": {
      "text/plain": [
       "(17248, 3)"
      ]
     },
     "execution_count": 15,
     "metadata": {},
     "output_type": "execute_result"
    }
   ],
   "source": [
    "#Check nullzip file size\n",
    "nullzip.shape"
   ]
  },
  {
   "cell_type": "code",
   "execution_count": 16,
   "metadata": {},
   "outputs": [
    {
     "data": {
      "text/plain": [
       "(36, 3)"
      ]
     },
     "execution_count": 16,
     "metadata": {},
     "output_type": "execute_result"
    }
   ],
   "source": [
    "#Check missingzip file size\n",
    "missingzip.shape"
   ]
  },
  {
   "cell_type": "code",
   "execution_count": 17,
   "metadata": {},
   "outputs": [
    {
     "data": {
      "text/plain": [
       "(16237, 3)"
      ]
     },
     "execution_count": 17,
     "metadata": {},
     "output_type": "execute_result"
    }
   ],
   "source": [
    "#Append and verify newnullzip file size\n",
    "newnullzip=nullzip.append([missingzip],sort=False)\n",
    "newnullzip.drop_duplicates(inplace=True)\n",
    "newnullzip.shape"
   ]
  },
  {
   "cell_type": "code",
   "execution_count": 18,
   "metadata": {},
   "outputs": [],
   "source": [
    "#Create updated zip csv file\n",
    "#newnullzip.to_csv('../Clean Data Files/311latlngzipcodes.csv',index=False,header=True)"
   ]
  },
  {
   "cell_type": "code",
   "execution_count": 19,
   "metadata": {},
   "outputs": [
    {
     "data": {
      "text/plain": [
       "(17284, 3)"
      ]
     },
     "execution_count": 19,
     "metadata": {},
     "output_type": "execute_result"
    }
   ],
   "source": [
    "dups=nullzip.append([missingzip],sort=False)\n",
    "dups.duplicated()\n",
    "dups.shape"
   ]
  },
  {
   "cell_type": "code",
   "execution_count": 20,
   "metadata": {},
   "outputs": [],
   "source": [
    "#Create updated zip csv file\n",
    "#dups.to_csv('../Clean Data Files/311latlngzipcodes.csv',index=False,header=True)"
   ]
  },
  {
   "cell_type": "code",
   "execution_count": 21,
   "metadata": {},
   "outputs": [
    {
     "data": {
      "text/plain": [
       "(16237, 3)"
      ]
     },
     "execution_count": 21,
     "metadata": {},
     "output_type": "execute_result"
    }
   ],
   "source": [
    "check=dups[['latitude', 'longitude', 'calczip']]\n",
    "check.drop_duplicates(inplace=True)\n",
    "check.shape"
   ]
  },
  {
   "cell_type": "code",
   "execution_count": 22,
   "metadata": {},
   "outputs": [
    {
     "data": {
      "text/html": [
       "<div>\n",
       "<style scoped>\n",
       "    .dataframe tbody tr th:only-of-type {\n",
       "        vertical-align: middle;\n",
       "    }\n",
       "\n",
       "    .dataframe tbody tr th {\n",
       "        vertical-align: top;\n",
       "    }\n",
       "\n",
       "    .dataframe thead th {\n",
       "        text-align: right;\n",
       "    }\n",
       "</style>\n",
       "<table border=\"1\" class=\"dataframe\">\n",
       "  <thead>\n",
       "    <tr style=\"text-align: right;\">\n",
       "      <th></th>\n",
       "      <th>zipcode</th>\n",
       "      <th>polygons</th>\n",
       "    </tr>\n",
       "  </thead>\n",
       "  <tbody>\n",
       "    <tr>\n",
       "      <td>0</td>\n",
       "      <td>77002</td>\n",
       "      <td>[[[-95.388083, 29.729348], [-95.388223, 29.729...</td>\n",
       "    </tr>\n",
       "    <tr>\n",
       "      <td>1</td>\n",
       "      <td>77003</td>\n",
       "      <td>[[-95.363636, 29.747351], [-95.363053, 29.7480...</td>\n",
       "    </tr>\n",
       "    <tr>\n",
       "      <td>2</td>\n",
       "      <td>77004</td>\n",
       "      <td>[[[-95.372277, 29.746044], [-95.371729, 29.746...</td>\n",
       "    </tr>\n",
       "    <tr>\n",
       "      <td>3</td>\n",
       "      <td>77005</td>\n",
       "      <td>[[-95.44781, 29.725236], [-95.447869, 29.72711...</td>\n",
       "    </tr>\n",
       "    <tr>\n",
       "      <td>4</td>\n",
       "      <td>77006</td>\n",
       "      <td>[[-95.402073, 29.72665], [-95.402082, 29.72783...</td>\n",
       "    </tr>\n",
       "    <tr>\n",
       "      <td>...</td>\n",
       "      <td>...</td>\n",
       "      <td>...</td>\n",
       "    </tr>\n",
       "    <tr>\n",
       "      <td>314</td>\n",
       "      <td>77983</td>\n",
       "      <td>[[[-96.622859, 28.273454], [-96.622728, 28.273...</td>\n",
       "    </tr>\n",
       "    <tr>\n",
       "      <td>315</td>\n",
       "      <td>77984</td>\n",
       "      <td>[[-97.235916, 29.380135], [-97.236357, 29.3805...</td>\n",
       "    </tr>\n",
       "    <tr>\n",
       "      <td>316</td>\n",
       "      <td>77990</td>\n",
       "      <td>[[-97.00638, 28.498274], [-97.004785, 28.49758...</td>\n",
       "    </tr>\n",
       "    <tr>\n",
       "      <td>317</td>\n",
       "      <td>77994</td>\n",
       "      <td>[[-97.493419, 29.199753], [-97.493222, 29.1998...</td>\n",
       "    </tr>\n",
       "    <tr>\n",
       "      <td>318</td>\n",
       "      <td>77995</td>\n",
       "      <td>[[-96.950765, 29.199429], [-96.949955, 29.1997...</td>\n",
       "    </tr>\n",
       "  </tbody>\n",
       "</table>\n",
       "<p>319 rows × 2 columns</p>\n",
       "</div>"
      ],
      "text/plain": [
       "    zipcode                                           polygons\n",
       "0     77002  [[[-95.388083, 29.729348], [-95.388223, 29.729...\n",
       "1     77003  [[-95.363636, 29.747351], [-95.363053, 29.7480...\n",
       "2     77004  [[[-95.372277, 29.746044], [-95.371729, 29.746...\n",
       "3     77005  [[-95.44781, 29.725236], [-95.447869, 29.72711...\n",
       "4     77006  [[-95.402073, 29.72665], [-95.402082, 29.72783...\n",
       "..      ...                                                ...\n",
       "314   77983  [[[-96.622859, 28.273454], [-96.622728, 28.273...\n",
       "315   77984  [[-97.235916, 29.380135], [-97.236357, 29.3805...\n",
       "316   77990  [[-97.00638, 28.498274], [-97.004785, 28.49758...\n",
       "317   77994  [[-97.493419, 29.199753], [-97.493222, 29.1998...\n",
       "318   77995  [[-96.950765, 29.199429], [-96.949955, 29.1997...\n",
       "\n",
       "[319 rows x 2 columns]"
      ]
     },
     "execution_count": 22,
     "metadata": {},
     "output_type": "execute_result"
    }
   ],
   "source": [
    "#Create Houston zipcode file\n",
    "zips=[]\n",
    "polygons=[]\n",
    "hzips=search.by_prefix('77',returns=0)\n",
    "for zipcode in hzips:\n",
    "        zips.append(zipcode.zipcode)\n",
    "        polygons.append(zipcode.polygon)\n",
    "        \n",
    "hzips_dict={'zipcode':zips,'polygons':polygons}\n",
    "htownzips=pd.DataFrame(hzips_dict)\n",
    "htownzips"
   ]
  },
  {
   "cell_type": "code",
   "execution_count": 23,
   "metadata": {},
   "outputs": [
    {
     "data": {
      "text/plain": [
       "Zipcode(zipcode_type='Standard', major_city='Houston', post_office_city='Houston, TX', common_city_list=['Houston'], county='Harris County', state='TX', lat=29.75, lng=-95.35, timezone='Central', radius_in_miles=1.0, area_code_list=['713'], population=10508, population_density=4144.0, land_area_in_sqmi=2.54, water_area_in_sqmi=0.03, housing_units=4713, occupied_housing_units=3894, median_home_value=162600, median_household_income=36412, bounds_west=-95.367436, bounds_east=-95.326427, bounds_north=29.766512, bounds_south=29.731823, zipcode='77003', polygon=[[-95.363636, 29.747351], [-95.363053, 29.748099], [-95.3639, 29.748618], [-95.363295, 29.749371], [-95.362703, 29.750121], [-95.361864, 29.749602], [-95.36126, 29.75033], [-95.362115, 29.750862], [-95.361526, 29.751601], [-95.360936, 29.752343], [-95.360632, 29.752754], [-95.360581, 29.7525], [-95.360496, 29.752278], [-95.360416, 29.75214], [-95.36011, 29.751913], [-95.360057, 29.751883], [-95.360013, 29.751858], [-95.359487, 29.751559], [-95.359564, 29.751463], [-95.360114, 29.750754], [-95.359812, 29.750574], [-95.358965, 29.750048], [-95.358691, 29.749885], [-95.358578, 29.749818], [-95.358489, 29.749765], [-95.357839, 29.750476], [-95.35781, 29.750506], [-95.357224, 29.751235], [-95.35666, 29.751936], [-95.356409, 29.752248], [-95.356027, 29.752723], [-95.355659, 29.753184], [-95.35545, 29.753446], [-95.355671, 29.753582], [-95.355302, 29.754044], [-95.355304, 29.754137], [-95.355349, 29.754255], [-95.355403, 29.754311], [-95.355523, 29.754388], [-95.355997, 29.753782], [-95.356847, 29.75429], [-95.357162, 29.754483], [-95.357715, 29.754824], [-95.357114, 29.755561], [-95.356574, 29.755241], [-95.355967, 29.756013], [-95.355648, 29.755824], [-95.354789, 29.755316], [-95.35454, 29.755165], [-95.354229, 29.754977], [-95.354038, 29.755232], [-95.353642, 29.75576], [-95.353555, 29.755875], [-95.353362, 29.7561], [-95.353025, 29.756493], [-95.352847, 29.756386], [-95.352716, 29.756307], [-95.351878, 29.755803], [-95.352384, 29.755171], [-95.352473, 29.75506], [-95.352728, 29.754742], [-95.352793, 29.754661], [-95.35283, 29.754614], [-95.353071, 29.75428], [-95.352394, 29.753863], [-95.352318, 29.753816], [-95.352205, 29.753761], [-95.352127, 29.75381], [-95.352017, 29.753999], [-95.35192, 29.754156], [-95.351621, 29.754543], [-95.351019, 29.755273], [-95.350405, 29.756048], [-95.349823, 29.756778], [-95.349509, 29.757167], [-95.349344, 29.757373], [-95.349196, 29.757556], [-95.349008, 29.757448], [-95.348685, 29.757261], [-95.348549, 29.75718], [-95.347149, 29.756343], [-95.346749, 29.756855], [-95.346103, 29.757694], [-95.346391, 29.757859], [-95.34671, 29.758047], [-95.347436, 29.758467], [-95.347829, 29.758291], [-95.34826, 29.758116], [-95.349166, 29.757764], [-95.349197, 29.757751], [-95.34916, 29.758356], [-95.34877, 29.759284], [-95.349501, 29.759723], [-95.349526, 29.759738], [-95.349699, 29.759848], [-95.349774, 29.759918], [-95.349809, 29.760026], [-95.349957, 29.759841], [-95.350303, 29.759372], [-95.350386, 29.759415], [-95.350703, 29.759095], [-95.35043, 29.759439], [-95.350594, 29.759526], [-95.350466, 29.759696], [-95.350335, 29.759911], [-95.350226, 29.760109], [-95.350157, 29.760294], [-95.350065, 29.76054], [-95.349999, 29.760785], [-95.349958, 29.761095], [-95.349922, 29.761364], [-95.349922, 29.761809], [-95.349922, 29.762182], [-95.349895, 29.762733], [-95.349854, 29.763192], [-95.349754, 29.763622], [-95.349658, 29.763946], [-95.349432, 29.764473], [-95.349259, 29.764774], [-95.349041, 29.765104], [-95.348995, 29.765176], [-95.348776, 29.765452], [-95.348501, 29.765775], [-95.348247, 29.766048], [-95.347869, 29.76636], [-95.347778, 29.766435], [-95.347678, 29.766512], [-95.347578, 29.7665], [-95.347552, 29.766496], [-95.347478, 29.766487], [-95.347393, 29.766475], [-95.347379, 29.766474], [-95.347322, 29.766444], [-95.347015, 29.766282], [-95.34678, 29.766159], [-95.346661, 29.76589], [-95.346604, 29.76557], [-95.346613, 29.765313], [-95.346663, 29.763883], [-95.346606, 29.762626], [-95.346567, 29.762523], [-95.346451, 29.7624], [-95.346357, 29.762301], [-95.345843, 29.762003], [-95.34544, 29.761974], [-95.345145, 29.761952], [-95.343884, 29.762144], [-95.343431, 29.762158], [-95.34329, 29.762133], [-95.342661, 29.762024], [-95.341476, 29.761516], [-95.341009, 29.761368], [-95.34064, 29.761335], [-95.340444, 29.761365], [-95.33986, 29.761455], [-95.338569, 29.762093], [-95.337927, 29.762215], [-95.337641, 29.762186], [-95.337298, 29.762094], [-95.336023, 29.761752], [-95.335497, 29.761723], [-95.334621, 29.761676], [-95.333937, 29.761537], [-95.33382, 29.761477], [-95.333542, 29.761335], [-95.333476, 29.761211], [-95.333371, 29.761012], [-95.33338, 29.760875], [-95.333459, 29.759682], [-95.333459, 29.759286], [-95.333406, 29.759076], [-95.333273, 29.758812], [-95.333103, 29.758608], [-95.332865, 29.758465], [-95.332559, 29.758358], [-95.332235, 29.758409], [-95.331927, 29.758512], [-95.331548, 29.75873], [-95.331378, 29.758853], [-95.330466, 29.759509], [-95.329914, 29.759724], [-95.329637, 29.759832], [-95.328867, 29.759838], [-95.328981, 29.759716], [-95.32904, 29.759648], [-95.329091, 29.75959], [-95.329836, 29.75874], [-95.330251, 29.758227], [-95.330794, 29.757507], [-95.330884, 29.757396], [-95.330206, 29.756997], [-95.32841, 29.755943], [-95.328862, 29.755349], [-95.329224, 29.754894], [-95.32937, 29.754689], [-95.328641, 29.754465], [-95.328611, 29.754455], [-95.327748, 29.754185], [-95.327563, 29.75413], [-95.32704, 29.753958], [-95.326427, 29.753769], [-95.327619, 29.75234], [-95.327889, 29.75249], [-95.32809, 29.752602], [-95.32884, 29.753052], [-95.329331, 29.75242], [-95.32977, 29.751865], [-95.330124, 29.751412], [-95.329519, 29.751213], [-95.329496, 29.751182], [-95.329492, 29.751146], [-95.329497, 29.751118], [-95.330087, 29.750321], [-95.329428, 29.750116], [-95.330236, 29.749044], [-95.33051, 29.749132], [-95.330945, 29.748091], [-95.330738, 29.748007], [-95.330581, 29.747928], [-95.330419, 29.747841], [-95.330203, 29.747703], [-95.330541, 29.746869], [-95.330998, 29.747013], [-95.331342, 29.747121], [-95.331755, 29.746116], [-95.331863, 29.745854], [-95.331735, 29.745824], [-95.331599, 29.745804], [-95.331283, 29.745715], [-95.331806, 29.745002], [-95.332065, 29.744623], [-95.332295, 29.744321], [-95.332319, 29.744269], [-95.332327, 29.744206], [-95.33292, 29.743456], [-95.333106, 29.743227], [-95.333109, 29.743215], [-95.333599, 29.743365], [-95.334054, 29.743505], [-95.33421, 29.743557], [-95.33418, 29.743593], [-95.335177, 29.743984], [-95.336192, 29.744368], [-95.336294, 29.744226], [-95.337395, 29.744517], [-95.338415, 29.744865], [-95.339462, 29.745164], [-95.338977, 29.745793], [-95.339638, 29.746188], [-95.340204, 29.74544], [-95.340226, 29.745409], [-95.341, 29.745645], [-95.341988, 29.745957], [-95.342327, 29.745538], [-95.342821, 29.744918], [-95.3429, 29.744813], [-95.342883, 29.74477], [-95.343101, 29.744478], [-95.342903, 29.744149], [-95.342737, 29.743778], [-95.342703, 29.743717], [-95.342417, 29.742924], [-95.342066, 29.741893], [-95.341832, 29.74126], [-95.34165, 29.740788], [-95.341361, 29.739915], [-95.341298, 29.739731], [-95.340605, 29.737685], [-95.339807, 29.737441], [-95.340212, 29.736457], [-95.340225, 29.736425], [-95.340496, 29.735744], [-95.340599, 29.735463], [-95.341111, 29.734175], [-95.341479, 29.733246], [-95.341562, 29.733053], [-95.341749, 29.732576], [-95.341924, 29.732173], [-95.341995, 29.732], [-95.342067, 29.731823], [-95.342282, 29.731988], [-95.342743, 29.732342], [-95.343094, 29.732617], [-95.344943, 29.734066], [-95.345187, 29.734243], [-95.345549, 29.734505], [-95.345964, 29.734806], [-95.346989, 29.735469], [-95.347292, 29.735664], [-95.347421, 29.735748], [-95.349024, 29.736784], [-95.349679, 29.737192], [-95.350916, 29.737963], [-95.351558, 29.738363], [-95.351677, 29.738437], [-95.351722, 29.738466], [-95.352716, 29.73911], [-95.354949, 29.740549], [-95.355126, 29.740573], [-95.355425, 29.740614], [-95.355881, 29.740676], [-95.356265, 29.740728], [-95.356627, 29.740277], [-95.356636, 29.740245], [-95.35661, 29.740219], [-95.356533, 29.740166], [-95.355976, 29.739835], [-95.356068, 29.739577], [-95.356125, 29.739436], [-95.35684, 29.739849], [-95.357743, 29.740433], [-95.358028, 29.74008], [-95.358312, 29.739728], [-95.357457, 29.7392], [-95.35803, 29.738484], [-95.358899, 29.73898], [-95.359752, 29.739513], [-95.360596, 29.74003], [-95.361419, 29.740532], [-95.361522, 29.740594], [-95.362304, 29.74106], [-95.363048, 29.740149], [-95.363875, 29.740646], [-95.363159, 29.741568], [-95.363735, 29.741905], [-95.363473, 29.74234], [-95.36341, 29.742526], [-95.362938, 29.743272], [-95.362784, 29.743516], [-95.362999, 29.743648], [-95.363065, 29.74369], [-95.363432, 29.743917], [-95.363017, 29.744435], [-95.362841, 29.744663], [-95.362684, 29.744865], [-95.362752, 29.744893], [-95.362975, 29.744983], [-95.363112, 29.744823], [-95.363288, 29.744567], [-95.363706, 29.744082], [-95.363954, 29.74379], [-95.364033, 29.743697], [-95.364498, 29.743116], [-95.364889, 29.742626], [-95.365728, 29.743114], [-95.366577, 29.743629], [-95.367436, 29.744123], [-95.36685, 29.744887], [-95.365992, 29.744368], [-95.36542, 29.745118], [-95.366262, 29.745624], [-95.365877, 29.746109], [-95.365034, 29.745584], [-95.364935, 29.745709], [-95.364898, 29.745756], [-95.36481, 29.745868], [-95.364228, 29.746596], [-95.363636, 29.747351]], population_by_year=[{'key': 'Data', 'values': [{'x': 2005, 'y': 6774}, {'x': 2006, 'y': 7076}, {'x': 2007, 'y': 7830}, {'x': 2008, 'y': 7638}, {'x': 2009, 'y': 8189}, {'x': 2010, 'y': 8548}, {'x': 2011, 'y': 9228}, {'x': 2012, 'y': 8710}, {'x': 2013, 'y': 8840}, {'x': 2014, 'y': 8600}, {'x': 2015, 'y': 8760}]}], population_by_age=[{'key': 'Male', 'values': [{'x': 'Under 5', 'y': 351}, {'x': '5-9', 'y': 336}, {'x': '10-14', 'y': 268}, {'x': '15-19', 'y': 316}, {'x': '20-24', 'y': 451}, {'x': '25-29', 'y': 780}, {'x': '30-34', 'y': 603}, {'x': '35-39', 'y': 435}, {'x': '40-44', 'y': 383}, {'x': '45-49', 'y': 469}, {'x': '50-54', 'y': 449}, {'x': '55-59', 'y': 337}, {'x': '60-64', 'y': 219}, {'x': '65-69', 'y': 123}, {'x': '70-74', 'y': 72}, {'x': '75-79', 'y': 49}, {'x': '80-84', 'y': 48}, {'x': '85 Plus', 'y': 20}]}, {'key': 'Female', 'values': [{'x': 'Under 5', 'y': 380}, {'x': '5-9', 'y': 337}, {'x': '10-14', 'y': 291}, {'x': '15-19', 'y': 284}, {'x': '20-24', 'y': 429}, {'x': '25-29', 'y': 604}, {'x': '30-34', 'y': 495}, {'x': '35-39', 'y': 335}, {'x': '40-44', 'y': 292}, {'x': '45-49', 'y': 293}, {'x': '50-54', 'y': 272}, {'x': '55-59', 'y': 213}, {'x': '60-64', 'y': 191}, {'x': '65-69', 'y': 109}, {'x': '70-74', 'y': 89}, {'x': '75-79', 'y': 61}, {'x': '80-84', 'y': 65}, {'x': '85 Plus', 'y': 59}]}, {'key': 'Total', 'values': [{'x': 'Under 5', 'y': 731}, {'x': '5-9', 'y': 673}, {'x': '10-14', 'y': 559}, {'x': '15-19', 'y': 600}, {'x': '20-24', 'y': 880}, {'x': '25-29', 'y': 1384}, {'x': '30-34', 'y': 1098}, {'x': '35-39', 'y': 770}, {'x': '40-44', 'y': 675}, {'x': '45-49', 'y': 762}, {'x': '50-54', 'y': 721}, {'x': '55-59', 'y': 550}, {'x': '60-64', 'y': 410}, {'x': '65-69', 'y': 232}, {'x': '70-74', 'y': 161}, {'x': '75-79', 'y': 110}, {'x': '80-84', 'y': 113}, {'x': '85 Plus', 'y': 79}], 'color': '#000000'}], population_by_gender=[{'key': 'Data', 'values': [{'x': 'Male', 'y': 5709}, {'x': 'Female', 'y': 4799}]}], population_by_race=[{'key': 'Data', 'values': [{'x': 'White', 'y': 5206}, {'x': 'Black Or African American', 'y': 2757}, {'x': 'American Indian Or Alaskan Native', 'y': 49}, {'x': 'Asian', 'y': 274}, {'x': 'Native Hawaiian & Other Pacific Islander', 'y': 0}, {'x': 'Other Race', 'y': 1858}, {'x': 'Two Or More Races', 'y': 364}]}], head_of_household_by_age=[{'key': 'Owner', 'values': [{'x': '15-24', 'y': 45}, {'x': '25-34', 'y': 401}, {'x': '35-44', 'y': 259}, {'x': '45-54', 'y': 248}, {'x': '55-64', 'y': 212}, {'x': '65-74', 'y': 133}, {'x': '75-84', 'y': 87}, {'x': '85 Plus', 'y': 36}]}, {'key': 'Renter', 'values': [{'x': '15-24', 'y': 237}, {'x': '25-34', 'y': 834}, {'x': '35-44', 'y': 456}, {'x': '45-54', 'y': 448}, {'x': '55-64', 'y': 317}, {'x': '65-74', 'y': 109}, {'x': '75-84', 'y': 59}, {'x': '85 Plus', 'y': 13}]}, {'key': 'Total', 'values': [{'x': '15-24', 'y': 282}, {'x': '25-34', 'y': 1235}, {'x': '35-44', 'y': 715}, {'x': '45-54', 'y': 696}, {'x': '55-64', 'y': 529}, {'x': '65-74', 'y': 242}, {'x': '75-84', 'y': 146}, {'x': '85 Plus', 'y': 49}], 'color': '#000000'}], families_vs_singles=[{'key': 'Data', 'values': [{'x': 'Husband Wife Family Households', 'y': 1093}, {'x': 'Single Guardian', 'y': 820}, {'x': 'Singles', 'y': 1505}, {'x': 'Singles With Roommate', 'y': 476}]}], households_with_kids=[{'key': 'Data', 'values': [{'x': 'Households Without Kids', 'y': 2889}, {'x': 'Households With Kids', 'y': 1005}]}], children_by_age=[{'key': 'Male', 'values': [{'x': 0, 'y': 88}, {'x': 1, 'y': 70}, {'x': 2, 'y': 48}, {'x': 3, 'y': 59}, {'x': 4, 'y': 61}, {'x': 5, 'y': 70}, {'x': 6, 'y': 73}, {'x': 7, 'y': 67}, {'x': 8, 'y': 65}, {'x': 9, 'y': 72}, {'x': 10, 'y': 52}, {'x': 11, 'y': 54}, {'x': 12, 'y': 50}, {'x': 13, 'y': 40}, {'x': 14, 'y': 64}, {'x': 15, 'y': 61}, {'x': 16, 'y': 57}, {'x': 17, 'y': 77}, {'x': 18, 'y': 57}, {'x': 19, 'y': 70}]}, {'key': 'Female', 'values': [{'x': 0, 'y': 78}, {'x': 1, 'y': 70}, {'x': 2, 'y': 85}, {'x': 3, 'y': 51}, {'x': 4, 'y': 75}, {'x': 5, 'y': 59}, {'x': 6, 'y': 68}, {'x': 7, 'y': 60}, {'x': 8, 'y': 75}, {'x': 9, 'y': 70}, {'x': 10, 'y': 66}, {'x': 11, 'y': 53}, {'x': 12, 'y': 54}, {'x': 13, 'y': 48}, {'x': 14, 'y': 52}, {'x': 15, 'y': 58}, {'x': 16, 'y': 55}, {'x': 17, 'y': 63}, {'x': 18, 'y': 56}, {'x': 19, 'y': 57}]}, {'key': 'Total', 'values': [{'x': 0, 'y': 166}, {'x': 1, 'y': 140}, {'x': 2, 'y': 133}, {'x': 3, 'y': 110}, {'x': 4, 'y': 136}, {'x': 5, 'y': 129}, {'x': 6, 'y': 141}, {'x': 7, 'y': 127}, {'x': 8, 'y': 140}, {'x': 9, 'y': 142}, {'x': 10, 'y': 118}, {'x': 11, 'y': 107}, {'x': 12, 'y': 104}, {'x': 13, 'y': 88}, {'x': 14, 'y': 116}, {'x': 15, 'y': 119}, {'x': 16, 'y': 112}, {'x': 17, 'y': 140}, {'x': 18, 'y': 113}, {'x': 19, 'y': 127}], 'color': '#000000'}], housing_type=[{'key': 'Data', 'values': [{'x': 'In Occupied Housing Units', 'y': 9372}, {'x': 'Correctional Facility For Adults', 'y': 0}, {'x': 'Juvenile Facilities', 'y': 0}, {'x': 'Nursing Facilities', 'y': 33}, {'x': 'Other Institutional', 'y': 0}, {'x': 'College Student Housing', 'y': 0}, {'x': 'Military Quarters', 'y': 0}, {'x': 'Other Noninstitutional', 'y': 1103}]}], year_housing_was_built=[{'key': 'Data', 'values': [{'x': '1939 Or Earlier', 'y': 943}, {'x': '1940s', 'y': 693}, {'x': '1950s', 'y': 502}, {'x': '1960s', 'y': 199}, {'x': '1970s', 'y': 216}, {'x': '1980s', 'y': 71}, {'x': '1990s', 'y': 255}, {'x': '2000s', 'y': 1973}, {'x': '2010 Or Later', 'y': 161}]}], housing_occupancy=[{'key': 'Data', 'values': [{'x': 'Owned Households With A Mortgage', 'y': 955}, {'x': 'Owned Households Free & Clear', 'y': 466}, {'x': 'Renter Occupied Households', 'y': 2473}, {'x': 'Households Vacant', 'y': 819}]}], vancancy_reason=[{'key': 'Data', 'values': [{'x': 'For Rent', 'y': 316}, {'x': 'Rented & Unoccupied', 'y': 12}, {'x': 'For Sale Only', 'y': 248}, {'x': 'Sold & Unoccupied', 'y': 15}, {'x': 'For Season Recreational Or Occasional Use', 'y': 23}, {'x': 'For Migrant Workers', 'y': 0}, {'x': 'Vacant For Other Reasons', 'y': 205}]}], owner_occupied_home_values=[{'key': 'Data', 'values': [{'x': '$1-$24,999', 'y': 0}, {'x': '$25,000-$49,999', 'y': 27}, {'x': '$50,000-$99,999', 'y': 619}, {'x': '$100,000-$149,999', 'y': 99}, {'x': '$150,000-$199,999', 'y': 210}, {'x': '$200,000-$399,999', 'y': 607}, {'x': '$400,000-$749,999', 'y': 13}, {'x': '$750,000+', 'y': 0}]}], rental_properties_by_number_of_rooms=[{'key': 'Data', 'values': [{'x': 'Studio Apartment', 'y': 328}, {'x': '1 Bedroom', 'y': 875}, {'x': '2 Bedroom', 'y': 791}, {'x': '3+ Bedroom', 'y': 686}]}], monthly_rent_including_utilities_studio_apt=[{'key': 'Data', 'values': [{'x': '< $200', 'y': 30}, {'x': '$200-$299', 'y': 0}, {'x': '$300-$499', 'y': 110}, {'x': '$500-$749', 'y': 81}, {'x': '$750-$999', 'y': 12}, {'x': '$1,000+', 'y': 57}]}], monthly_rent_including_utilities_1_b=[{'key': 'Data', 'values': [{'x': '< $200', 'y': 0}, {'x': '$200-$299', 'y': 18}, {'x': '$300-$499', 'y': 235}, {'x': '$500-$749', 'y': 169}, {'x': '$750-$999', 'y': 95}, {'x': '$1,000+', 'y': 315}]}], monthly_rent_including_utilities_2_b=[{'key': 'Data', 'values': [{'x': '< $200', 'y': 0}, {'x': '$200-$299', 'y': 0}, {'x': '$300-$499', 'y': 90}, {'x': '$500-$749', 'y': 205}, {'x': '$750-$999', 'y': 288}, {'x': '$1,000+', 'y': 195}]}], monthly_rent_including_utilities_3plus_b=[{'key': 'Data', 'values': [{'x': '< $200', 'y': 95}, {'x': '$200-$299', 'y': 34}, {'x': '$300-$499', 'y': 64}, {'x': '$500-$749', 'y': 171}, {'x': '$750-$999', 'y': 110}, {'x': '$1,000+', 'y': 187}]}], employment_status=[{'key': 'Data', 'values': [{'x': 'Worked Full-time With Earnings', 'y': 3685}, {'x': 'Worked Part-time With Earnings', 'y': 2024}, {'x': 'No Earnings', 'y': 2726}]}], average_household_income_over_time=[{'key': 'Data', 'values': [{'x': 2005, 'y': 34424.4848}, {'x': 2006, 'y': 35181.5658}, {'x': 2007, 'y': 34915.542}, {'x': 2008, 'y': 41616.7224}, {'x': 2009, 'y': 42244.7326}, {'x': 2010, 'y': 42955.1074}, {'x': 2011, 'y': 44738.9973}, {'x': 2012, 'y': 49377.3469}, {'x': 2013, 'y': 54265.0699}, {'x': 2014, 'y': 61752.988}, {'x': 2015, 'y': 63461.5984}]}], household_income=[{'key': 'Data', 'values': [{'x': '< $25,000', 'y': 1523}, {'x': '$25,000-$44,999', 'y': 847}, {'x': '$45,000-$59,999', 'y': 363}, {'x': '$60,000-$99,999', 'y': 667}, {'x': '$100,000-$149,999', 'y': 414}, {'x': '$150,000-$199,999', 'y': 315}, {'x': '$200,000+', 'y': 126}]}], annual_individual_earnings=[{'key': 'Data', 'values': [{'x': '< $10,000', 'y': 1138}, {'x': '$10,000-$19,999', 'y': 1126}, {'x': '$20,000-$29,999', 'y': 558}, {'x': '$30,000-$39,999', 'y': 597}, {'x': '$40,000-$49,999', 'y': 625}, {'x': '$50,000-$64,999', 'y': 387}, {'x': '$65,000-$74,999', 'y': 186}, {'x': '$75,000-$99,999', 'y': 489}, {'x': '$100,000+', 'y': 603}]}], sources_of_household_income____percent_of_households_receiving_income=[{'key': 'Data', 'values': [{'x': 'Wages', 'y': 92.2027}, {'x': 'Business', 'y': 19.6881}, {'x': 'Partnership', 'y': 3.3138}, {'x': 'Unemployment', 'y': 3.3138}]}], sources_of_household_income____average_income_per_household_by_income_source=[{'key': 'Data', 'values': [{'x': 'Wages', 'y': 61569.556}, {'x': 'Business', 'y': 8724.7525}, {'x': 'Partnership', 'y': 42335.2941}, {'x': 'Unemployment', 'y': 5252.9412}]}], household_investment_income____percent_of_households_receiving_investment_income=[{'key': 'Data', 'values': [{'x': 'Interest', 'y': 15.2047}, {'x': 'Ordinary Dividends', 'y': 11.6959}, {'x': 'Qualified Dividends', 'y': 11.501}, {'x': 'Capital Gains', 'y': 11.1111}]}], household_investment_income____average_income_per_household_by_income_source=[{'key': 'Data', 'values': [{'x': 'Interest', 'y': 523.0769}, {'x': 'Ordinary Dividends', 'y': 2120}, {'x': 'Qualified Dividends', 'y': 1616.9492}, {'x': 'Capital Gains', 'y': 3852.6316}]}], household_retirement_income____percent_of_households_receiving_retirement_incom=[{'key': 'Data', 'values': [{'x': 'IRA Distributions', 'y': 2.1442}, {'x': 'Pensions/annuities', 'y': 6.4327}, {'x': 'Social Security', 'y': 2.3392}]}], household_retirement_income____average_income_per_household_by_income_source=[{'key': 'Data', 'values': [{'x': 'IRA Distributions', 'y': 14963.6364}, {'x': 'Pensions/annuities', 'y': 18845.4545}, {'x': 'Social Security', 'y': 10600}]}], source_of_earnings=[{'key': 'Data', 'values': [{'x': 'Worked Full-time With Earnings', 'y': 3685}, {'x': 'Worked Part-time With Earnings', 'y': 2024}, {'x': 'No Earnings', 'y': 2726}]}], means_of_transportation_to_work_for_workers_16_and_over=[{'key': 'Data', 'values': [{'x': 'Car, Truck, Or Van', 'y': 4178}, {'x': 'Public Transportation', 'y': 509}, {'x': 'Taxicab', 'y': 6}, {'x': 'Motorcycle', 'y': 12}, {'x': 'Bicycle, Walked, Or Other Means', 'y': 206}, {'x': 'Worked At Home', 'y': 174}]}], travel_time_to_work_in_minutes=[{'key': 'Data', 'values': [{'x': '< 10', 'y': 583}, {'x': '10-19', 'y': 1466}, {'x': '20-29', 'y': 1309}, {'x': '30-39', 'y': 906}, {'x': '40-44', 'y': 48}, {'x': '45-59', 'y': 129}, {'x': '60-89', 'y': 403}, {'x': '90+', 'y': 67}]}], educational_attainment_for_population_25_and_over=[{'key': 'Data', 'values': [{'x': 'Less Than High School Diploma', 'y': 2191}, {'x': 'High School Graduate', 'y': 2544}, {'x': \"Associate's Degree\", 'y': 266}, {'x': \"Bachelor's Degree\", 'y': 1141}, {'x': \"Master's Degree\", 'y': 421}, {'x': 'Professional School Degree', 'y': 202}, {'x': 'Doctorate Degree', 'y': 122}]}], school_enrollment_age_3_to_17=[{'key': 'Data', 'values': [{'x': 'Enrolled In Public School', 'y': 1965}, {'x': 'Enrolled In Private School', 'y': 15}, {'x': 'Not Enrolled In School', 'y': 262}]}])"
      ]
     },
     "execution_count": 23,
     "metadata": {},
     "output_type": "execute_result"
    }
   ],
   "source": [
    "hzips=search.by_zipcode('77003')\n",
    "#hzips.to_dict()\n",
    "hzips"
   ]
  },
  {
   "cell_type": "code",
   "execution_count": null,
   "metadata": {},
   "outputs": [],
   "source": []
  }
 ],
 "metadata": {
  "kernelspec": {
   "display_name": "Python 3",
   "language": "python",
   "name": "python3"
  },
  "language_info": {
   "codemirror_mode": {
    "name": "ipython",
    "version": 3
   },
   "file_extension": ".py",
   "mimetype": "text/x-python",
   "name": "python",
   "nbconvert_exporter": "python",
   "pygments_lexer": "ipython3",
   "version": "3.7.4"
  }
 },
 "nbformat": 4,
 "nbformat_minor": 4
}
