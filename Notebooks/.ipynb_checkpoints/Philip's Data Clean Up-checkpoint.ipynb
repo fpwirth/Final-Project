{
 "cells": [
  {
   "cell_type": "code",
   "execution_count": 69,
   "metadata": {},
   "outputs": [],
   "source": [
    "#Load dependencies\n",
    "from datetime import datetime as dt, timedelta\n",
    "import pandas as pd\n",
    "import numpy as np\n",
    "import json\n",
    "from uszipcode import SearchEngine\n",
    "\n",
    "#Open case close date\n",
    "opencaseclosedate=np.datetime64('2021-01-01')"
   ]
  },
  {
   "cell_type": "code",
   "execution_count": 2,
   "metadata": {},
   "outputs": [],
   "source": [
    "#Define data files to import\n",
    "url2017='https://hfdapp.houstontx.gov/311/311-Public-Data-Extract-2017.txt'\n",
    "url2018='https://hfdapp.houstontx.gov/311/311-Public-Data-Extract-2018.txt'\n",
    "url2019='https://hfdapp.houstontx.gov/311/311-Public-Data-Extract-2019.txt'\n",
    "url2020='https://hfdapp.houstontx.gov/311/311-Public-Data-Extract-monthly.txt'\n",
    "nullzip=pd.read_csv('../Clean Data Files/311latlngzipcodes.csv',dtype={'calczip':str})\n",
    "#nullzip=pd.read_csv('../Clean Data Files/311latlngzipcodes.csv',dtype={'latitude':str,'longitude':str,'calczip':str})\n",
    "\n",
    "#Define dataframe column names and select numeric and date columns\n",
    "cols=['case number','sr location','county','district','neighborhood','tax id','trash quad','recycle quad','trash day','heavy trash day','recycle day','key map',\n",
    "      'management district','department','division','sr type','queue','sla','status','sr create date','due date','date closed','overdue','title','x','y','latitude',\n",
    "      'longitude','channel type']\n",
    "numcols=['latitude','longitude']\n",
    "#numcols=[]\n",
    "datecols=['sr create date','due date','date closed']\n",
    "\n",
    "#Create zipcode retrieval function\n",
    "search=SearchEngine(simple_zipcode=False)\n",
    "def zipinfo(lat,lng):\n",
    "    zipdata=search.by_coordinates(lat,lng,radius=3,returns=1)\n",
    "    for zipcode in zipdata:\n",
    "        return zipcode.zipcode\n",
    "    \n",
    "#Create function to assign season based on month\n",
    "def season(row_number, assigned_value): \n",
    "    return assigned_value[row_number] "
   ]
  },
  {
   "cell_type": "code",
   "execution_count": 3,
   "metadata": {},
   "outputs": [
    {
     "name": "stderr",
     "output_type": "stream",
     "text": [
      "b'Skipping line 9979: expected 29 fields, saw 30\\nSkipping line 16339: expected 29 fields, saw 30\\n'\n",
      "b'Skipping line 211068: expected 29 fields, saw 30\\n'\n",
      "b'Skipping line 294299: expected 29 fields, saw 30\\n'\n",
      "b'Skipping line 327926: expected 29 fields, saw 30\\n'\n"
     ]
    },
    {
     "data": {
      "text/plain": [
       "(364666, 29)"
      ]
     },
     "execution_count": 3,
     "metadata": {},
     "output_type": "execute_result"
    }
   ],
   "source": [
    "#Create 2017 data frames\n",
    "data2017=pd.read_csv(url2017,header=5,sep='|',error_bad_lines=False)\n",
    "data2017=data2017.drop(data2017.index[0]).reset_index(drop=True)\n",
    "data2017.columns=cols\n",
    "data2017[cols]=data2017[cols].apply(lambda x:x.str.strip()).replace(r'^\\s*$',np.nan,regex=True)\n",
    "data2017[datecols]=data2017[datecols].apply(pd.to_datetime,format='%Y-%m-%d %H:%M:%S',errors='coerce')\n",
    "data2017[numcols]=data2017[numcols].apply(pd.to_numeric,errors='coerce')\n",
    "top2017=data2017['sr type'].value_counts()[lambda x:x>=10000].index.tolist()\n",
    "data2017.shape"
   ]
  },
  {
   "cell_type": "code",
   "execution_count": 4,
   "metadata": {},
   "outputs": [
    {
     "name": "stderr",
     "output_type": "stream",
     "text": [
      "b'Skipping line 124864: expected 29 fields, saw 30\\n'\n",
      "C:\\Users\\phili\\Anaconda3\\lib\\site-packages\\IPython\\core\\interactiveshell.py:3058: DtypeWarning: Columns (22) have mixed types. Specify dtype option on import or set low_memory=False.\n",
      "  interactivity=interactivity, compiler=compiler, result=result)\n"
     ]
    },
    {
     "data": {
      "text/plain": [
       "(399955, 29)"
      ]
     },
     "execution_count": 4,
     "metadata": {},
     "output_type": "execute_result"
    }
   ],
   "source": [
    "#Create 2018 data frames\n",
    "data2018=pd.read_csv(url2018,header=5,sep='|',error_bad_lines=False)\n",
    "data2018=data2018.drop(data2018.index[0]).reset_index(drop=True)\n",
    "data2018.columns=cols\n",
    "data2018[cols]=data2018[cols].apply(lambda x:x.str.strip()).replace(r'^\\s*$',np.nan,regex=True)\n",
    "data2018[datecols]=data2018[datecols].apply(pd.to_datetime,format='%Y-%m-%d %H:%M:%S',errors='coerce')\n",
    "data2018[numcols]=data2018[numcols].apply(pd.to_numeric,errors='coerce')\n",
    "top2018=data2018['sr type'].value_counts()[lambda x:x>=10000].index.tolist()\n",
    "data2018.shape"
   ]
  },
  {
   "cell_type": "code",
   "execution_count": 5,
   "metadata": {},
   "outputs": [
    {
     "name": "stderr",
     "output_type": "stream",
     "text": [
      "b'Skipping line 86859: expected 29 fields, saw 31\\n'\n",
      "b'Skipping line 124913: expected 29 fields, saw 30\\n'\n",
      "b'Skipping line 144497: expected 29 fields, saw 30\\n'\n",
      "b'Skipping line 218652: expected 29 fields, saw 31\\n'\n",
      "b'Skipping line 349873: expected 29 fields, saw 30\\n'\n"
     ]
    },
    {
     "data": {
      "text/plain": [
       "(395258, 29)"
      ]
     },
     "execution_count": 5,
     "metadata": {},
     "output_type": "execute_result"
    }
   ],
   "source": [
    "#Create 2019 data frames\n",
    "data2019=pd.read_csv(url2019,header=5,sep='|',error_bad_lines=False)\n",
    "data2019=data2019.drop(data2019.index[0]).reset_index(drop=True)\n",
    "data2019.columns=cols\n",
    "data2019[cols]=data2019[cols].apply(lambda x:x.str.strip()).replace(r'^\\s*$',np.nan,regex=True)\n",
    "data2019[datecols]=data2019[datecols].apply(pd.to_datetime,format='%Y-%m-%d %H:%M:%S',errors='coerce')\n",
    "data2019[numcols]=data2019[numcols].apply(pd.to_numeric,errors='coerce')\n",
    "top2019=data2019['sr type'].value_counts()[lambda x:x>=10000].index.tolist()\n",
    "data2019.shape"
   ]
  },
  {
   "cell_type": "code",
   "execution_count": 6,
   "metadata": {},
   "outputs": [
    {
     "data": {
      "text/plain": [
       "(26987, 29)"
      ]
     },
     "execution_count": 6,
     "metadata": {},
     "output_type": "execute_result"
    }
   ],
   "source": [
    "#Create 2020 data frames\n",
    "data2020=pd.read_csv(url2020,header=5,sep='|',error_bad_lines=False)\n",
    "data2020=data2020.drop(data2020.index[0]).reset_index(drop=True)\n",
    "data2020.columns=cols\n",
    "data2020[cols]=data2020[cols].apply(lambda x:x.str.strip()).replace(r'^\\s*$',np.nan,regex=True)\n",
    "data2020[datecols]=data2020[datecols].apply(pd.to_datetime,format='%Y-%m-%d %H:%M:%S',errors='coerce')\n",
    "data2020[numcols]=data2020[numcols].apply(pd.to_numeric,errors='coerce')\n",
    "top2020=data2020['sr type'].value_counts()[lambda x:x>=10000].index.tolist()\n",
    "data2020.shape"
   ]
  },
  {
   "cell_type": "code",
   "execution_count": 7,
   "metadata": {},
   "outputs": [
    {
     "data": {
      "text/plain": [
       "(1094514, 35)"
      ]
     },
     "execution_count": 7,
     "metadata": {},
     "output_type": "execute_result"
    }
   ],
   "source": [
    "#Create all complete years dataframe\n",
    "tempdata311=data2017.append([data2018,data2019,data2020])\n",
    "data311=pd.merge(tempdata311,nullzip,on=['latitude','longitude'],how='left')\n",
    "data311['date']=data311['sr create date'].dt.strftime('%Y-%m-%d')\n",
    "data311['year']=data311['sr create date'].dt.strftime('%Y')\n",
    "data311['month']=data311['sr create date'].dt.strftime('%m')\n",
    "seasondict={'01':'winter','02':'winter','03':'spring','04':'spring','05':'spring','06':'summer',\n",
    "        '07':'summer','08':'summer','09':'fall','10':'fall','11':'fall','12':'winter','NaT':'none'}\n",
    "data311['season']=data311['month'].apply(season,args=(seasondict,))\n",
    "data311=data311[pd.notnull(data311['latitude'])]\n",
    "data311['date closed']=np.where(data311['date closed'].isnull()==True,opencaseclosedate,data311['date closed'])\n",
    "data311['truezip']='77'+data311['sr location'].str.extract(r'77(\\d{3}\\-?\\d{0,4})')\n",
    "data311['zipcode']=np.where(data311['truezip'].isnull()==True,data311['calczip'],data311['truezip'])\n",
    "data311['openclosetime']=data311['date closed']-data311['sr create date']\n",
    "data311['daystoclose']=data311['openclosetime']/timedelta(days=1)\n",
    "data311['openduetime']=data311['due date']-data311['sr create date']\n",
    "data311['daysdue']=data311['openduetime']/timedelta(days=1)\n",
    "data311['missedduedate']=np.where(data311['due date']>data311['date closed'],0,1)\n",
    "data311.drop(['x','y','calczip','truezip','openclosetime','openduetime'],axis=1,inplace=True)\n",
    "types311=data311.groupby(['sr type','year'])['case number'].count().unstack('year').reset_index()\n",
    "types311.columns=['sr type','2017','2018','2019','2020']\n",
    "data311.shape"
   ]
  },
  {
   "cell_type": "code",
   "execution_count": 8,
   "metadata": {},
   "outputs": [],
   "source": [
    "#Create dataframe containing service requests with around 10000 a year\n",
    "toprequests=sorted(np.unique(top2017+top2018+top2019+top2020))\n",
    "topdata=data311.loc[data311['sr type'].isin(toprequests)].reset_index()\n",
    "topdata.drop(['index'],axis=1,inplace=True)"
   ]
  },
  {
   "cell_type": "code",
   "execution_count": 9,
   "metadata": {},
   "outputs": [
    {
     "data": {
      "text/plain": [
       "['Container Problem',\n",
       " 'Drainage',\n",
       " 'Missed Garbage Pickup',\n",
       " 'Missed Heavy Trash Pickup',\n",
       " 'Missed Recycling Pickup',\n",
       " 'Nuisance On Property',\n",
       " 'SWM Escalation',\n",
       " 'Sewer Wastewater',\n",
       " 'Storm Debris Collection',\n",
       " 'Street Condition',\n",
       " 'Street Hazard',\n",
       " 'Traffic Signal Maintenance',\n",
       " 'Traffic Signs',\n",
       " 'Water Leak',\n",
       " 'Water Service']"
      ]
     },
     "execution_count": 9,
     "metadata": {},
     "output_type": "execute_result"
    }
   ],
   "source": [
    "toprequests"
   ]
  },
  {
   "cell_type": "code",
   "execution_count": 10,
   "metadata": {},
   "outputs": [],
   "source": [
    "#Create csv of number of service requests by type per year\n",
    "types311.to_csv('../Clean Data Files/Houston 311 SR Types by Year.csv',index=False,header=True)"
   ]
  },
  {
   "cell_type": "code",
   "execution_count": 11,
   "metadata": {},
   "outputs": [
    {
     "data": {
      "text/plain": [
       "case number                 0\n",
       "sr location                 0\n",
       "county                   2034\n",
       "district                 2949\n",
       "neighborhood             3975\n",
       "tax id                   2024\n",
       "trash quad             112208\n",
       "recycle quad           114424\n",
       "trash day              112208\n",
       "heavy trash day        112794\n",
       "recycle day            114422\n",
       "key map                     0\n",
       "management district    392317\n",
       "department                  0\n",
       "division                    0\n",
       "sr type                     0\n",
       "queue                       0\n",
       "sla                         0\n",
       "status                      0\n",
       "sr create date              0\n",
       "due date                    6\n",
       "date closed                 0\n",
       "overdue                  5037\n",
       "title                       0\n",
       "latitude                    0\n",
       "longitude                   0\n",
       "channel type                0\n",
       "date                        0\n",
       "year                        0\n",
       "month                       0\n",
       "season                      0\n",
       "zipcode                   393\n",
       "daystoclose                 0\n",
       "daysdue                     6\n",
       "missedduedate               0\n",
       "dtype: int64"
      ]
     },
     "execution_count": 11,
     "metadata": {},
     "output_type": "execute_result"
    }
   ],
   "source": [
    "#Display null values in dataset\n",
    "topdata.isnull().sum()"
   ]
  },
  {
   "cell_type": "code",
   "execution_count": 12,
   "metadata": {},
   "outputs": [
    {
     "data": {
      "text/html": [
       "<div>\n",
       "<style scoped>\n",
       "    .dataframe tbody tr th:only-of-type {\n",
       "        vertical-align: middle;\n",
       "    }\n",
       "\n",
       "    .dataframe tbody tr th {\n",
       "        vertical-align: top;\n",
       "    }\n",
       "\n",
       "    .dataframe thead th {\n",
       "        text-align: right;\n",
       "    }\n",
       "</style>\n",
       "<table border=\"1\" class=\"dataframe\">\n",
       "  <thead>\n",
       "    <tr style=\"text-align: right;\">\n",
       "      <th></th>\n",
       "      <th>latitude</th>\n",
       "      <th>longitude</th>\n",
       "    </tr>\n",
       "  </thead>\n",
       "  <tbody>\n",
       "    <tr>\n",
       "      <td>0</td>\n",
       "      <td>29.736628</td>\n",
       "      <td>-95.581200</td>\n",
       "    </tr>\n",
       "    <tr>\n",
       "      <td>1</td>\n",
       "      <td>29.675718</td>\n",
       "      <td>-95.232803</td>\n",
       "    </tr>\n",
       "    <tr>\n",
       "      <td>2</td>\n",
       "      <td>29.739761</td>\n",
       "      <td>-95.378532</td>\n",
       "    </tr>\n",
       "    <tr>\n",
       "      <td>4</td>\n",
       "      <td>29.665729</td>\n",
       "      <td>-95.469205</td>\n",
       "    </tr>\n",
       "    <tr>\n",
       "      <td>6</td>\n",
       "      <td>29.841055</td>\n",
       "      <td>-95.416438</td>\n",
       "    </tr>\n",
       "    <tr>\n",
       "      <td>7</td>\n",
       "      <td>29.761276</td>\n",
       "      <td>-95.366600</td>\n",
       "    </tr>\n",
       "    <tr>\n",
       "      <td>9</td>\n",
       "      <td>29.866869</td>\n",
       "      <td>-95.300560</td>\n",
       "    </tr>\n",
       "    <tr>\n",
       "      <td>13</td>\n",
       "      <td>29.598766</td>\n",
       "      <td>-95.197990</td>\n",
       "    </tr>\n",
       "    <tr>\n",
       "      <td>15</td>\n",
       "      <td>29.773882</td>\n",
       "      <td>-95.307419</td>\n",
       "    </tr>\n",
       "    <tr>\n",
       "      <td>16</td>\n",
       "      <td>29.724491</td>\n",
       "      <td>-95.438095</td>\n",
       "    </tr>\n",
       "    <tr>\n",
       "      <td>18</td>\n",
       "      <td>29.734184</td>\n",
       "      <td>-95.329773</td>\n",
       "    </tr>\n",
       "    <tr>\n",
       "      <td>21</td>\n",
       "      <td>29.746372</td>\n",
       "      <td>-95.365669</td>\n",
       "    </tr>\n",
       "    <tr>\n",
       "      <td>22</td>\n",
       "      <td>29.742993</td>\n",
       "      <td>-95.381043</td>\n",
       "    </tr>\n",
       "    <tr>\n",
       "      <td>24</td>\n",
       "      <td>29.749977</td>\n",
       "      <td>-95.482643</td>\n",
       "    </tr>\n",
       "    <tr>\n",
       "      <td>25</td>\n",
       "      <td>30.020278</td>\n",
       "      <td>-95.380115</td>\n",
       "    </tr>\n",
       "    <tr>\n",
       "      <td>29</td>\n",
       "      <td>29.621023</td>\n",
       "      <td>-95.430779</td>\n",
       "    </tr>\n",
       "    <tr>\n",
       "      <td>30</td>\n",
       "      <td>29.673988</td>\n",
       "      <td>-95.234650</td>\n",
       "    </tr>\n",
       "    <tr>\n",
       "      <td>32</td>\n",
       "      <td>29.739574</td>\n",
       "      <td>-95.379967</td>\n",
       "    </tr>\n",
       "    <tr>\n",
       "      <td>34</td>\n",
       "      <td>29.592073</td>\n",
       "      <td>-95.222267</td>\n",
       "    </tr>\n",
       "    <tr>\n",
       "      <td>46</td>\n",
       "      <td>29.833198</td>\n",
       "      <td>-95.308475</td>\n",
       "    </tr>\n",
       "    <tr>\n",
       "      <td>51</td>\n",
       "      <td>29.754627</td>\n",
       "      <td>-95.362915</td>\n",
       "    </tr>\n",
       "    <tr>\n",
       "      <td>52</td>\n",
       "      <td>29.581255</td>\n",
       "      <td>-95.133919</td>\n",
       "    </tr>\n",
       "    <tr>\n",
       "      <td>53</td>\n",
       "      <td>29.803808</td>\n",
       "      <td>-95.410149</td>\n",
       "    </tr>\n",
       "    <tr>\n",
       "      <td>61</td>\n",
       "      <td>29.862051</td>\n",
       "      <td>-95.505585</td>\n",
       "    </tr>\n",
       "    <tr>\n",
       "      <td>63</td>\n",
       "      <td>29.750307</td>\n",
       "      <td>-95.374016</td>\n",
       "    </tr>\n",
       "    <tr>\n",
       "      <td>69</td>\n",
       "      <td>29.833004</td>\n",
       "      <td>-95.345444</td>\n",
       "    </tr>\n",
       "    <tr>\n",
       "      <td>71</td>\n",
       "      <td>29.810619</td>\n",
       "      <td>-95.461334</td>\n",
       "    </tr>\n",
       "    <tr>\n",
       "      <td>78</td>\n",
       "      <td>29.731730</td>\n",
       "      <td>-95.436386</td>\n",
       "    </tr>\n",
       "    <tr>\n",
       "      <td>101</td>\n",
       "      <td>29.770477</td>\n",
       "      <td>-95.414375</td>\n",
       "    </tr>\n",
       "    <tr>\n",
       "      <td>110</td>\n",
       "      <td>29.745361</td>\n",
       "      <td>-95.363975</td>\n",
       "    </tr>\n",
       "    <tr>\n",
       "      <td>161</td>\n",
       "      <td>29.736153</td>\n",
       "      <td>-95.378830</td>\n",
       "    </tr>\n",
       "    <tr>\n",
       "      <td>162</td>\n",
       "      <td>29.737501</td>\n",
       "      <td>-95.370194</td>\n",
       "    </tr>\n",
       "    <tr>\n",
       "      <td>192</td>\n",
       "      <td>29.754208</td>\n",
       "      <td>-95.359467</td>\n",
       "    </tr>\n",
       "    <tr>\n",
       "      <td>278</td>\n",
       "      <td>29.730812</td>\n",
       "      <td>-95.436386</td>\n",
       "    </tr>\n",
       "    <tr>\n",
       "      <td>386</td>\n",
       "      <td>29.641823</td>\n",
       "      <td>-95.442795</td>\n",
       "    </tr>\n",
       "    <tr>\n",
       "      <td>391</td>\n",
       "      <td>29.702979</td>\n",
       "      <td>-95.352570</td>\n",
       "    </tr>\n",
       "  </tbody>\n",
       "</table>\n",
       "</div>"
      ],
      "text/plain": [
       "      latitude  longitude\n",
       "0    29.736628 -95.581200\n",
       "1    29.675718 -95.232803\n",
       "2    29.739761 -95.378532\n",
       "4    29.665729 -95.469205\n",
       "6    29.841055 -95.416438\n",
       "7    29.761276 -95.366600\n",
       "9    29.866869 -95.300560\n",
       "13   29.598766 -95.197990\n",
       "15   29.773882 -95.307419\n",
       "16   29.724491 -95.438095\n",
       "18   29.734184 -95.329773\n",
       "21   29.746372 -95.365669\n",
       "22   29.742993 -95.381043\n",
       "24   29.749977 -95.482643\n",
       "25   30.020278 -95.380115\n",
       "29   29.621023 -95.430779\n",
       "30   29.673988 -95.234650\n",
       "32   29.739574 -95.379967\n",
       "34   29.592073 -95.222267\n",
       "46   29.833198 -95.308475\n",
       "51   29.754627 -95.362915\n",
       "52   29.581255 -95.133919\n",
       "53   29.803808 -95.410149\n",
       "61   29.862051 -95.505585\n",
       "63   29.750307 -95.374016\n",
       "69   29.833004 -95.345444\n",
       "71   29.810619 -95.461334\n",
       "78   29.731730 -95.436386\n",
       "101  29.770477 -95.414375\n",
       "110  29.745361 -95.363975\n",
       "161  29.736153 -95.378830\n",
       "162  29.737501 -95.370194\n",
       "192  29.754208 -95.359467\n",
       "278  29.730812 -95.436386\n",
       "386  29.641823 -95.442795\n",
       "391  29.702979 -95.352570"
      ]
     },
     "execution_count": 12,
     "metadata": {},
     "output_type": "execute_result"
    }
   ],
   "source": [
    "#Create dataframe of missing zipcodes\n",
    "missingzip=topdata[topdata.zipcode.isnull()]\n",
    "missingzip=missingzip[['latitude','longitude']].reset_index()\n",
    "missingzip.drop(['index'],axis=1,inplace=True)\n",
    "missingzip.drop_duplicates(inplace=True)\n",
    "missingzip"
   ]
  },
  {
   "cell_type": "code",
   "execution_count": 13,
   "metadata": {},
   "outputs": [],
   "source": [
    "#Get missing zipcodes\n",
    "#zipmiss=missingzip[0:13]\n",
    "missingzip['calczip']=np.vectorize(zipinfo)(missingzip['latitude'].values,missingzip['longitude'].values)"
   ]
  },
  {
   "cell_type": "code",
   "execution_count": 14,
   "metadata": {},
   "outputs": [
    {
     "data": {
      "text/html": [
       "<div>\n",
       "<style scoped>\n",
       "    .dataframe tbody tr th:only-of-type {\n",
       "        vertical-align: middle;\n",
       "    }\n",
       "\n",
       "    .dataframe tbody tr th {\n",
       "        vertical-align: top;\n",
       "    }\n",
       "\n",
       "    .dataframe thead th {\n",
       "        text-align: right;\n",
       "    }\n",
       "</style>\n",
       "<table border=\"1\" class=\"dataframe\">\n",
       "  <thead>\n",
       "    <tr style=\"text-align: right;\">\n",
       "      <th></th>\n",
       "      <th>latitude</th>\n",
       "      <th>longitude</th>\n",
       "      <th>calczip</th>\n",
       "    </tr>\n",
       "  </thead>\n",
       "  <tbody>\n",
       "  </tbody>\n",
       "</table>\n",
       "</div>"
      ],
      "text/plain": [
       "Empty DataFrame\n",
       "Columns: [latitude, longitude, calczip]\n",
       "Index: []"
      ]
     },
     "execution_count": 14,
     "metadata": {},
     "output_type": "execute_result"
    }
   ],
   "source": [
    "#Check for zips that cannot be coded\n",
    "nonezips=missingzip.loc[missingzip['calczip']=='None']\n",
    "nonezips"
   ]
  },
  {
   "cell_type": "code",
   "execution_count": 15,
   "metadata": {},
   "outputs": [
    {
     "data": {
      "text/plain": [
       "(17248, 3)"
      ]
     },
     "execution_count": 15,
     "metadata": {},
     "output_type": "execute_result"
    }
   ],
   "source": [
    "#Check nullzip file size\n",
    "nullzip.shape"
   ]
  },
  {
   "cell_type": "code",
   "execution_count": 16,
   "metadata": {},
   "outputs": [
    {
     "data": {
      "text/plain": [
       "(36, 3)"
      ]
     },
     "execution_count": 16,
     "metadata": {},
     "output_type": "execute_result"
    }
   ],
   "source": [
    "#Check missingzip file size\n",
    "missingzip.shape"
   ]
  },
  {
   "cell_type": "code",
   "execution_count": 17,
   "metadata": {},
   "outputs": [
    {
     "data": {
      "text/plain": [
       "(16237, 3)"
      ]
     },
     "execution_count": 17,
     "metadata": {},
     "output_type": "execute_result"
    }
   ],
   "source": [
    "#Append and verify newnullzip file size\n",
    "newnullzip=nullzip.append([missingzip],sort=False)\n",
    "newnullzip.drop_duplicates(inplace=True)\n",
    "newnullzip.shape"
   ]
  },
  {
   "cell_type": "code",
   "execution_count": 18,
   "metadata": {},
   "outputs": [],
   "source": [
    "#Create updated zip csv file\n",
    "#newnullzip.to_csv('../Clean Data Files/311latlngzipcodes.csv',index=False,header=True)"
   ]
  },
  {
   "cell_type": "code",
   "execution_count": 19,
   "metadata": {},
   "outputs": [
    {
     "data": {
      "text/plain": [
       "1047"
      ]
     },
     "execution_count": 19,
     "metadata": {},
     "output_type": "execute_result"
    }
   ],
   "source": [
    "dups=nullzip.append([missingzip],sort=False)\n",
    "test=dups.duplicated()\n",
    "test.sum()"
   ]
  },
  {
   "cell_type": "code",
   "execution_count": 20,
   "metadata": {},
   "outputs": [],
   "source": [
    "#Create updated zip csv file\n",
    "#dups.to_csv('../Clean Data Files/311latlngzipcodes.csv',index=False,header=True)"
   ]
  },
  {
   "cell_type": "code",
   "execution_count": 21,
   "metadata": {},
   "outputs": [
    {
     "data": {
      "text/plain": [
       "(16237, 3)"
      ]
     },
     "execution_count": 21,
     "metadata": {},
     "output_type": "execute_result"
    }
   ],
   "source": [
    "check=dups[['latitude', 'longitude', 'calczip']]\n",
    "check.drop_duplicates(inplace=True)\n",
    "check.shape"
   ]
  },
  {
   "cell_type": "code",
   "execution_count": 23,
   "metadata": {},
   "outputs": [],
   "source": [
    "#Create weather and census dataframes\n",
    "weatherdata=pd.read_csv('../Clean Data Files/weatherdata.csv')\n",
    "censusdata=pd.read_csv('../Clean Data Files/census_data.csv')"
   ]
  },
  {
   "cell_type": "code",
   "execution_count": 24,
   "metadata": {},
   "outputs": [
    {
     "data": {
      "text/html": [
       "<div>\n",
       "<style scoped>\n",
       "    .dataframe tbody tr th:only-of-type {\n",
       "        vertical-align: middle;\n",
       "    }\n",
       "\n",
       "    .dataframe tbody tr th {\n",
       "        vertical-align: top;\n",
       "    }\n",
       "\n",
       "    .dataframe thead th {\n",
       "        text-align: right;\n",
       "    }\n",
       "</style>\n",
       "<table border=\"1\" class=\"dataframe\">\n",
       "  <thead>\n",
       "    <tr style=\"text-align: right;\">\n",
       "      <th></th>\n",
       "      <th>Population</th>\n",
       "      <th>Median Age</th>\n",
       "      <th>Household Income</th>\n",
       "      <th>Per Capita Income</th>\n",
       "      <th>Poverty Rate</th>\n",
       "      <th>Total Households</th>\n",
       "      <th>Total Owner Occupied</th>\n",
       "      <th>% Owner Occupied</th>\n",
       "      <th>zipcode</th>\n",
       "    </tr>\n",
       "  </thead>\n",
       "  <tbody>\n",
       "    <tr>\n",
       "      <td>0</td>\n",
       "      <td>12370.0</td>\n",
       "      <td>34.1</td>\n",
       "      <td>72306.0</td>\n",
       "      <td>34779.0</td>\n",
       "      <td>6.984640</td>\n",
       "      <td>4457.0</td>\n",
       "      <td>1213.0</td>\n",
       "      <td>27.215616</td>\n",
       "      <td>77002</td>\n",
       "    </tr>\n",
       "    <tr>\n",
       "      <td>1</td>\n",
       "      <td>9646.0</td>\n",
       "      <td>34.1</td>\n",
       "      <td>59575.0</td>\n",
       "      <td>37760.0</td>\n",
       "      <td>27.628032</td>\n",
       "      <td>9597.0</td>\n",
       "      <td>4731.0</td>\n",
       "      <td>49.296655</td>\n",
       "      <td>77003</td>\n",
       "    </tr>\n",
       "    <tr>\n",
       "      <td>2</td>\n",
       "      <td>37642.0</td>\n",
       "      <td>28.3</td>\n",
       "      <td>48592.0</td>\n",
       "      <td>31067.0</td>\n",
       "      <td>19.733277</td>\n",
       "      <td>28125.0</td>\n",
       "      <td>9997.0</td>\n",
       "      <td>35.544889</td>\n",
       "      <td>77004</td>\n",
       "    </tr>\n",
       "    <tr>\n",
       "      <td>3</td>\n",
       "      <td>28233.0</td>\n",
       "      <td>36.5</td>\n",
       "      <td>180758.0</td>\n",
       "      <td>100896.0</td>\n",
       "      <td>3.715510</td>\n",
       "      <td>25438.0</td>\n",
       "      <td>20433.0</td>\n",
       "      <td>80.324711</td>\n",
       "      <td>77005</td>\n",
       "    </tr>\n",
       "    <tr>\n",
       "      <td>4</td>\n",
       "      <td>21945.0</td>\n",
       "      <td>34.3</td>\n",
       "      <td>82878.0</td>\n",
       "      <td>68705.0</td>\n",
       "      <td>7.304625</td>\n",
       "      <td>21280.0</td>\n",
       "      <td>8945.0</td>\n",
       "      <td>42.034774</td>\n",
       "      <td>77006</td>\n",
       "    </tr>\n",
       "    <tr>\n",
       "      <td>...</td>\n",
       "      <td>...</td>\n",
       "      <td>...</td>\n",
       "      <td>...</td>\n",
       "      <td>...</td>\n",
       "      <td>...</td>\n",
       "      <td>...</td>\n",
       "      <td>...</td>\n",
       "      <td>...</td>\n",
       "      <td>...</td>\n",
       "    </tr>\n",
       "    <tr>\n",
       "      <td>374</td>\n",
       "      <td>864.0</td>\n",
       "      <td>32.8</td>\n",
       "      <td>41791.0</td>\n",
       "      <td>19816.0</td>\n",
       "      <td>32.523148</td>\n",
       "      <td>864.0</td>\n",
       "      <td>587.0</td>\n",
       "      <td>67.939815</td>\n",
       "      <td>77990</td>\n",
       "    </tr>\n",
       "    <tr>\n",
       "      <td>375</td>\n",
       "      <td>614.0</td>\n",
       "      <td>16.2</td>\n",
       "      <td>68636.0</td>\n",
       "      <td>15480.0</td>\n",
       "      <td>4.560261</td>\n",
       "      <td>614.0</td>\n",
       "      <td>374.0</td>\n",
       "      <td>60.912052</td>\n",
       "      <td>77991</td>\n",
       "    </tr>\n",
       "    <tr>\n",
       "      <td>376</td>\n",
       "      <td>183.0</td>\n",
       "      <td>46.8</td>\n",
       "      <td>-666666666.0</td>\n",
       "      <td>35348.0</td>\n",
       "      <td>30.054645</td>\n",
       "      <td>183.0</td>\n",
       "      <td>128.0</td>\n",
       "      <td>69.945355</td>\n",
       "      <td>77993</td>\n",
       "    </tr>\n",
       "    <tr>\n",
       "      <td>377</td>\n",
       "      <td>508.0</td>\n",
       "      <td>42.6</td>\n",
       "      <td>35500.0</td>\n",
       "      <td>30697.0</td>\n",
       "      <td>22.440945</td>\n",
       "      <td>508.0</td>\n",
       "      <td>421.0</td>\n",
       "      <td>82.874016</td>\n",
       "      <td>77994</td>\n",
       "    </tr>\n",
       "    <tr>\n",
       "      <td>378</td>\n",
       "      <td>9847.0</td>\n",
       "      <td>38.7</td>\n",
       "      <td>46958.0</td>\n",
       "      <td>25401.0</td>\n",
       "      <td>9.769473</td>\n",
       "      <td>9615.0</td>\n",
       "      <td>7358.0</td>\n",
       "      <td>76.526261</td>\n",
       "      <td>77995</td>\n",
       "    </tr>\n",
       "  </tbody>\n",
       "</table>\n",
       "<p>379 rows × 9 columns</p>\n",
       "</div>"
      ],
      "text/plain": [
       "     Population  Median Age  Household Income  Per Capita Income  \\\n",
       "0       12370.0        34.1           72306.0            34779.0   \n",
       "1        9646.0        34.1           59575.0            37760.0   \n",
       "2       37642.0        28.3           48592.0            31067.0   \n",
       "3       28233.0        36.5          180758.0           100896.0   \n",
       "4       21945.0        34.3           82878.0            68705.0   \n",
       "..          ...         ...               ...                ...   \n",
       "374       864.0        32.8           41791.0            19816.0   \n",
       "375       614.0        16.2           68636.0            15480.0   \n",
       "376       183.0        46.8      -666666666.0            35348.0   \n",
       "377       508.0        42.6           35500.0            30697.0   \n",
       "378      9847.0        38.7           46958.0            25401.0   \n",
       "\n",
       "     Poverty Rate  Total Households  Total Owner Occupied  % Owner Occupied  \\\n",
       "0        6.984640            4457.0                1213.0         27.215616   \n",
       "1       27.628032            9597.0                4731.0         49.296655   \n",
       "2       19.733277           28125.0                9997.0         35.544889   \n",
       "3        3.715510           25438.0               20433.0         80.324711   \n",
       "4        7.304625           21280.0                8945.0         42.034774   \n",
       "..            ...               ...                   ...               ...   \n",
       "374     32.523148             864.0                 587.0         67.939815   \n",
       "375      4.560261             614.0                 374.0         60.912052   \n",
       "376     30.054645             183.0                 128.0         69.945355   \n",
       "377     22.440945             508.0                 421.0         82.874016   \n",
       "378      9.769473            9615.0                7358.0         76.526261   \n",
       "\n",
       "    zipcode  \n",
       "0     77002  \n",
       "1     77003  \n",
       "2     77004  \n",
       "3     77005  \n",
       "4     77006  \n",
       "..      ...  \n",
       "374   77990  \n",
       "375   77991  \n",
       "376   77993  \n",
       "377   77994  \n",
       "378   77995  \n",
       "\n",
       "[379 rows x 9 columns]"
      ]
     },
     "execution_count": 24,
     "metadata": {},
     "output_type": "execute_result"
    }
   ],
   "source": [
    "#Apply a few fixes to weather dataframes for merging\n",
    "censusdata['zipcode']=censusdata['Zipcode'].astype(str)\n",
    "censusdata.drop(['Zipcode'],axis=1,inplace=True)"
   ]
  },
  {
   "cell_type": "code",
   "execution_count": 60,
   "metadata": {},
   "outputs": [
    {
     "data": {
      "text/html": [
       "<div>\n",
       "<style scoped>\n",
       "    .dataframe tbody tr th:only-of-type {\n",
       "        vertical-align: middle;\n",
       "    }\n",
       "\n",
       "    .dataframe tbody tr th {\n",
       "        vertical-align: top;\n",
       "    }\n",
       "\n",
       "    .dataframe thead th {\n",
       "        text-align: right;\n",
       "    }\n",
       "</style>\n",
       "<table border=\"1\" class=\"dataframe\">\n",
       "  <thead>\n",
       "    <tr style=\"text-align: right;\">\n",
       "      <th></th>\n",
       "      <th>zipcode</th>\n",
       "      <th>polygons</th>\n",
       "    </tr>\n",
       "  </thead>\n",
       "  <tbody>\n",
       "    <tr>\n",
       "      <td>0</td>\n",
       "      <td>77002</td>\n",
       "      <td>[[[-95.388083, 29.729348], [-95.388223, 29.729...</td>\n",
       "    </tr>\n",
       "    <tr>\n",
       "      <td>1</td>\n",
       "      <td>77003</td>\n",
       "      <td>[[-95.363636, 29.747351], [-95.363053, 29.7480...</td>\n",
       "    </tr>\n",
       "    <tr>\n",
       "      <td>2</td>\n",
       "      <td>77004</td>\n",
       "      <td>[[[-95.372277, 29.746044], [-95.371729, 29.746...</td>\n",
       "    </tr>\n",
       "    <tr>\n",
       "      <td>3</td>\n",
       "      <td>77005</td>\n",
       "      <td>[[-95.44781, 29.725236], [-95.447869, 29.72711...</td>\n",
       "    </tr>\n",
       "    <tr>\n",
       "      <td>4</td>\n",
       "      <td>77006</td>\n",
       "      <td>[[-95.402073, 29.72665], [-95.402082, 29.72783...</td>\n",
       "    </tr>\n",
       "    <tr>\n",
       "      <td>...</td>\n",
       "      <td>...</td>\n",
       "      <td>...</td>\n",
       "    </tr>\n",
       "    <tr>\n",
       "      <td>314</td>\n",
       "      <td>77983</td>\n",
       "      <td>[[[-96.622859, 28.273454], [-96.622728, 28.273...</td>\n",
       "    </tr>\n",
       "    <tr>\n",
       "      <td>315</td>\n",
       "      <td>77984</td>\n",
       "      <td>[[-97.235916, 29.380135], [-97.236357, 29.3805...</td>\n",
       "    </tr>\n",
       "    <tr>\n",
       "      <td>316</td>\n",
       "      <td>77990</td>\n",
       "      <td>[[-97.00638, 28.498274], [-97.004785, 28.49758...</td>\n",
       "    </tr>\n",
       "    <tr>\n",
       "      <td>317</td>\n",
       "      <td>77994</td>\n",
       "      <td>[[-97.493419, 29.199753], [-97.493222, 29.1998...</td>\n",
       "    </tr>\n",
       "    <tr>\n",
       "      <td>318</td>\n",
       "      <td>77995</td>\n",
       "      <td>[[-96.950765, 29.199429], [-96.949955, 29.1997...</td>\n",
       "    </tr>\n",
       "  </tbody>\n",
       "</table>\n",
       "<p>319 rows × 2 columns</p>\n",
       "</div>"
      ],
      "text/plain": [
       "    zipcode                                           polygons\n",
       "0     77002  [[[-95.388083, 29.729348], [-95.388223, 29.729...\n",
       "1     77003  [[-95.363636, 29.747351], [-95.363053, 29.7480...\n",
       "2     77004  [[[-95.372277, 29.746044], [-95.371729, 29.746...\n",
       "3     77005  [[-95.44781, 29.725236], [-95.447869, 29.72711...\n",
       "4     77006  [[-95.402073, 29.72665], [-95.402082, 29.72783...\n",
       "..      ...                                                ...\n",
       "314   77983  [[[-96.622859, 28.273454], [-96.622728, 28.273...\n",
       "315   77984  [[-97.235916, 29.380135], [-97.236357, 29.3805...\n",
       "316   77990  [[-97.00638, 28.498274], [-97.004785, 28.49758...\n",
       "317   77994  [[-97.493419, 29.199753], [-97.493222, 29.1998...\n",
       "318   77995  [[-96.950765, 29.199429], [-96.949955, 29.1997...\n",
       "\n",
       "[319 rows x 2 columns]"
      ]
     },
     "execution_count": 60,
     "metadata": {},
     "output_type": "execute_result"
    }
   ],
   "source": [
    "#Create Houston zipcode file\n",
    "zips=[]\n",
    "polygons=[]\n",
    "hzips=search.by_prefix('77',returns=0)\n",
    "for zipcode in hzips:\n",
    "        zips.append(zipcode.zipcode)\n",
    "        polygons.append(zipcode.polygon)\n",
    "        \n",
    "hzips_dict={'zipcode':zips,'polygons':polygons}\n",
    "htownzips=pd.DataFrame(hzips_dict)\n",
    "#htownzips['polygons']=htownzips['polygons'].str.replace(r'\\[\\[\\[','\\[\\[')\n",
    "htownzips"
   ]
  },
  {
   "cell_type": "code",
   "execution_count": 41,
   "metadata": {},
   "outputs": [],
   "source": [
    "#Merge dataframes in order to create census geojson file\n",
    "temphtowncensus=pd.merge(censusdata,htownzips,how='left',on='zipcode')\n",
    "htowncensus=temphtowncensus.head(278)"
   ]
  },
  {
   "cell_type": "code",
   "execution_count": 71,
   "metadata": {},
   "outputs": [],
   "source": [
    "#Create census data geojson file\n",
    "def df_to_geojson(df,properties,polygon='polygons'):\n",
    "    geojson={'type':'FeatureCollection','features':[]}\n",
    "    for _,row in df.iterrows():\n",
    "        feature={'type':'Feature',\n",
    "                 'properties':{},\n",
    "                 'geometry':{'type':'Polygon',\n",
    "                             'coordinates':[]}}\n",
    "        feature['geometry']['coordinates']=[row[polygon]]\n",
    "        for prop in properties:\n",
    "            feature['properties'][prop]=row[prop]\n",
    "        geojson['features'].append(feature)\n",
    "    return geojson\n",
    "\n",
    "censuscols=['Population','Median Age','Household Income','Per Capita Income','Poverty Rate','Total Households','Total Owner Occupied',\n",
    "      '% Owner Occupied','zipcode']\n",
    "censusgeojson=df_to_geojson(htowncensus,censuscols)\n",
    "\n",
    "geojsonfile='../Clean Data Files/htownzipcensus.geojson'\n",
    "with open(geojsonfile,'w') as geojsonfile:\n",
    "    json.dump(censusgeojson,geojsonfile,indent=2) "
   ]
  },
  {
   "cell_type": "code",
   "execution_count": null,
   "metadata": {},
   "outputs": [],
   "source": [
    "#SAVE CODE\n",
    "hzips=search.by_zipcode('77003')\n",
    "#hzips.to_dict()\n",
    "hzips"
   ]
  }
 ],
 "metadata": {
  "kernelspec": {
   "display_name": "Python 3",
   "language": "python",
   "name": "python3"
  },
  "language_info": {
   "codemirror_mode": {
    "name": "ipython",
    "version": 3
   },
   "file_extension": ".py",
   "mimetype": "text/x-python",
   "name": "python",
   "nbconvert_exporter": "python",
   "pygments_lexer": "ipython3",
   "version": "3.7.4"
  }
 },
 "nbformat": 4,
 "nbformat_minor": 4
}
