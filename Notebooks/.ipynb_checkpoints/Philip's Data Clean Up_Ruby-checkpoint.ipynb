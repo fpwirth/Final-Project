{
 "cells": [
  {
   "cell_type": "code",
   "execution_count": 3,
   "metadata": {},
   "outputs": [],
   "source": [
    "#Load dependencies\n",
    "from datetime import datetime as dt, timedelta\n",
    "import pandas as pd\n",
    "import numpy as np\n",
    "from uszipcode import SearchEngine"
   ]
  },
  {
   "cell_type": "code",
   "execution_count": 2,
   "metadata": {},
   "outputs": [
    {
     "name": "stdout",
     "output_type": "stream",
     "text": [
      "Collecting uszipcode\n",
      "  Downloading https://files.pythonhosted.org/packages/bc/94/1b908c6fe2008f0e913b0b2d97951aa76e00ec1044883c012afb2e477b4a/uszipcode-0.2.4-py2.py3-none-any.whl (378kB)\n",
      "Requirement already satisfied: requests in c:\\programdata\\anaconda3\\lib\\site-packages (from uszipcode) (2.22.0)\n",
      "Requirement already satisfied: sqlalchemy in c:\\programdata\\anaconda3\\lib\\site-packages (from uszipcode) (1.3.9)\n",
      "Collecting pathlib-mate (from uszipcode)\n",
      "  Downloading https://files.pythonhosted.org/packages/ee/90/b414af97dea2b4f98b0cebaa69ec02eacca82e6b1ba18632c5927f01591a/pathlib_mate-1.0.0-py2.py3-none-any.whl (77kB)\n",
      "Requirement already satisfied: attrs in c:\\programdata\\anaconda3\\lib\\site-packages (from uszipcode) (19.2.0)\n",
      "Requirement already satisfied: certifi>=2017.4.17 in c:\\programdata\\anaconda3\\lib\\site-packages (from requests->uszipcode) (2019.9.11)\n",
      "Requirement already satisfied: chardet<3.1.0,>=3.0.2 in c:\\programdata\\anaconda3\\lib\\site-packages (from requests->uszipcode) (3.0.4)\n",
      "Requirement already satisfied: urllib3!=1.25.0,!=1.25.1,<1.26,>=1.21.1 in c:\\programdata\\anaconda3\\lib\\site-packages (from requests->uszipcode) (1.24.2)\n",
      "Requirement already satisfied: idna<2.9,>=2.5 in c:\\programdata\\anaconda3\\lib\\site-packages (from requests->uszipcode) (2.8)\n",
      "Requirement already satisfied: six in c:\\programdata\\anaconda3\\lib\\site-packages (from pathlib-mate->uszipcode) (1.12.0)\n",
      "Collecting autopep8 (from pathlib-mate->uszipcode)\n",
      "  Downloading https://files.pythonhosted.org/packages/12/55/7b07585ca0c30e5b216e4d627f82f96f1a7e82d2dd727b1f926cb3f3d58b/autopep8-1.5.tar.gz (116kB)\n",
      "Requirement already satisfied: pycodestyle>=2.5.0 in c:\\programdata\\anaconda3\\lib\\site-packages (from autopep8->pathlib-mate->uszipcode) (2.5.0)\n",
      "Building wheels for collected packages: autopep8\n",
      "  Building wheel for autopep8 (setup.py): started\n",
      "  Building wheel for autopep8 (setup.py): finished with status 'done'\n",
      "  Created wheel for autopep8: filename=autopep8-1.5-py2.py3-none-any.whl size=43272 sha256=9b7a0f6985f0652962af60e6944aa00e1defa123c8eac901179ea299ba6be905\n",
      "  Stored in directory: C:\\Users\\ruby\\AppData\\Local\\pip\\Cache\\wheels\\2b\\dc\\d5\\e4bc37df332b7a88022bc79d6cdccb79068fdc1620d86afc3a\n",
      "Successfully built autopep8\n",
      "Installing collected packages: autopep8, pathlib-mate, uszipcode\n",
      "Successfully installed autopep8-1.5 pathlib-mate-1.0.0 uszipcode-0.2.4\n",
      "Note: you may need to restart the kernel to use updated packages.\n"
     ]
    }
   ],
   "source": [
    "#pip install uszipcode"
   ]
  },
  {
   "cell_type": "code",
   "execution_count": 4,
   "metadata": {},
   "outputs": [],
   "source": [
    "#Define data files to import\n",
    "url2017='https://hfdapp.houstontx.gov/311/311-Public-Data-Extract-2017.txt'\n",
    "url2018='https://hfdapp.houstontx.gov/311/311-Public-Data-Extract-2018.txt'\n",
    "url2019='https://hfdapp.houstontx.gov/311/311-Public-Data-Extract-2019.txt'\n",
    "url2020='https://hfdapp.houstontx.gov/311/311-Public-Data-Extract-monthly.txt'\n",
    "nullzip=pd.read_csv('../Clean Data Files/311latlngzipcodes.csv',dtype={'calczip':str})\n",
    "\n",
    "#Define dataframe column names and select numeric and date columns\n",
    "cols=['case number','sr location','county','district','neighborhood','tax id','trash quad','recycle quad','trash day','heavy trash day','recycle day','key map',\n",
    "      'management district','department','division','sr type','queue','sla','status','sr create date','due date','date closed','overdue','title','x','y','latitude',\n",
    "      'longitude','channel type']\n",
    "numcols=['latitude','longitude']\n",
    "datecols=['sr create date','due date','date closed']\n",
    "\n",
    "#Create zipcode retrieval function\n",
    "search=SearchEngine(simple_zipcode=False)\n",
    "def zipinfo(lat,lng):\n",
    "    zipdata=search.by_coordinates(lat,lng,radius=3,returns=1)\n",
    "    for zipcode in zipdata:\n",
    "        return zipcode.zipcode"
   ]
  },
  {
   "cell_type": "code",
   "execution_count": 5,
   "metadata": {},
   "outputs": [
    {
     "name": "stderr",
     "output_type": "stream",
     "text": [
      "b'Skipping line 9979: expected 29 fields, saw 30\\nSkipping line 16339: expected 29 fields, saw 30\\n'\n",
      "b'Skipping line 211068: expected 29 fields, saw 30\\n'\n",
      "b'Skipping line 294299: expected 29 fields, saw 30\\n'\n",
      "b'Skipping line 327924: expected 29 fields, saw 30\\n'\n"
     ]
    },
    {
     "data": {
      "text/plain": [
       "(364664, 29)"
      ]
     },
     "execution_count": 5,
     "metadata": {},
     "output_type": "execute_result"
    }
   ],
   "source": [
    "#Create 2017 data frames\n",
    "data2017=pd.read_csv(url2017,header=5,sep='|',error_bad_lines=False)\n",
    "data2017=data2017.drop(data2017.index[0]).reset_index(drop=True)\n",
    "data2017.columns=cols\n",
    "data2017[cols]=data2017[cols].apply(lambda x:x.str.strip()).replace(r'^\\s*$',np.nan,regex=True)\n",
    "data2017[datecols]=data2017[datecols].apply(pd.to_datetime,format='%Y-%m-%d %H:%M:%S',errors='coerce')\n",
    "data2017[numcols]=data2017[numcols].apply(pd.to_numeric,errors='coerce')\n",
    "top2017=data2017['sr type'].value_counts()[lambda x:x>=10000].index.tolist()\n",
    "data2017.shape"
   ]
  },
  {
   "cell_type": "code",
   "execution_count": 6,
   "metadata": {},
   "outputs": [
    {
     "name": "stderr",
     "output_type": "stream",
     "text": [
      "b'Skipping line 124864: expected 29 fields, saw 30\\n'\n",
      "C:\\ProgramData\\Anaconda3\\lib\\site-packages\\IPython\\core\\interactiveshell.py:3058: DtypeWarning: Columns (22) have mixed types. Specify dtype option on import or set low_memory=False.\n",
      "  interactivity=interactivity, compiler=compiler, result=result)\n"
     ]
    },
    {
     "data": {
      "text/plain": [
       "(399953, 29)"
      ]
     },
     "execution_count": 6,
     "metadata": {},
     "output_type": "execute_result"
    }
   ],
   "source": [
    "#Create 2018 data frames\n",
    "data2018=pd.read_csv(url2018,header=5,sep='|',error_bad_lines=False)\n",
    "data2018=data2018.drop(data2018.index[0]).reset_index(drop=True)\n",
    "data2018.columns=cols\n",
    "data2018[cols]=data2018[cols].apply(lambda x:x.str.strip()).replace(r'^\\s*$',np.nan,regex=True)\n",
    "data2018[datecols]=data2018[datecols].apply(pd.to_datetime,format='%Y-%m-%d %H:%M:%S',errors='coerce')\n",
    "data2018[numcols]=data2018[numcols].apply(pd.to_numeric,errors='coerce')\n",
    "top2018=data2018['sr type'].value_counts()[lambda x:x>=10000].index.tolist()\n",
    "data2018.shape"
   ]
  },
  {
   "cell_type": "code",
   "execution_count": 7,
   "metadata": {},
   "outputs": [
    {
     "name": "stderr",
     "output_type": "stream",
     "text": [
      "b'Skipping line 86859: expected 29 fields, saw 31\\n'\n",
      "b'Skipping line 124913: expected 29 fields, saw 30\\n'\n",
      "b'Skipping line 144497: expected 29 fields, saw 30\\n'\n",
      "b'Skipping line 218652: expected 29 fields, saw 31\\n'\n",
      "b'Skipping line 349873: expected 29 fields, saw 30\\n'\n"
     ]
    },
    {
     "data": {
      "text/plain": [
       "(395258, 29)"
      ]
     },
     "execution_count": 7,
     "metadata": {},
     "output_type": "execute_result"
    }
   ],
   "source": [
    "#Create 2019 data frames\n",
    "data2019=pd.read_csv(url2019,header=5,sep='|',error_bad_lines=False)\n",
    "data2019=data2019.drop(data2019.index[0]).reset_index(drop=True)\n",
    "data2019.columns=cols\n",
    "data2019[cols]=data2019[cols].apply(lambda x:x.str.strip()).replace(r'^\\s*$',np.nan,regex=True)\n",
    "data2019[datecols]=data2019[datecols].apply(pd.to_datetime,format='%Y-%m-%d %H:%M:%S',errors='coerce')\n",
    "data2019[numcols]=data2019[numcols].apply(pd.to_numeric,errors='coerce')\n",
    "top2019=data2019['sr type'].value_counts()[lambda x:x>=10000].index.tolist()\n",
    "data2019.shape"
   ]
  },
  {
   "cell_type": "code",
   "execution_count": 10,
   "metadata": {},
   "outputs": [
    {
     "data": {
      "text/plain": [
       "(1059994, 39)"
      ]
     },
     "execution_count": 10,
     "metadata": {},
     "output_type": "execute_result"
    }
   ],
   "source": [
    "#Create all complete years dataframe\n",
    "tempdata311=data2017.append([data2018,data2019])\n",
    "data311=pd.merge(tempdata311,nullzip,on=['latitude','longitude'],how='left')\n",
    "data311['year']=data311['sr create date'].dt.strftime('%Y')\n",
    "data311['month']=data311['sr create date'].dt.strftime('%m')\n",
    "data311=data311[pd.notnull(data311['latitude'])]\n",
    "data311['truezip']='77'+data311['sr location'].str.extract(r'77(\\d{3}\\-?\\d{0,4})')\n",
    "data311['zipcode']=np.where(data311['truezip'].isnull()==True,data311['calczip'],data311['truezip'])\n",
    "data311['openclosetime']=data311['date closed']-data311['sr create date']\n",
    "data311['daystoclose']=data311['openclosetime']/timedelta(days=1)\n",
    "data311['openduetime']=data311['due date']-data311['sr create date']\n",
    "data311['daysdue']=data311['openduetime']/timedelta(days=1)\n",
    "data311['missedduedate']=np.where(data311['due date']>data311['date closed'],0,1)\n",
    "types311=data311.groupby(['sr type','year'])['case number'].count().unstack('year').reset_index()\n",
    "types311.columns=['sr type','2017','2018','2019']\n",
    "data311.shape"
   ]
  },
  {
   "cell_type": "code",
   "execution_count": 9,
   "metadata": {},
   "outputs": [
    {
     "data": {
      "text/plain": [
       "(25328, 32)"
      ]
     },
     "execution_count": 9,
     "metadata": {},
     "output_type": "execute_result"
    }
   ],
   "source": [
    "#Create 2020 data frames\n",
    "data2020=pd.read_csv(url2020,header=5,sep='|',error_bad_lines=False)\n",
    "data2020=data2020.drop(data2020.index[0]).reset_index(drop=True)\n",
    "data2020.columns=cols\n",
    "data2020[cols]=data2020[cols].apply(lambda x:x.str.strip()).replace(r'^\\s*$',np.nan,regex=True)\n",
    "data2020[datecols]=data2020[datecols].apply(pd.to_datetime,errors='coerce')\n",
    "data2020[numcols]=data2020[numcols].apply(pd.to_numeric,errors='coerce')\n",
    "data2020=data2020[pd.notnull(data2020['latitude'])]\n",
    "data2020['zipcode']='77'+data2020['sr location'].str.extract(r'77(\\d{3}\\-?\\d{0,4})')\n",
    "data2020['openclosetime']=data2020['date closed']-data2020['sr create date']\n",
    "data2020['openduetime']=data2020['due date']-data2020['sr create date']\n",
    "top2020=data2020['sr type'].value_counts()[lambda x:x>=10000].index.tolist()\n",
    "data2020.shape"
   ]
  },
  {
   "cell_type": "code",
   "execution_count": 11,
   "metadata": {},
   "outputs": [],
   "source": [
    "#Create csv of number of service requests by type per year\n",
    "types311.to_csv('../Clean Data Files/Houston 311 SR Types by Year.csv',index=False,header=True)"
   ]
  },
  {
   "cell_type": "code",
   "execution_count": 12,
   "metadata": {},
   "outputs": [
    {
     "data": {
      "text/html": [
       "<div>\n",
       "<style scoped>\n",
       "    .dataframe tbody tr th:only-of-type {\n",
       "        vertical-align: middle;\n",
       "    }\n",
       "\n",
       "    .dataframe tbody tr th {\n",
       "        vertical-align: top;\n",
       "    }\n",
       "\n",
       "    .dataframe thead th {\n",
       "        text-align: right;\n",
       "    }\n",
       "</style>\n",
       "<table border=\"1\" class=\"dataframe\">\n",
       "  <thead>\n",
       "    <tr style=\"text-align: right;\">\n",
       "      <th></th>\n",
       "      <th>index</th>\n",
       "      <th>case number</th>\n",
       "      <th>sr location</th>\n",
       "      <th>county</th>\n",
       "      <th>district</th>\n",
       "      <th>neighborhood</th>\n",
       "      <th>tax id</th>\n",
       "      <th>trash quad</th>\n",
       "      <th>recycle quad</th>\n",
       "      <th>trash day</th>\n",
       "      <th>...</th>\n",
       "      <th>calczip</th>\n",
       "      <th>year</th>\n",
       "      <th>month</th>\n",
       "      <th>truezip</th>\n",
       "      <th>zipcode</th>\n",
       "      <th>openclosetime</th>\n",
       "      <th>daystoclose</th>\n",
       "      <th>openduetime</th>\n",
       "      <th>daysdue</th>\n",
       "      <th>missedduedate</th>\n",
       "    </tr>\n",
       "  </thead>\n",
       "  <tbody>\n",
       "    <tr>\n",
       "      <td>0</td>\n",
       "      <td>2</td>\n",
       "      <td>101002444726</td>\n",
       "      <td>Intersection 3900 S GESSNER RD&amp;10000 WESTPARK DR</td>\n",
       "      <td>Harris County</td>\n",
       "      <td>F</td>\n",
       "      <td>MID WEST</td>\n",
       "      <td>NULL</td>\n",
       "      <td>NaN</td>\n",
       "      <td>NaN</td>\n",
       "      <td>NaN</td>\n",
       "      <td>...</td>\n",
       "      <td>77063</td>\n",
       "      <td>2017</td>\n",
       "      <td>01</td>\n",
       "      <td>NaN</td>\n",
       "      <td>77063</td>\n",
       "      <td>0 days 00:09:53</td>\n",
       "      <td>0.006863</td>\n",
       "      <td>1 days 00:00:00</td>\n",
       "      <td>1.000000</td>\n",
       "      <td>0</td>\n",
       "    </tr>\n",
       "    <tr>\n",
       "      <td>1</td>\n",
       "      <td>6</td>\n",
       "      <td>12091836-101002444730</td>\n",
       "      <td>3303 SAGE, HOUSTON TX 77056</td>\n",
       "      <td>HARRIS</td>\n",
       "      <td>G</td>\n",
       "      <td>GREATER UPTOWN</td>\n",
       "      <td>0451400060009</td>\n",
       "      <td>NaN</td>\n",
       "      <td>NaN</td>\n",
       "      <td>NaN</td>\n",
       "      <td>...</td>\n",
       "      <td>NaN</td>\n",
       "      <td>2017</td>\n",
       "      <td>01</td>\n",
       "      <td>77056</td>\n",
       "      <td>77056</td>\n",
       "      <td>32 days 12:49:18</td>\n",
       "      <td>32.534236</td>\n",
       "      <td>9 days 23:59:59</td>\n",
       "      <td>9.999988</td>\n",
       "      <td>1</td>\n",
       "    </tr>\n",
       "    <tr>\n",
       "      <td>2</td>\n",
       "      <td>9</td>\n",
       "      <td>101002444733</td>\n",
       "      <td>Intersection 1400 CAROLINE ST&amp;1300 CLAY ST</td>\n",
       "      <td>Harris County</td>\n",
       "      <td>I</td>\n",
       "      <td>DOWNTOWN</td>\n",
       "      <td>NULL</td>\n",
       "      <td>NaN</td>\n",
       "      <td>NaN</td>\n",
       "      <td>NaN</td>\n",
       "      <td>...</td>\n",
       "      <td>77010</td>\n",
       "      <td>2017</td>\n",
       "      <td>01</td>\n",
       "      <td>NaN</td>\n",
       "      <td>77010</td>\n",
       "      <td>0 days 03:29:24</td>\n",
       "      <td>0.145417</td>\n",
       "      <td>1 days 00:00:00</td>\n",
       "      <td>1.000000</td>\n",
       "      <td>0</td>\n",
       "    </tr>\n",
       "    <tr>\n",
       "      <td>3</td>\n",
       "      <td>12</td>\n",
       "      <td>12091839-101002444736</td>\n",
       "      <td>7701 APPLETON, HOUSTON TX 77022</td>\n",
       "      <td>HARRIS</td>\n",
       "      <td>H</td>\n",
       "      <td>NORTHSIDE/NORTHLINE</td>\n",
       "      <td>0710210010015</td>\n",
       "      <td>NE</td>\n",
       "      <td>NW</td>\n",
       "      <td>MONDAY</td>\n",
       "      <td>...</td>\n",
       "      <td>NaN</td>\n",
       "      <td>2017</td>\n",
       "      <td>01</td>\n",
       "      <td>77022</td>\n",
       "      <td>77022</td>\n",
       "      <td>3 days 05:37:27</td>\n",
       "      <td>3.234340</td>\n",
       "      <td>0 days 23:59:58</td>\n",
       "      <td>0.999977</td>\n",
       "      <td>1</td>\n",
       "    </tr>\n",
       "    <tr>\n",
       "      <td>4</td>\n",
       "      <td>13</td>\n",
       "      <td>12091840-101002444737</td>\n",
       "      <td>7701 APPLETON, HOUSTON TX 77022</td>\n",
       "      <td>HARRIS</td>\n",
       "      <td>H</td>\n",
       "      <td>NORTHSIDE/NORTHLINE</td>\n",
       "      <td>0420050000055</td>\n",
       "      <td>NE</td>\n",
       "      <td>NW</td>\n",
       "      <td>MONDAY</td>\n",
       "      <td>...</td>\n",
       "      <td>NaN</td>\n",
       "      <td>2017</td>\n",
       "      <td>01</td>\n",
       "      <td>77022</td>\n",
       "      <td>77022</td>\n",
       "      <td>2 days 22:16:31</td>\n",
       "      <td>2.928137</td>\n",
       "      <td>2 days 00:00:00</td>\n",
       "      <td>2.000000</td>\n",
       "      <td>1</td>\n",
       "    </tr>\n",
       "    <tr>\n",
       "      <td>...</td>\n",
       "      <td>...</td>\n",
       "      <td>...</td>\n",
       "      <td>...</td>\n",
       "      <td>...</td>\n",
       "      <td>...</td>\n",
       "      <td>...</td>\n",
       "      <td>...</td>\n",
       "      <td>...</td>\n",
       "      <td>...</td>\n",
       "      <td>...</td>\n",
       "      <td>...</td>\n",
       "      <td>...</td>\n",
       "      <td>...</td>\n",
       "      <td>...</td>\n",
       "      <td>...</td>\n",
       "      <td>...</td>\n",
       "      <td>...</td>\n",
       "      <td>...</td>\n",
       "      <td>...</td>\n",
       "      <td>...</td>\n",
       "      <td>...</td>\n",
       "    </tr>\n",
       "    <tr>\n",
       "      <td>657188</td>\n",
       "      <td>1159867</td>\n",
       "      <td>101003785782</td>\n",
       "      <td>3614 S MACGREGOR, HOUSTON TX 77021</td>\n",
       "      <td>HARRIS</td>\n",
       "      <td>D</td>\n",
       "      <td>MACGREGOR</td>\n",
       "      <td>0611350550011</td>\n",
       "      <td>SE</td>\n",
       "      <td>SW</td>\n",
       "      <td>TUESDAY</td>\n",
       "      <td>...</td>\n",
       "      <td>NaN</td>\n",
       "      <td>2019</td>\n",
       "      <td>12</td>\n",
       "      <td>77021</td>\n",
       "      <td>77021</td>\n",
       "      <td>1 days 19:05:30</td>\n",
       "      <td>1.795486</td>\n",
       "      <td>5 days 09:31:13</td>\n",
       "      <td>5.396678</td>\n",
       "      <td>0</td>\n",
       "    </tr>\n",
       "    <tr>\n",
       "      <td>657189</td>\n",
       "      <td>1159868</td>\n",
       "      <td>101003785783</td>\n",
       "      <td>3547 TAMPA, HOUSTON TX 77021</td>\n",
       "      <td>HARRIS</td>\n",
       "      <td>D</td>\n",
       "      <td>MACGREGOR</td>\n",
       "      <td>0741210010025</td>\n",
       "      <td>SE</td>\n",
       "      <td>SW</td>\n",
       "      <td>TUESDAY</td>\n",
       "      <td>...</td>\n",
       "      <td>NaN</td>\n",
       "      <td>2019</td>\n",
       "      <td>12</td>\n",
       "      <td>77021</td>\n",
       "      <td>77021</td>\n",
       "      <td>1 days 18:49:53</td>\n",
       "      <td>1.784641</td>\n",
       "      <td>5 days 09:15:17</td>\n",
       "      <td>5.385613</td>\n",
       "      <td>0</td>\n",
       "    </tr>\n",
       "    <tr>\n",
       "      <td>657190</td>\n",
       "      <td>1159870</td>\n",
       "      <td>101003785785</td>\n",
       "      <td>3415 WENTWORTH, HOUSTON TX 77004</td>\n",
       "      <td>HARRIS</td>\n",
       "      <td>D</td>\n",
       "      <td>MACGREGOR</td>\n",
       "      <td>0700280060004</td>\n",
       "      <td>SE</td>\n",
       "      <td>SW</td>\n",
       "      <td>TUESDAY</td>\n",
       "      <td>...</td>\n",
       "      <td>NaN</td>\n",
       "      <td>2019</td>\n",
       "      <td>12</td>\n",
       "      <td>77004</td>\n",
       "      <td>77004</td>\n",
       "      <td>1 days 18:22:03</td>\n",
       "      <td>1.765313</td>\n",
       "      <td>5 days 08:47:10</td>\n",
       "      <td>5.366088</td>\n",
       "      <td>0</td>\n",
       "    </tr>\n",
       "    <tr>\n",
       "      <td>657191</td>\n",
       "      <td>1159871</td>\n",
       "      <td>20024521-101003785786</td>\n",
       "      <td>11035 AVON BROOK, HOUSTON TX 77034</td>\n",
       "      <td>HARRIS</td>\n",
       "      <td>E</td>\n",
       "      <td>SOUTH BELT / ELLINGTON</td>\n",
       "      <td>1319170030001</td>\n",
       "      <td>SE</td>\n",
       "      <td>SE</td>\n",
       "      <td>THURSDAY</td>\n",
       "      <td>...</td>\n",
       "      <td>NaN</td>\n",
       "      <td>2019</td>\n",
       "      <td>12</td>\n",
       "      <td>77034</td>\n",
       "      <td>77034</td>\n",
       "      <td>0 days 10:10:54</td>\n",
       "      <td>0.424236</td>\n",
       "      <td>10 days 00:00:00</td>\n",
       "      <td>10.000000</td>\n",
       "      <td>0</td>\n",
       "    </tr>\n",
       "    <tr>\n",
       "      <td>657192</td>\n",
       "      <td>1159872</td>\n",
       "      <td>20024522-101003785787</td>\n",
       "      <td>11035 AVON BROOK, HOUSTON TX 77034</td>\n",
       "      <td>HARRIS</td>\n",
       "      <td>E</td>\n",
       "      <td>SOUTH BELT / ELLINGTON</td>\n",
       "      <td>1319170030001</td>\n",
       "      <td>SE</td>\n",
       "      <td>SE</td>\n",
       "      <td>THURSDAY</td>\n",
       "      <td>...</td>\n",
       "      <td>NaN</td>\n",
       "      <td>2019</td>\n",
       "      <td>12</td>\n",
       "      <td>77034</td>\n",
       "      <td>77034</td>\n",
       "      <td>0 days 05:00:22</td>\n",
       "      <td>0.208588</td>\n",
       "      <td>2 days 00:00:00</td>\n",
       "      <td>2.000000</td>\n",
       "      <td>0</td>\n",
       "    </tr>\n",
       "  </tbody>\n",
       "</table>\n",
       "<p>657193 rows × 40 columns</p>\n",
       "</div>"
      ],
      "text/plain": [
       "          index            case number  \\\n",
       "0             2           101002444726   \n",
       "1             6  12091836-101002444730   \n",
       "2             9           101002444733   \n",
       "3            12  12091839-101002444736   \n",
       "4            13  12091840-101002444737   \n",
       "...         ...                    ...   \n",
       "657188  1159867           101003785782   \n",
       "657189  1159868           101003785783   \n",
       "657190  1159870           101003785785   \n",
       "657191  1159871  20024521-101003785786   \n",
       "657192  1159872  20024522-101003785787   \n",
       "\n",
       "                                             sr location         county  \\\n",
       "0       Intersection 3900 S GESSNER RD&10000 WESTPARK DR  Harris County   \n",
       "1                            3303 SAGE, HOUSTON TX 77056         HARRIS   \n",
       "2             Intersection 1400 CAROLINE ST&1300 CLAY ST  Harris County   \n",
       "3                        7701 APPLETON, HOUSTON TX 77022         HARRIS   \n",
       "4                        7701 APPLETON, HOUSTON TX 77022         HARRIS   \n",
       "...                                                  ...            ...   \n",
       "657188                3614 S MACGREGOR, HOUSTON TX 77021         HARRIS   \n",
       "657189                      3547 TAMPA, HOUSTON TX 77021         HARRIS   \n",
       "657190                  3415 WENTWORTH, HOUSTON TX 77004         HARRIS   \n",
       "657191                11035 AVON BROOK, HOUSTON TX 77034         HARRIS   \n",
       "657192                11035 AVON BROOK, HOUSTON TX 77034         HARRIS   \n",
       "\n",
       "       district            neighborhood         tax id trash quad  \\\n",
       "0             F                MID WEST           NULL        NaN   \n",
       "1             G          GREATER UPTOWN  0451400060009        NaN   \n",
       "2             I                DOWNTOWN           NULL        NaN   \n",
       "3             H     NORTHSIDE/NORTHLINE  0710210010015         NE   \n",
       "4             H     NORTHSIDE/NORTHLINE  0420050000055         NE   \n",
       "...         ...                     ...            ...        ...   \n",
       "657188        D               MACGREGOR  0611350550011         SE   \n",
       "657189        D               MACGREGOR  0741210010025         SE   \n",
       "657190        D               MACGREGOR  0700280060004         SE   \n",
       "657191        E  SOUTH BELT / ELLINGTON  1319170030001         SE   \n",
       "657192        E  SOUTH BELT / ELLINGTON  1319170030001         SE   \n",
       "\n",
       "       recycle quad trash day  ... calczip  year month truezip zipcode  \\\n",
       "0               NaN       NaN  ...   77063  2017    01     NaN   77063   \n",
       "1               NaN       NaN  ...     NaN  2017    01   77056   77056   \n",
       "2               NaN       NaN  ...   77010  2017    01     NaN   77010   \n",
       "3                NW    MONDAY  ...     NaN  2017    01   77022   77022   \n",
       "4                NW    MONDAY  ...     NaN  2017    01   77022   77022   \n",
       "...             ...       ...  ...     ...   ...   ...     ...     ...   \n",
       "657188           SW   TUESDAY  ...     NaN  2019    12   77021   77021   \n",
       "657189           SW   TUESDAY  ...     NaN  2019    12   77021   77021   \n",
       "657190           SW   TUESDAY  ...     NaN  2019    12   77004   77004   \n",
       "657191           SE  THURSDAY  ...     NaN  2019    12   77034   77034   \n",
       "657192           SE  THURSDAY  ...     NaN  2019    12   77034   77034   \n",
       "\n",
       "          openclosetime daystoclose      openduetime    daysdue missedduedate  \n",
       "0       0 days 00:09:53    0.006863  1 days 00:00:00   1.000000             0  \n",
       "1      32 days 12:49:18   32.534236  9 days 23:59:59   9.999988             1  \n",
       "2       0 days 03:29:24    0.145417  1 days 00:00:00   1.000000             0  \n",
       "3       3 days 05:37:27    3.234340  0 days 23:59:58   0.999977             1  \n",
       "4       2 days 22:16:31    2.928137  2 days 00:00:00   2.000000             1  \n",
       "...                 ...         ...              ...        ...           ...  \n",
       "657188  1 days 19:05:30    1.795486  5 days 09:31:13   5.396678             0  \n",
       "657189  1 days 18:49:53    1.784641  5 days 09:15:17   5.385613             0  \n",
       "657190  1 days 18:22:03    1.765313  5 days 08:47:10   5.366088             0  \n",
       "657191  0 days 10:10:54    0.424236 10 days 00:00:00  10.000000             0  \n",
       "657192  0 days 05:00:22    0.208588  2 days 00:00:00   2.000000             0  \n",
       "\n",
       "[657193 rows x 40 columns]"
      ]
     },
     "execution_count": 12,
     "metadata": {},
     "output_type": "execute_result"
    }
   ],
   "source": [
    "#Create dataframe containing service requests with around 10000 a year\n",
    "toprequests=sorted(np.unique(top2017+top2018+top2019+top2020))\n",
    "topdata=data311.loc[data311['sr type'].isin(toprequests)].reset_index()\n",
    "topdata"
   ]
  },
  {
   "cell_type": "code",
   "execution_count": 13,
   "metadata": {},
   "outputs": [
    {
     "data": {
      "text/plain": [
       "index                       0\n",
       "case number                 0\n",
       "sr location                 0\n",
       "county                   1968\n",
       "district                 2798\n",
       "neighborhood             3755\n",
       "tax id                   1958\n",
       "trash quad             106569\n",
       "recycle quad           108718\n",
       "trash day              106569\n",
       "heavy trash day        107179\n",
       "recycle day            108716\n",
       "key map                     0\n",
       "management district    380775\n",
       "department                  0\n",
       "division                    0\n",
       "sr type                     0\n",
       "queue                       0\n",
       "sla                         0\n",
       "status                      0\n",
       "sr create date              0\n",
       "due date                    6\n",
       "date closed              6803\n",
       "overdue                  4982\n",
       "title                       0\n",
       "x                           0\n",
       "y                           0\n",
       "latitude                    0\n",
       "longitude                   0\n",
       "channel type                0\n",
       "calczip                594941\n",
       "year                        0\n",
       "month                       0\n",
       "truezip                 65807\n",
       "zipcode                  3555\n",
       "openclosetime            6803\n",
       "daystoclose              6803\n",
       "openduetime                 6\n",
       "daysdue                     6\n",
       "missedduedate               0\n",
       "dtype: int64"
      ]
     },
     "execution_count": 13,
     "metadata": {},
     "output_type": "execute_result"
    }
   ],
   "source": [
    "#Display null values in dataset\n",
    "topdata.isnull().sum()"
   ]
  },
  {
   "cell_type": "code",
   "execution_count": 14,
   "metadata": {},
   "outputs": [],
   "source": [
    "missingzip=topdata[topdata.zipcode.isnull()]\n",
    "missingzip=missingzip[['latitude','longitude']].reset_index()\n",
    "missingzip.drop_duplicates(inplace=True)\n",
    "#zipmiss=missingzip[0:5000]\n",
    "missingzip['calczip']=np.vectorize(zipinfo)(missingzip['latitude'].values,missingzip['longitude'].values)"
   ]
  },
  {
   "cell_type": "code",
   "execution_count": 15,
   "metadata": {},
   "outputs": [
    {
     "data": {
      "text/html": [
       "<div>\n",
       "<style scoped>\n",
       "    .dataframe tbody tr th:only-of-type {\n",
       "        vertical-align: middle;\n",
       "    }\n",
       "\n",
       "    .dataframe tbody tr th {\n",
       "        vertical-align: top;\n",
       "    }\n",
       "\n",
       "    .dataframe thead th {\n",
       "        text-align: right;\n",
       "    }\n",
       "</style>\n",
       "<table border=\"1\" class=\"dataframe\">\n",
       "  <thead>\n",
       "    <tr style=\"text-align: right;\">\n",
       "      <th></th>\n",
       "      <th>latitude</th>\n",
       "      <th>longitude</th>\n",
       "      <th>calczip</th>\n",
       "    </tr>\n",
       "  </thead>\n",
       "  <tbody>\n",
       "    <tr>\n",
       "      <td>0</td>\n",
       "      <td>29.722099</td>\n",
       "      <td>-95.539078</td>\n",
       "      <td>77063</td>\n",
       "    </tr>\n",
       "    <tr>\n",
       "      <td>1</td>\n",
       "      <td>29.752398</td>\n",
       "      <td>-95.364693</td>\n",
       "      <td>77010</td>\n",
       "    </tr>\n",
       "    <tr>\n",
       "      <td>2</td>\n",
       "      <td>29.813465</td>\n",
       "      <td>-95.369751</td>\n",
       "      <td>77022</td>\n",
       "    </tr>\n",
       "    <tr>\n",
       "      <td>3</td>\n",
       "      <td>29.795120</td>\n",
       "      <td>-95.545807</td>\n",
       "      <td>77080</td>\n",
       "    </tr>\n",
       "    <tr>\n",
       "      <td>4</td>\n",
       "      <td>29.833042</td>\n",
       "      <td>-95.482864</td>\n",
       "      <td>77092</td>\n",
       "    </tr>\n",
       "    <tr>\n",
       "      <td>...</td>\n",
       "      <td>...</td>\n",
       "      <td>...</td>\n",
       "      <td>...</td>\n",
       "    </tr>\n",
       "    <tr>\n",
       "      <td>3487</td>\n",
       "      <td>29.854492</td>\n",
       "      <td>-95.468086</td>\n",
       "      <td>77092</td>\n",
       "    </tr>\n",
       "    <tr>\n",
       "      <td>3501</td>\n",
       "      <td>30.054660</td>\n",
       "      <td>-95.196577</td>\n",
       "      <td>77339</td>\n",
       "    </tr>\n",
       "    <tr>\n",
       "      <td>3525</td>\n",
       "      <td>29.711504</td>\n",
       "      <td>-95.337372</td>\n",
       "      <td>77021</td>\n",
       "    </tr>\n",
       "    <tr>\n",
       "      <td>3530</td>\n",
       "      <td>29.832123</td>\n",
       "      <td>-95.515526</td>\n",
       "      <td>77080</td>\n",
       "    </tr>\n",
       "    <tr>\n",
       "      <td>3536</td>\n",
       "      <td>29.790125</td>\n",
       "      <td>-95.374184</td>\n",
       "      <td>77009</td>\n",
       "    </tr>\n",
       "  </tbody>\n",
       "</table>\n",
       "<p>16943 rows × 3 columns</p>\n",
       "</div>"
      ],
      "text/plain": [
       "       latitude  longitude calczip\n",
       "0     29.722099 -95.539078   77063\n",
       "1     29.752398 -95.364693   77010\n",
       "2     29.813465 -95.369751   77022\n",
       "3     29.795120 -95.545807   77080\n",
       "4     29.833042 -95.482864   77092\n",
       "...         ...        ...     ...\n",
       "3487  29.854492 -95.468086   77092\n",
       "3501  30.054660 -95.196577   77339\n",
       "3525  29.711504 -95.337372   77021\n",
       "3530  29.832123 -95.515526   77080\n",
       "3536  29.790125 -95.374184   77009\n",
       "\n",
       "[16943 rows x 3 columns]"
      ]
     },
     "execution_count": 15,
     "metadata": {},
     "output_type": "execute_result"
    }
   ],
   "source": [
    "newnullzip=nullzip.append([missingzip],sort=False)\n",
    "newnullzip.drop(['index'],axis=1,inplace=True)\n",
    "newnullzip.drop_duplicates(inplace=True)\n",
    "newnullzip"
   ]
  },
  {
   "cell_type": "code",
   "execution_count": 16,
   "metadata": {},
   "outputs": [],
   "source": [
    "newnullzip.to_csv('../Clean Data Files/311latlngzipcodes.csv',index=False,header=True)"
   ]
  },
  {
   "cell_type": "code",
   "execution_count": null,
   "metadata": {},
   "outputs": [],
   "source": []
  },
  {
   "cell_type": "code",
   "execution_count": 17,
   "metadata": {},
   "outputs": [],
   "source": [
    "data311.to_csv(\"../../311_data_17_19.csv\", index = False)"
   ]
  },
  {
   "cell_type": "code",
   "execution_count": 18,
   "metadata": {},
   "outputs": [
    {
     "data": {
      "text/plain": [
       "(1059994, 39)"
      ]
     },
     "execution_count": 18,
     "metadata": {},
     "output_type": "execute_result"
    }
   ],
   "source": [
    "data311.shape"
   ]
  },
  {
   "cell_type": "code",
   "execution_count": 19,
   "metadata": {},
   "outputs": [],
   "source": [
    "data311WithZip = data311[data311['zipcode'].str.len() == 5]"
   ]
  },
  {
   "cell_type": "code",
   "execution_count": 20,
   "metadata": {},
   "outputs": [],
   "source": [
    "#data2017WithZipA = data2017WithZip[data2017WithZip.sla.apply(lambda x: x.isnumeric())]\n",
    "data311WithZip = data311WithZip[pd.to_numeric(data311WithZip['sla'], errors='coerce').notnull()]\n",
    "data311WithZip = data311WithZip[pd.to_numeric(data311WithZip['overdue'], errors='coerce').notnull()]\n",
    "data311WithZip['sla'] = data311WithZip['sla'].astype(float)\n",
    "data311WithZip['overdue'] = data311WithZip['overdue'].astype(float)\n"
   ]
  },
  {
   "cell_type": "code",
   "execution_count": 28,
   "metadata": {},
   "outputs": [],
   "source": [
    "data311WithZip['date_field_str'] = data311WithZip['sr create date'].dt.strftime('%Y%m%d')\n",
    "data311WithZip['date_month'] = data311WithZip['sr create date'].dt.strftime('%b')\n",
    "data311WithZip['date_field'] = data311WithZip['sr create date'].dt.date \n"
   ]
  },
  {
   "cell_type": "code",
   "execution_count": 34,
   "metadata": {},
   "outputs": [],
   "source": [
    "data311WithZip['serv_type'] = data311WithZip['sr type']"
   ]
  },
  {
   "cell_type": "code",
   "execution_count": 35,
   "metadata": {},
   "outputs": [],
   "source": [
    "dataAgg = data311WithZip.groupby(['zipcode', 'date_field', 'date_field_str', 'serv_type', 'neighborhood']).agg(\n",
    "    # Get max of the duration column for each group\n",
    "    avg_sla=('sla', 'mean'),\n",
    "    count_issues=('title', 'count'),\n",
    "    # Get min of the duration column for each group\n",
    "    avg_overdue=('overdue', 'mean'))  "
   ]
  },
  {
   "cell_type": "code",
   "execution_count": 36,
   "metadata": {},
   "outputs": [],
   "source": [
    "dataAgg['avg_time'] = dataAgg['avg_sla'] +  dataAgg['avg_overdue']\n"
   ]
  },
  {
   "cell_type": "code",
   "execution_count": 37,
   "metadata": {},
   "outputs": [],
   "source": [
    "dataAgg.to_csv(\"../static/data/agg_hist_311_data.csv\")"
   ]
  },
  {
   "cell_type": "code",
   "execution_count": 46,
   "metadata": {},
   "outputs": [],
   "source": [
    "dataAgg.reset_index(inplace=True)\n"
   ]
  },
  {
   "cell_type": "code",
   "execution_count": 47,
   "metadata": {},
   "outputs": [],
   "source": [
    " dataAggTypes = dataAgg.groupby(['serv_type']).agg(\n",
    "    # Get max of the duration column for each group\n",
    "    count_issues=('serv_type', 'count'))  "
   ]
  },
  {
   "cell_type": "code",
   "execution_count": 41,
   "metadata": {},
   "outputs": [
    {
     "data": {
      "text/plain": [
       "pandas.core.frame.DataFrame"
      ]
     },
     "execution_count": 41,
     "metadata": {},
     "output_type": "execute_result"
    }
   ],
   "source": [
    "type(dataAgg)"
   ]
  },
  {
   "cell_type": "code",
   "execution_count": null,
   "metadata": {},
   "outputs": [],
   "source": []
  }
 ],
 "metadata": {
  "kernelspec": {
   "display_name": "Python 3",
   "language": "python",
   "name": "python3"
  },
  "language_info": {
   "codemirror_mode": {
    "name": "ipython",
    "version": 3
   },
   "file_extension": ".py",
   "mimetype": "text/x-python",
   "name": "python",
   "nbconvert_exporter": "python",
   "pygments_lexer": "ipython3",
   "version": "3.7.4"
  }
 },
 "nbformat": 4,
 "nbformat_minor": 4
}
