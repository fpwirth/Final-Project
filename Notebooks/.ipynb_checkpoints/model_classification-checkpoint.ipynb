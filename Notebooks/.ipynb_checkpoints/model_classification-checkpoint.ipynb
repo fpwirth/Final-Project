{
 "cells": [
  {
   "cell_type": "markdown",
   "metadata": {},
   "source": [
    "##  This notebook was used to develop the classification models to predict if the due date was not met (1) vs. met (1)."
   ]
  },
  {
   "cell_type": "markdown",
   "metadata": {},
   "source": [
    "#### Import dependencies"
   ]
  },
  {
   "cell_type": "code",
   "execution_count": 5,
   "metadata": {},
   "outputs": [],
   "source": [
    "import pandas as pd\n",
    "import datetime\n",
    "%matplotlib inline\n",
    "import matplotlib.pyplot as plt\n",
    "import numpy as np\n",
    "from sklearn.model_selection import GridSearchCV"
   ]
  },
  {
   "cell_type": "markdown",
   "metadata": {},
   "source": [
    "## Read in the final version of the data that has the weather and census data merged in already and do some further processing"
   ]
  },
  {
   "cell_type": "code",
   "execution_count": 93,
   "metadata": {},
   "outputs": [
    {
     "name": "stderr",
     "output_type": "stream",
     "text": [
      "C:\\Users\\jeickholt\\Anaconda3\\lib\\site-packages\\IPython\\core\\interactiveshell.py:3057: DtypeWarning: Columns (5) have mixed types. Specify dtype option on import or set low_memory=False.\n",
      "  interactivity=interactivity, compiler=compiler, result=result)\n"
     ]
    }
   ],
   "source": [
    "# read in the data. Because of the size of this data, put into the dataignore folder which was added to the .gitignore\n",
    "\n",
    "modeldata_df = pd.read_csv(\"../static/dataignore/modeldata.csv\")\n"
   ]
  },
  {
   "cell_type": "code",
   "execution_count": 279,
   "metadata": {},
   "outputs": [
    {
     "data": {
      "text/html": [
       "<div>\n",
       "<style scoped>\n",
       "    .dataframe tbody tr th:only-of-type {\n",
       "        vertical-align: middle;\n",
       "    }\n",
       "\n",
       "    .dataframe tbody tr th {\n",
       "        vertical-align: top;\n",
       "    }\n",
       "\n",
       "    .dataframe thead th {\n",
       "        text-align: right;\n",
       "    }\n",
       "</style>\n",
       "<table border=\"1\" class=\"dataframe\">\n",
       "  <thead>\n",
       "    <tr style=\"text-align: right;\">\n",
       "      <th></th>\n",
       "      <th>sr type</th>\n",
       "      <th>sr create date</th>\n",
       "      <th>due date</th>\n",
       "      <th>daysdue</th>\n",
       "    </tr>\n",
       "  </thead>\n",
       "  <tbody>\n",
       "    <tr>\n",
       "      <th>0</th>\n",
       "      <td>Traffic Signal Maintenance</td>\n",
       "      <td>2017-01-01 00:14:04</td>\n",
       "      <td>2017-01-02 00:14:04</td>\n",
       "      <td>1.000000</td>\n",
       "    </tr>\n",
       "    <tr>\n",
       "      <th>1</th>\n",
       "      <td>Water Leak</td>\n",
       "      <td>2017-01-01 00:30:48</td>\n",
       "      <td>2017-01-11 00:30:47</td>\n",
       "      <td>9.999988</td>\n",
       "    </tr>\n",
       "    <tr>\n",
       "      <th>2</th>\n",
       "      <td>Traffic Signal Maintenance</td>\n",
       "      <td>2017-01-01 04:26:27</td>\n",
       "      <td>2017-01-02 04:26:27</td>\n",
       "      <td>1.000000</td>\n",
       "    </tr>\n",
       "    <tr>\n",
       "      <th>3</th>\n",
       "      <td>Sewer Wastewater</td>\n",
       "      <td>2017-01-01 05:22:37</td>\n",
       "      <td>2017-01-02 05:22:35</td>\n",
       "      <td>0.999977</td>\n",
       "    </tr>\n",
       "    <tr>\n",
       "      <th>4</th>\n",
       "      <td>Water Service</td>\n",
       "      <td>2017-01-01 05:23:33</td>\n",
       "      <td>2017-01-03 05:23:33</td>\n",
       "      <td>2.000000</td>\n",
       "    </tr>\n",
       "  </tbody>\n",
       "</table>\n",
       "</div>"
      ],
      "text/plain": [
       "                      sr type       sr create date             due date  \\\n",
       "0  Traffic Signal Maintenance  2017-01-01 00:14:04  2017-01-02 00:14:04   \n",
       "1                  Water Leak  2017-01-01 00:30:48  2017-01-11 00:30:47   \n",
       "2  Traffic Signal Maintenance  2017-01-01 04:26:27  2017-01-02 04:26:27   \n",
       "3            Sewer Wastewater  2017-01-01 05:22:37  2017-01-02 05:22:35   \n",
       "4               Water Service  2017-01-01 05:23:33  2017-01-03 05:23:33   \n",
       "\n",
       "    daysdue  \n",
       "0  1.000000  \n",
       "1  9.999988  \n",
       "2  1.000000  \n",
       "3  0.999977  \n",
       "4  2.000000  "
      ]
     },
     "execution_count": 279,
     "metadata": {},
     "output_type": "execute_result"
    }
   ],
   "source": [
    "# assign to a dataframe\n",
    "\n",
    "data_final_df=modeldata_df\n"
   ]
  },
  {
   "cell_type": "code",
   "execution_count": 282,
   "metadata": {},
   "outputs": [
    {
     "name": "stdout",
     "output_type": "stream",
     "text": [
      "Missed Garbage Pickup         82063\n",
      "Water Leak                    74707\n",
      "Container Problem             74126\n",
      "Sewer Wastewater              66549\n",
      "Nuisance On Property          57571\n",
      "Missed Recycling Pickup       54796\n",
      "Missed Heavy Trash Pickup     45476\n",
      "Water Service                 35341\n",
      "Street Hazard                 32746\n",
      "Drainage                      28840\n",
      "Traffic Signal Maintenance    27753\n",
      "SWM Escalation                26293\n",
      "Traffic Signs                 23198\n",
      "Street Condition              19651\n",
      "Storm Debris Collection       12816\n",
      "Name: sr type, dtype: int64\n",
      "sr type\n",
      "Container Problem              11\n",
      "Drainage                       30\n",
      "Missed Garbage Pickup           6\n",
      "Missed Heavy Trash Pickup      11\n",
      "Missed Recycling Pickup         6\n",
      "Nuisance On Property          254\n",
      "SWM Escalation                  5\n",
      "Sewer Wastewater                1\n",
      "Storm Debris Collection         5\n",
      "Street Condition               30\n",
      "Street Hazard                  10\n",
      "Traffic Signal Maintenance      1\n",
      "Traffic Signs                  16\n",
      "Water Leak                     10\n",
      "Water Service                   2\n",
      "Name: daysdue, dtype: object\n"
     ]
    }
   ],
   "source": [
    "# Group by the service type to calculate counts and average time until due\n",
    "\n",
    "\n",
    "type_grp_df=data_final_df.groupby([\"sr type\"]).mean()\n",
    "\n",
    "type_grp_df=type_grp_df[\"daysdue\"].map('{:,.0f}'.format)\n",
    "\n",
    "print(data_final_df[\"sr type\"].value_counts())\n",
    "\n",
    "print(type_grp_df)"
   ]
  },
  {
   "cell_type": "markdown",
   "metadata": {},
   "source": [
    "## The following few cells were orginally used, but later moved into another notebook that created the csv loaded above.  I wanted to keep these as reference, so they are commented out."
   ]
  },
  {
   "cell_type": "code",
   "execution_count": 283,
   "metadata": {},
   "outputs": [],
   "source": [
    "# ################################################################\n",
    "# # create a date value formatted the same as the weather data\n",
    "\n",
    "# splitdate = data_final_df[\"sr create date\"].str.split(\" \", n=1, expand=True)\n",
    "\n",
    "# data_final_df[\"create_date\"] = splitdate[0]\n",
    "# data_final_df[\"create_date\"] = pd.to_datetime(data_final_df[\"create_date\"])\n",
    "# data_final_df[\"create_date\"] = data_final_df['create_date'].dt.strftime('%Y-%m-%d')\n",
    "\n",
    "\n",
    "# # I set these as date formats using the to_datetime\n",
    "\n",
    "# data_final_df[\"create_date_time\"] = pd.to_datetime(data_final_df[\"sr create date\"])\n",
    "# data_final_df[\"date_closed_time\"] = pd.to_datetime(data_final_df[\"date closed\"])\n",
    "# data_final_df[\"due_date_time\"] = pd.to_datetime(data_final_df[\"due date\"])\n",
    "\n",
    "\n",
    "# # here  I define weather is was closed by the due date (0) or not (1)\n",
    "# data_final_df[\"missed_due_date\"] = np.where(data_final_df[\"due_date_time\"] > data_final_df[\"date_closed_time\"], 0, 1)\n",
    "\n",
    "# # calculate the difference between the closed date at the create date\n",
    "# data_final_df[\"time_to_close\"] = data_final_df[\"date_closed_time\"] - data_final_df[\"create_date_time\"]\n",
    "\n",
    "# # apply formatting so that is is in seconds. then calculate the number of days.\n",
    "# data_final_df[\"seconds_to_close\"] = data_final_df[\"time_to_close\"].astype('timedelta64[s]')\n",
    "# data_final_df[\"days_to_close\"] = data_final_df[\"seconds_to_close\"]/60/60/24\n",
    " \n",
    "# # data311_df[[\"create_date_time\", \"date_closed_time\", \"time_to_close\",\"seconds_to_close\", \"days_to_close\"]]\n",
    "\n",
    "\n",
    "# data_final_df[[\"create_date_time\",\"due_date_time\", \"date_closed_time\", \"missed_due_date\", \"days_to_close\"]].head()\n",
    "\n"
   ]
  },
  {
   "cell_type": "code",
   "execution_count": 97,
   "metadata": {},
   "outputs": [],
   "source": [
    "# keep just the fields that will be used in analysis\n",
    "\n",
    "# data_final_df=data_final_df[[\"create_date_time\",\"create_date\",\"days_to_close\",\"missed_due_date\",\"sr type\",\"tempMax\",\"precipitation\",\"Population\",\"Median Age\",\n",
    "#                     \"Household Income\",\"Poverty Rate\",\"% Owner Occupied\"]]\n",
    "\n",
    "\n",
    "# data_final_df[\"sr type\"].value_counts()\n",
    "\n",
    "\n",
    "# # There were some entries where we were not able to get the zipcode, thus we weren't able to map in the \n",
    "# # weather data and census data, so dropping these in able to do modeling\n",
    "\n",
    "# data_final_df = data_final_df.dropna()\n",
    "# data_final_df.isna().sum()\n"
   ]
  },
  {
   "cell_type": "code",
   "execution_count": 98,
   "metadata": {},
   "outputs": [],
   "source": [
    "# # calculate the weekly average precipitation and temperature\n",
    "\n",
    "# data_final_df['Year-Week'] = data_final_df['create_date_time'].dt.strftime('%Y-%U')\n",
    "\n",
    "# data_final_df[[\"create_date\",\"Year-Week\"]]\n",
    "\n",
    "# # group by the year, week and calculate the avereage\n",
    "\n",
    "# group_weather_df = data_final_df[[\"Year-Week\",\"tempMax\",\"precipitation\"]].groupby('Year-Week').mean()\n",
    "\n",
    "# group_weather_df = group_weather_df.rename(columns={'tempMax': 'tempAvg', 'precipitation': 'precipAvg'})\n",
    "\n",
    "# group_weather_df.head()"
   ]
  },
  {
   "cell_type": "code",
   "execution_count": 99,
   "metadata": {},
   "outputs": [],
   "source": [
    "# # merge the weekly average weather back in and drop the daily data \n",
    "\n",
    "# data_final_df = data_final_df.merge(group_weather_df, how=\"left\", left_on=\"Year-Week\", right_on=\"Year-Week\")\n",
    "\n",
    "# data_final_df = data_final_df.drop(columns=[\"tempMax\",\"precipitation\"])\n",
    "\n",
    "# data_final_df.head()"
   ]
  },
  {
   "cell_type": "markdown",
   "metadata": {},
   "source": [
    "## Do some additional data processing"
   ]
  },
  {
   "cell_type": "code",
   "execution_count": 137,
   "metadata": {},
   "outputs": [
    {
     "name": "stdout",
     "output_type": "stream",
     "text": [
      "['daystoclose' 'missedduedate' 'sr type' 'avgtemp' 'weekprecip'\n",
      " 'Population' 'Median Age' 'Household Income' 'Poverty Rate'\n",
      " '% Owner Occupied']\n",
      "(661926, 10)\n"
     ]
    },
    {
     "data": {
      "text/html": [
       "<div>\n",
       "<style scoped>\n",
       "    .dataframe tbody tr th:only-of-type {\n",
       "        vertical-align: middle;\n",
       "    }\n",
       "\n",
       "    .dataframe tbody tr th {\n",
       "        vertical-align: top;\n",
       "    }\n",
       "\n",
       "    .dataframe thead th {\n",
       "        text-align: right;\n",
       "    }\n",
       "</style>\n",
       "<table border=\"1\" class=\"dataframe\">\n",
       "  <thead>\n",
       "    <tr style=\"text-align: right;\">\n",
       "      <th></th>\n",
       "      <th>daystoclose</th>\n",
       "      <th>missedduedate</th>\n",
       "      <th>sr type</th>\n",
       "      <th>avgtemp</th>\n",
       "      <th>weekprecip</th>\n",
       "      <th>Population</th>\n",
       "      <th>Median Age</th>\n",
       "      <th>Household Income</th>\n",
       "      <th>Poverty Rate</th>\n",
       "      <th>% Owner Occupied</th>\n",
       "    </tr>\n",
       "  </thead>\n",
       "  <tbody>\n",
       "    <tr>\n",
       "      <th>0</th>\n",
       "      <td>0.006863</td>\n",
       "      <td>0</td>\n",
       "      <td>Traffic Signal Maintenance</td>\n",
       "      <td>67.5</td>\n",
       "      <td>0.265714</td>\n",
       "      <td>38931.0</td>\n",
       "      <td>31.9</td>\n",
       "      <td>44957.0</td>\n",
       "      <td>22.824998</td>\n",
       "      <td>24.946453</td>\n",
       "    </tr>\n",
       "    <tr>\n",
       "      <th>1</th>\n",
       "      <td>32.534236</td>\n",
       "      <td>1</td>\n",
       "      <td>Water Leak</td>\n",
       "      <td>67.5</td>\n",
       "      <td>0.265714</td>\n",
       "      <td>21732.0</td>\n",
       "      <td>39.1</td>\n",
       "      <td>107003.0</td>\n",
       "      <td>5.268728</td>\n",
       "      <td>49.179798</td>\n",
       "    </tr>\n",
       "    <tr>\n",
       "      <th>2</th>\n",
       "      <td>0.145417</td>\n",
       "      <td>0</td>\n",
       "      <td>Traffic Signal Maintenance</td>\n",
       "      <td>67.5</td>\n",
       "      <td>0.265714</td>\n",
       "      <td>915.0</td>\n",
       "      <td>44.6</td>\n",
       "      <td>250001.0</td>\n",
       "      <td>6.666667</td>\n",
       "      <td>8.524590</td>\n",
       "    </tr>\n",
       "    <tr>\n",
       "      <th>3</th>\n",
       "      <td>3.234340</td>\n",
       "      <td>1</td>\n",
       "      <td>Sewer Wastewater</td>\n",
       "      <td>67.5</td>\n",
       "      <td>0.265714</td>\n",
       "      <td>27364.0</td>\n",
       "      <td>34.1</td>\n",
       "      <td>30164.0</td>\n",
       "      <td>29.399942</td>\n",
       "      <td>48.344736</td>\n",
       "    </tr>\n",
       "    <tr>\n",
       "      <th>4</th>\n",
       "      <td>2.928137</td>\n",
       "      <td>1</td>\n",
       "      <td>Water Service</td>\n",
       "      <td>67.5</td>\n",
       "      <td>0.265714</td>\n",
       "      <td>27364.0</td>\n",
       "      <td>34.1</td>\n",
       "      <td>30164.0</td>\n",
       "      <td>29.399942</td>\n",
       "      <td>48.344736</td>\n",
       "    </tr>\n",
       "  </tbody>\n",
       "</table>\n",
       "</div>"
      ],
      "text/plain": [
       "   daystoclose  missedduedate                     sr type  avgtemp  \\\n",
       "0     0.006863              0  Traffic Signal Maintenance     67.5   \n",
       "1    32.534236              1                  Water Leak     67.5   \n",
       "2     0.145417              0  Traffic Signal Maintenance     67.5   \n",
       "3     3.234340              1            Sewer Wastewater     67.5   \n",
       "4     2.928137              1               Water Service     67.5   \n",
       "\n",
       "   weekprecip  Population  Median Age  Household Income  Poverty Rate  \\\n",
       "0    0.265714     38931.0        31.9           44957.0     22.824998   \n",
       "1    0.265714     21732.0        39.1          107003.0      5.268728   \n",
       "2    0.265714       915.0        44.6          250001.0      6.666667   \n",
       "3    0.265714     27364.0        34.1           30164.0     29.399942   \n",
       "4    0.265714     27364.0        34.1           30164.0     29.399942   \n",
       "\n",
       "   % Owner Occupied  \n",
       "0         24.946453  \n",
       "1         49.179798  \n",
       "2          8.524590  \n",
       "3         48.344736  \n",
       "4         48.344736  "
      ]
     },
     "execution_count": 137,
     "metadata": {},
     "output_type": "execute_result"
    }
   ],
   "source": [
    "data_final_df.describe()\n",
    "\n",
    "\n",
    "data_final_df.shape\n",
    "print(data_final_df.columns.values)\n",
    "\n",
    "\n",
    "# keep just the fields that will be used in analysis\n",
    "\n",
    "data_final_df=data_final_df[[\"daystoclose\",\"missedduedate\",\"sr type\",\"avgtemp\",\"weekprecip\",\"Population\",\"Median Age\",\n",
    "                    \"Household Income\",\"Poverty Rate\",\"% Owner Occupied\"]]\n",
    "\n",
    "print(data_final_df.shape)\n",
    "data_final_df.head()"
   ]
  },
  {
   "cell_type": "markdown",
   "metadata": {},
   "source": [
    "#### A few zipcodes could not be mapped into the data file, so census data could not be mapped in.  Dropping these in order to complete modeling"
   ]
  },
  {
   "cell_type": "code",
   "execution_count": 138,
   "metadata": {},
   "outputs": [
    {
     "name": "stdout",
     "output_type": "stream",
     "text": [
      "(660378, 10)\n"
     ]
    }
   ],
   "source": [
    "# Some zipcodes could not be mapped in, so we were not able to map in the census data\n",
    "# Dropping these to enable modeling\n",
    "\n",
    "data_final_df=data_final_df.dropna()\n",
    "print(data_final_df.shape)"
   ]
  },
  {
   "cell_type": "markdown",
   "metadata": {},
   "source": [
    "#### Define dummy variables for the service type (sr type) as it is categorical"
   ]
  },
  {
   "cell_type": "code",
   "execution_count": 139,
   "metadata": {
    "scrolled": true
   },
   "outputs": [
    {
     "name": "stdout",
     "output_type": "stream",
     "text": [
      "(660378, 22)\n",
      "['Population' 'Median Age' 'Household Income' 'Poverty Rate'\n",
      " '% Owner Occupied' 'avgtemp' 'weekprecip' 'Container Problem' 'Drainage'\n",
      " 'Missed Garbage Pickup' 'Missed Heavy Trash Pickup'\n",
      " 'Missed Recycling Pickup' 'Nuisance On Property' 'SWM Escalation'\n",
      " 'Sewer Wastewater' 'Storm Debris Collection' 'Street Condition'\n",
      " 'Street Hazard' 'Traffic Signal Maintenance' 'Traffic Signs' 'Water Leak'\n",
      " 'Water Service']\n"
     ]
    },
    {
     "data": {
      "text/html": [
       "<div>\n",
       "<style scoped>\n",
       "    .dataframe tbody tr th:only-of-type {\n",
       "        vertical-align: middle;\n",
       "    }\n",
       "\n",
       "    .dataframe tbody tr th {\n",
       "        vertical-align: top;\n",
       "    }\n",
       "\n",
       "    .dataframe thead th {\n",
       "        text-align: right;\n",
       "    }\n",
       "</style>\n",
       "<table border=\"1\" class=\"dataframe\">\n",
       "  <thead>\n",
       "    <tr style=\"text-align: right;\">\n",
       "      <th></th>\n",
       "      <th>Population</th>\n",
       "      <th>Median Age</th>\n",
       "      <th>Household Income</th>\n",
       "      <th>Poverty Rate</th>\n",
       "      <th>% Owner Occupied</th>\n",
       "      <th>avgtemp</th>\n",
       "      <th>weekprecip</th>\n",
       "      <th>Container Problem</th>\n",
       "      <th>Drainage</th>\n",
       "      <th>Missed Garbage Pickup</th>\n",
       "      <th>...</th>\n",
       "      <th>Nuisance On Property</th>\n",
       "      <th>SWM Escalation</th>\n",
       "      <th>Sewer Wastewater</th>\n",
       "      <th>Storm Debris Collection</th>\n",
       "      <th>Street Condition</th>\n",
       "      <th>Street Hazard</th>\n",
       "      <th>Traffic Signal Maintenance</th>\n",
       "      <th>Traffic Signs</th>\n",
       "      <th>Water Leak</th>\n",
       "      <th>Water Service</th>\n",
       "    </tr>\n",
       "  </thead>\n",
       "  <tbody>\n",
       "    <tr>\n",
       "      <th>0</th>\n",
       "      <td>38931.0</td>\n",
       "      <td>31.9</td>\n",
       "      <td>44957.0</td>\n",
       "      <td>22.824998</td>\n",
       "      <td>24.946453</td>\n",
       "      <td>67.5</td>\n",
       "      <td>0.265714</td>\n",
       "      <td>0</td>\n",
       "      <td>0</td>\n",
       "      <td>0</td>\n",
       "      <td>...</td>\n",
       "      <td>0</td>\n",
       "      <td>0</td>\n",
       "      <td>0</td>\n",
       "      <td>0</td>\n",
       "      <td>0</td>\n",
       "      <td>0</td>\n",
       "      <td>1</td>\n",
       "      <td>0</td>\n",
       "      <td>0</td>\n",
       "      <td>0</td>\n",
       "    </tr>\n",
       "    <tr>\n",
       "      <th>1</th>\n",
       "      <td>21732.0</td>\n",
       "      <td>39.1</td>\n",
       "      <td>107003.0</td>\n",
       "      <td>5.268728</td>\n",
       "      <td>49.179798</td>\n",
       "      <td>67.5</td>\n",
       "      <td>0.265714</td>\n",
       "      <td>0</td>\n",
       "      <td>0</td>\n",
       "      <td>0</td>\n",
       "      <td>...</td>\n",
       "      <td>0</td>\n",
       "      <td>0</td>\n",
       "      <td>0</td>\n",
       "      <td>0</td>\n",
       "      <td>0</td>\n",
       "      <td>0</td>\n",
       "      <td>0</td>\n",
       "      <td>0</td>\n",
       "      <td>1</td>\n",
       "      <td>0</td>\n",
       "    </tr>\n",
       "    <tr>\n",
       "      <th>2</th>\n",
       "      <td>915.0</td>\n",
       "      <td>44.6</td>\n",
       "      <td>250001.0</td>\n",
       "      <td>6.666667</td>\n",
       "      <td>8.524590</td>\n",
       "      <td>67.5</td>\n",
       "      <td>0.265714</td>\n",
       "      <td>0</td>\n",
       "      <td>0</td>\n",
       "      <td>0</td>\n",
       "      <td>...</td>\n",
       "      <td>0</td>\n",
       "      <td>0</td>\n",
       "      <td>0</td>\n",
       "      <td>0</td>\n",
       "      <td>0</td>\n",
       "      <td>0</td>\n",
       "      <td>1</td>\n",
       "      <td>0</td>\n",
       "      <td>0</td>\n",
       "      <td>0</td>\n",
       "    </tr>\n",
       "    <tr>\n",
       "      <th>3</th>\n",
       "      <td>27364.0</td>\n",
       "      <td>34.1</td>\n",
       "      <td>30164.0</td>\n",
       "      <td>29.399942</td>\n",
       "      <td>48.344736</td>\n",
       "      <td>67.5</td>\n",
       "      <td>0.265714</td>\n",
       "      <td>0</td>\n",
       "      <td>0</td>\n",
       "      <td>0</td>\n",
       "      <td>...</td>\n",
       "      <td>0</td>\n",
       "      <td>0</td>\n",
       "      <td>1</td>\n",
       "      <td>0</td>\n",
       "      <td>0</td>\n",
       "      <td>0</td>\n",
       "      <td>0</td>\n",
       "      <td>0</td>\n",
       "      <td>0</td>\n",
       "      <td>0</td>\n",
       "    </tr>\n",
       "    <tr>\n",
       "      <th>4</th>\n",
       "      <td>27364.0</td>\n",
       "      <td>34.1</td>\n",
       "      <td>30164.0</td>\n",
       "      <td>29.399942</td>\n",
       "      <td>48.344736</td>\n",
       "      <td>67.5</td>\n",
       "      <td>0.265714</td>\n",
       "      <td>0</td>\n",
       "      <td>0</td>\n",
       "      <td>0</td>\n",
       "      <td>...</td>\n",
       "      <td>0</td>\n",
       "      <td>0</td>\n",
       "      <td>0</td>\n",
       "      <td>0</td>\n",
       "      <td>0</td>\n",
       "      <td>0</td>\n",
       "      <td>0</td>\n",
       "      <td>0</td>\n",
       "      <td>0</td>\n",
       "      <td>1</td>\n",
       "    </tr>\n",
       "  </tbody>\n",
       "</table>\n",
       "<p>5 rows × 22 columns</p>\n",
       "</div>"
      ],
      "text/plain": [
       "   Population  Median Age  Household Income  Poverty Rate  % Owner Occupied  \\\n",
       "0     38931.0        31.9           44957.0     22.824998         24.946453   \n",
       "1     21732.0        39.1          107003.0      5.268728         49.179798   \n",
       "2       915.0        44.6          250001.0      6.666667          8.524590   \n",
       "3     27364.0        34.1           30164.0     29.399942         48.344736   \n",
       "4     27364.0        34.1           30164.0     29.399942         48.344736   \n",
       "\n",
       "   avgtemp  weekprecip  Container Problem  Drainage  Missed Garbage Pickup  \\\n",
       "0     67.5    0.265714                  0         0                      0   \n",
       "1     67.5    0.265714                  0         0                      0   \n",
       "2     67.5    0.265714                  0         0                      0   \n",
       "3     67.5    0.265714                  0         0                      0   \n",
       "4     67.5    0.265714                  0         0                      0   \n",
       "\n",
       "   ...  Nuisance On Property  SWM Escalation  Sewer Wastewater  \\\n",
       "0  ...                     0               0                 0   \n",
       "1  ...                     0               0                 0   \n",
       "2  ...                     0               0                 0   \n",
       "3  ...                     0               0                 1   \n",
       "4  ...                     0               0                 0   \n",
       "\n",
       "   Storm Debris Collection  Street Condition  Street Hazard  \\\n",
       "0                        0                 0              0   \n",
       "1                        0                 0              0   \n",
       "2                        0                 0              0   \n",
       "3                        0                 0              0   \n",
       "4                        0                 0              0   \n",
       "\n",
       "   Traffic Signal Maintenance  Traffic Signs  Water Leak  Water Service  \n",
       "0                           1              0           0              0  \n",
       "1                           0              0           1              0  \n",
       "2                           1              0           0              0  \n",
       "3                           0              0           0              0  \n",
       "4                           0              0           0              1  \n",
       "\n",
       "[5 rows x 22 columns]"
      ]
     },
     "execution_count": 139,
     "metadata": {},
     "output_type": "execute_result"
    }
   ],
   "source": [
    "\n",
    "# need to create dummy variable for the \"sr type\" column, which is categorical\n",
    "\n",
    "data_dummies_df=pd.get_dummies(data_final_df[\"sr type\"])\n",
    "\n",
    "\n",
    "\n",
    "# add dummy variables in to dataframe with other variables\n",
    "\n",
    "data_regress_df=pd.concat([data_final_df, data_dummies_df], axis=1)  \n",
    "\n",
    "data_regress_df = data_regress_df[[\"Population\", \"Median Age\", \"Household Income\", \"Poverty Rate\", \"% Owner Occupied\",\n",
    "                            \"avgtemp\",\"weekprecip\",       \n",
    "                            \"Container Problem\", \"Drainage\", \"Missed Garbage Pickup\", \"Missed Heavy Trash Pickup\", \n",
    "                            \"Missed Recycling Pickup\", \"Nuisance On Property\", \"SWM Escalation\", \"Sewer Wastewater\", \n",
    "                            \"Storm Debris Collection\", \"Street Condition\", \"Street Hazard\", \"Traffic Signal Maintenance\", \n",
    "                            \"Traffic Signs\", \"Water Leak\", \"Water Service\"]]\n",
    "\n",
    "# create y variable for the regression analysis.  Ended up not using the regression analysis\n",
    "\n",
    "y=data_final_df[\"daystoclose\"].values.reshape(-1,1)\n",
    "\n",
    "\n",
    "# create x variables (drop columns that aren't needed)\n",
    "\n",
    "X_var=data_regress_df\n",
    "  \n"
   ]
  },
  {
   "cell_type": "markdown",
   "metadata": {},
   "source": [
    "#### Cell below is used to define new data list that can be fed into the model.  The fields are shown in the comment section."
   ]
  },
  {
   "cell_type": "code",
   "execution_count": 140,
   "metadata": {},
   "outputs": [],
   "source": [
    "# define new data for feeding in to models\n",
    "\n",
    "# Population, Median Age, Household Income, Poverty Rate, % Owner Occupied, tempAvg, precipAvg, Container Problem, Drainage,\n",
    "# Missed Garbage Pickup, Missed Heavy Trash Pickup, Missed Recycling Pickup, Nuisance On Property, SWM Escalation, \n",
    "# Sewer Wasterwater, Storm Debris Collection, Street Condition,\n",
    "# Street Hazard, Traffic Signal Maintenance, Traffic Sign, Water Leak, Water Service\n",
    "\n",
    "new_data = [[38931, 31.9, 44957, 22.82, 24.95, 56.07, 0.27, 1, 0, 0, 0, 0, 0, 0, 0, 0, 0, 0, 0, 0, 0, 0]]"
   ]
  },
  {
   "cell_type": "markdown",
   "metadata": {},
   "source": [
    "## Build Logistic Regression Model to predict if issue was not closed by due date"
   ]
  },
  {
   "cell_type": "markdown",
   "metadata": {},
   "source": [
    "#### Define the model"
   ]
  },
  {
   "cell_type": "code",
   "execution_count": 154,
   "metadata": {},
   "outputs": [
    {
     "data": {
      "text/plain": [
       "0    460331\n",
       "1    200047\n",
       "Name: missedduedate, dtype: int64"
      ]
     },
     "execution_count": 154,
     "metadata": {},
     "output_type": "execute_result"
    }
   ],
   "source": [
    "# I need to define y as the classfication variable.  The X_var can stay the same\n",
    "\n",
    "y_class = data_final_df[\"missedduedate\"]\n",
    "\n",
    "y_class.value_counts()"
   ]
  },
  {
   "cell_type": "markdown",
   "metadata": {},
   "source": [
    "#### The final logistic model with the parameters below was used.  The parameters were based on a grid search, which further down in the code"
   ]
  },
  {
   "cell_type": "code",
   "execution_count": 142,
   "metadata": {},
   "outputs": [
    {
     "data": {
      "text/plain": [
       "LogisticRegression(C=166, class_weight=None, dual=False, fit_intercept=True,\n",
       "                   intercept_scaling=1, l1_ratio=None, max_iter=100,\n",
       "                   multi_class='warn', n_jobs=None, penalty='l1',\n",
       "                   random_state=None, solver='warn', tol=0.0001, verbose=0,\n",
       "                   warm_start=False)"
      ]
     },
     "execution_count": 142,
     "metadata": {},
     "output_type": "execute_result"
    }
   ],
   "source": [
    "# define logistic model (note a grid search suggested the C and penalty values used)\n",
    "# Note that changing the parameters based on the output of the grid search didn't improve the model very much\n",
    "\n",
    "from sklearn.linear_model import LogisticRegression\n",
    "classifier = LogisticRegression(C=166, penalty='l1')\n",
    "classifier"
   ]
  },
  {
   "cell_type": "markdown",
   "metadata": {},
   "source": [
    "#### Define training and test data"
   ]
  },
  {
   "cell_type": "code",
   "execution_count": 143,
   "metadata": {},
   "outputs": [],
   "source": [
    "# define training and test sets\n",
    "\n",
    "from sklearn.model_selection import train_test_split\n",
    "\n",
    "\n",
    "X_train, X_test, y_class_train, y_class_test = train_test_split(X_var, y_class, random_state=33)\n"
   ]
  },
  {
   "cell_type": "markdown",
   "metadata": {},
   "source": [
    "#### Scale the data"
   ]
  },
  {
   "cell_type": "code",
   "execution_count": 144,
   "metadata": {},
   "outputs": [],
   "source": [
    "# define standard scaler\n",
    "\n",
    "from sklearn.preprocessing import StandardScaler\n",
    "\n",
    "X_scaler = StandardScaler().fit(X_train)\n"
   ]
  },
  {
   "cell_type": "code",
   "execution_count": 145,
   "metadata": {},
   "outputs": [],
   "source": [
    "# scale the x data (y is just 0 or 1, so not scaling)\n",
    "\n",
    "X_train_scaled = X_scaler.transform(X_train)\n",
    "X_test_scaled = X_scaler.transform(X_test)"
   ]
  },
  {
   "cell_type": "markdown",
   "metadata": {},
   "source": [
    "#### Fit the model"
   ]
  },
  {
   "cell_type": "code",
   "execution_count": 146,
   "metadata": {},
   "outputs": [
    {
     "name": "stderr",
     "output_type": "stream",
     "text": [
      "C:\\Users\\jeickholt\\Anaconda3\\lib\\site-packages\\sklearn\\linear_model\\logistic.py:432: FutureWarning: Default solver will be changed to 'lbfgs' in 0.22. Specify a solver to silence this warning.\n",
      "  FutureWarning)\n"
     ]
    },
    {
     "data": {
      "text/plain": [
       "LogisticRegression(C=166, class_weight=None, dual=False, fit_intercept=True,\n",
       "                   intercept_scaling=1, l1_ratio=None, max_iter=100,\n",
       "                   multi_class='warn', n_jobs=None, penalty='l1',\n",
       "                   random_state=None, solver='warn', tol=0.0001, verbose=0,\n",
       "                   warm_start=False)"
      ]
     },
     "execution_count": 146,
     "metadata": {},
     "output_type": "execute_result"
    }
   ],
   "source": [
    "# fit the model\n",
    "\n",
    "classifier.fit(X_train_scaled, y_class_train)"
   ]
  },
  {
   "cell_type": "markdown",
   "metadata": {},
   "source": [
    "#### Look at scores"
   ]
  },
  {
   "cell_type": "code",
   "execution_count": 147,
   "metadata": {},
   "outputs": [
    {
     "name": "stdout",
     "output_type": "stream",
     "text": [
      "Training Data Score: 0.7293951135007662\n",
      "Testing Data Score: 0.729065083739665\n"
     ]
    }
   ],
   "source": [
    "# look at the scores\n",
    "\n",
    "print(f\"Training Data Score: {classifier.score(X_train_scaled, y_class_train)}\")\n",
    "print(f\"Testing Data Score: {classifier.score(X_test_scaled, y_class_test)}\")"
   ]
  },
  {
   "cell_type": "markdown",
   "metadata": {},
   "source": [
    "#### Examine the coefficients"
   ]
  },
  {
   "cell_type": "code",
   "execution_count": 219,
   "metadata": {},
   "outputs": [
    {
     "name": "stdout",
     "output_type": "stream",
     "text": [
      "[[-0.04213641 -0.06271962 -0.09925283 -0.04519384  0.04228706  0.01793357\n",
      "   0.06860484  0.42681027 -0.26176392  0.19819911  0.31729537  0.204079\n",
      "  -0.19624479  0.29365724  0.14289463  0.10448276 -0.23337634 -0.28813882\n",
      "  -0.5073247  -0.08472694 -0.2656676  -0.29993414]]\n"
     ]
    }
   ],
   "source": [
    "# look at coefficients from model\n",
    "\n",
    "# Population, Median Age, Household Income, Poverty Rate, % Owner Occupied, tempAvg, precipAvg, Container Problem, Drainage,\n",
    "# Missed Garbage Pickup, Missed Heavy Trash Pickup, Missed Recycling Pickup, Nuisance On Property, SWM Escalation, \n",
    "# Sewer Wasterwater, Storm Debris Collection, Street Condition,\n",
    "# Street Hazard, Traffic Signal Maintenance, Traffic Sign, Water Leak, Water Service\n",
    "\n",
    "\n",
    "print(classifier.coef_)"
   ]
  },
  {
   "cell_type": "markdown",
   "metadata": {},
   "source": [
    "#### Examine predictions in the test data"
   ]
  },
  {
   "cell_type": "code",
   "execution_count": 285,
   "metadata": {},
   "outputs": [
    {
     "data": {
      "text/html": [
       "<div>\n",
       "<style scoped>\n",
       "    .dataframe tbody tr th:only-of-type {\n",
       "        vertical-align: middle;\n",
       "    }\n",
       "\n",
       "    .dataframe tbody tr th {\n",
       "        vertical-align: top;\n",
       "    }\n",
       "\n",
       "    .dataframe thead th {\n",
       "        text-align: right;\n",
       "    }\n",
       "</style>\n",
       "<table border=\"1\" class=\"dataframe\">\n",
       "  <thead>\n",
       "    <tr style=\"text-align: right;\">\n",
       "      <th></th>\n",
       "      <th>Prediction</th>\n",
       "      <th>Actual</th>\n",
       "      <th>On Time</th>\n",
       "      <th>Overdue</th>\n",
       "    </tr>\n",
       "  </thead>\n",
       "  <tbody>\n",
       "    <tr>\n",
       "      <th>546026</th>\n",
       "      <td>0</td>\n",
       "      <td>0</td>\n",
       "      <td>0.856677</td>\n",
       "      <td>0.143323</td>\n",
       "    </tr>\n",
       "    <tr>\n",
       "      <th>472932</th>\n",
       "      <td>0</td>\n",
       "      <td>0</td>\n",
       "      <td>0.654441</td>\n",
       "      <td>0.345559</td>\n",
       "    </tr>\n",
       "    <tr>\n",
       "      <th>410173</th>\n",
       "      <td>1</td>\n",
       "      <td>1</td>\n",
       "      <td>0.439069</td>\n",
       "      <td>0.560931</td>\n",
       "    </tr>\n",
       "    <tr>\n",
       "      <th>296908</th>\n",
       "      <td>0</td>\n",
       "      <td>0</td>\n",
       "      <td>0.870378</td>\n",
       "      <td>0.129622</td>\n",
       "    </tr>\n",
       "    <tr>\n",
       "      <th>226694</th>\n",
       "      <td>0</td>\n",
       "      <td>1</td>\n",
       "      <td>0.662966</td>\n",
       "      <td>0.337034</td>\n",
       "    </tr>\n",
       "  </tbody>\n",
       "</table>\n",
       "</div>"
      ],
      "text/plain": [
       "        Prediction  Actual   On Time   Overdue\n",
       "546026           0       0  0.856677  0.143323\n",
       "472932           0       0  0.654441  0.345559\n",
       "410173           1       1  0.439069  0.560931\n",
       "296908           0       0  0.870378  0.129622\n",
       "226694           0       1  0.662966  0.337034"
      ]
     },
     "execution_count": 285,
     "metadata": {},
     "output_type": "execute_result"
    }
   ],
   "source": [
    "# look at the prediction vs actual for the test data\n",
    "\n",
    "predictions = classifier.predict(X_test_scaled)\n",
    "probs = classifier.predict_proba(X_test_scaled)\n",
    "\n",
    "\n",
    "pd.DataFrame({\n",
    "    \"Prediction\": predictions, \n",
    "    \"Actual\": y_class_test, \n",
    "    \"On Time\": [p[0] for p in probs], \n",
    "    \"Overdue\": [p[1] for p in probs]}).head()"
   ]
  },
  {
   "cell_type": "markdown",
   "metadata": {},
   "source": [
    "#### Predict a new data point"
   ]
  },
  {
   "cell_type": "code",
   "execution_count": 218,
   "metadata": {},
   "outputs": [
    {
     "name": "stdout",
     "output_type": "stream",
     "text": [
      "New Prediction: 1.000\n",
      "Prob of Meeting Deadline : 0.443\n",
      "Prob of Not Meeting Deadline : 0.557\n"
     ]
    }
   ],
   "source": [
    "# predict a new set of data\n",
    "\n",
    "# Population, Median Age, Household Income, Poverty Rate, % Owner Occupied, tempAvg, precipAvg, Container Problem, Drainage,\n",
    "# Missed Garbage Pickup, Missed Heavy Trash Pickup, Missed Recycling Pickup, Nuisance On Property, SWM Escalation, \n",
    "# Sewer Wasterwater, Storm Debris Collection, Street Condition,\n",
    "# Street Hazard, Traffic Signal Maintenance, Traffic Sign, Water Leak, Water Service\n",
    "\n",
    "new_data = [[38931, 31.9, 44957, 25.82, 24.95, 56.07, 0.27, 1, 0 , 0, 0, 0, 0, 0, 0, 0, 0, 0, 0, 0, 0, 0]]\n",
    "\n",
    "new_data_scaled = X_scaler.transform(new_data)\n",
    "\n",
    "new_predict = classifier.predict(new_data_scaled)\n",
    "new_prob = classifier.predict_proba(new_data_scaled)\n",
    "\n",
    "\n",
    "print(\"New Prediction: %.3f\" % new_predict)\n",
    "\n",
    "print(\"Prob of Meeting Deadline : %.3f\" % new_prob[0,0])\n",
    "print(\"Prob of Not Meeting Deadline : %.3f\" % new_prob[0,1])\n",
    "    "
   ]
  },
  {
   "cell_type": "markdown",
   "metadata": {},
   "source": [
    "## Do a grid search to try and find a better model."
   ]
  },
  {
   "cell_type": "code",
   "execution_count": 150,
   "metadata": {},
   "outputs": [],
   "source": [
    "logistic = LogisticRegression()"
   ]
  },
  {
   "cell_type": "code",
   "execution_count": 151,
   "metadata": {},
   "outputs": [],
   "source": [
    "# Create regularization penalty space\n",
    "penalty = ['l1', 'l2']\n",
    "\n",
    "# Create regularization hyperparameter space\n",
    "C = np.logspace(0, 4, 10)\n",
    "\n",
    "# Create hyperparameter options\n",
    "hyperparameters = dict(C=C, penalty=penalty)"
   ]
  },
  {
   "cell_type": "code",
   "execution_count": 152,
   "metadata": {},
   "outputs": [],
   "source": [
    "# Create grid search using 5-fold cross validation\n",
    "clf = GridSearchCV(logistic, hyperparameters, cv=5, verbose=0)"
   ]
  },
  {
   "cell_type": "code",
   "execution_count": 153,
   "metadata": {},
   "outputs": [
    {
     "name": "stderr",
     "output_type": "stream",
     "text": [
      "C:\\Users\\jeickholt\\Anaconda3\\lib\\site-packages\\sklearn\\linear_model\\logistic.py:432: FutureWarning: Default solver will be changed to 'lbfgs' in 0.22. Specify a solver to silence this warning.\n",
      "  FutureWarning)\n",
      "C:\\Users\\jeickholt\\Anaconda3\\lib\\site-packages\\sklearn\\linear_model\\logistic.py:432: FutureWarning: Default solver will be changed to 'lbfgs' in 0.22. Specify a solver to silence this warning.\n",
      "  FutureWarning)\n",
      "C:\\Users\\jeickholt\\Anaconda3\\lib\\site-packages\\sklearn\\linear_model\\logistic.py:432: FutureWarning: Default solver will be changed to 'lbfgs' in 0.22. Specify a solver to silence this warning.\n",
      "  FutureWarning)\n",
      "C:\\Users\\jeickholt\\Anaconda3\\lib\\site-packages\\sklearn\\linear_model\\logistic.py:432: FutureWarning: Default solver will be changed to 'lbfgs' in 0.22. Specify a solver to silence this warning.\n",
      "  FutureWarning)\n",
      "C:\\Users\\jeickholt\\Anaconda3\\lib\\site-packages\\sklearn\\linear_model\\logistic.py:432: FutureWarning: Default solver will be changed to 'lbfgs' in 0.22. Specify a solver to silence this warning.\n",
      "  FutureWarning)\n",
      "C:\\Users\\jeickholt\\Anaconda3\\lib\\site-packages\\sklearn\\linear_model\\logistic.py:432: FutureWarning: Default solver will be changed to 'lbfgs' in 0.22. Specify a solver to silence this warning.\n",
      "  FutureWarning)\n",
      "C:\\Users\\jeickholt\\Anaconda3\\lib\\site-packages\\sklearn\\linear_model\\logistic.py:432: FutureWarning: Default solver will be changed to 'lbfgs' in 0.22. Specify a solver to silence this warning.\n",
      "  FutureWarning)\n",
      "C:\\Users\\jeickholt\\Anaconda3\\lib\\site-packages\\sklearn\\linear_model\\logistic.py:432: FutureWarning: Default solver will be changed to 'lbfgs' in 0.22. Specify a solver to silence this warning.\n",
      "  FutureWarning)\n",
      "C:\\Users\\jeickholt\\Anaconda3\\lib\\site-packages\\sklearn\\linear_model\\logistic.py:432: FutureWarning: Default solver will be changed to 'lbfgs' in 0.22. Specify a solver to silence this warning.\n",
      "  FutureWarning)\n",
      "C:\\Users\\jeickholt\\Anaconda3\\lib\\site-packages\\sklearn\\linear_model\\logistic.py:432: FutureWarning: Default solver will be changed to 'lbfgs' in 0.22. Specify a solver to silence this warning.\n",
      "  FutureWarning)\n",
      "C:\\Users\\jeickholt\\Anaconda3\\lib\\site-packages\\sklearn\\linear_model\\logistic.py:432: FutureWarning: Default solver will be changed to 'lbfgs' in 0.22. Specify a solver to silence this warning.\n",
      "  FutureWarning)\n",
      "C:\\Users\\jeickholt\\Anaconda3\\lib\\site-packages\\sklearn\\linear_model\\logistic.py:432: FutureWarning: Default solver will be changed to 'lbfgs' in 0.22. Specify a solver to silence this warning.\n",
      "  FutureWarning)\n",
      "C:\\Users\\jeickholt\\Anaconda3\\lib\\site-packages\\sklearn\\linear_model\\logistic.py:432: FutureWarning: Default solver will be changed to 'lbfgs' in 0.22. Specify a solver to silence this warning.\n",
      "  FutureWarning)\n",
      "C:\\Users\\jeickholt\\Anaconda3\\lib\\site-packages\\sklearn\\linear_model\\logistic.py:432: FutureWarning: Default solver will be changed to 'lbfgs' in 0.22. Specify a solver to silence this warning.\n",
      "  FutureWarning)\n",
      "C:\\Users\\jeickholt\\Anaconda3\\lib\\site-packages\\sklearn\\linear_model\\logistic.py:432: FutureWarning: Default solver will be changed to 'lbfgs' in 0.22. Specify a solver to silence this warning.\n",
      "  FutureWarning)\n",
      "C:\\Users\\jeickholt\\Anaconda3\\lib\\site-packages\\sklearn\\linear_model\\logistic.py:432: FutureWarning: Default solver will be changed to 'lbfgs' in 0.22. Specify a solver to silence this warning.\n",
      "  FutureWarning)\n",
      "C:\\Users\\jeickholt\\Anaconda3\\lib\\site-packages\\sklearn\\linear_model\\logistic.py:432: FutureWarning: Default solver will be changed to 'lbfgs' in 0.22. Specify a solver to silence this warning.\n",
      "  FutureWarning)\n",
      "C:\\Users\\jeickholt\\Anaconda3\\lib\\site-packages\\sklearn\\linear_model\\logistic.py:432: FutureWarning: Default solver will be changed to 'lbfgs' in 0.22. Specify a solver to silence this warning.\n",
      "  FutureWarning)\n",
      "C:\\Users\\jeickholt\\Anaconda3\\lib\\site-packages\\sklearn\\linear_model\\logistic.py:432: FutureWarning: Default solver will be changed to 'lbfgs' in 0.22. Specify a solver to silence this warning.\n",
      "  FutureWarning)\n",
      "C:\\Users\\jeickholt\\Anaconda3\\lib\\site-packages\\sklearn\\linear_model\\logistic.py:432: FutureWarning: Default solver will be changed to 'lbfgs' in 0.22. Specify a solver to silence this warning.\n",
      "  FutureWarning)\n",
      "C:\\Users\\jeickholt\\Anaconda3\\lib\\site-packages\\sklearn\\linear_model\\logistic.py:432: FutureWarning: Default solver will be changed to 'lbfgs' in 0.22. Specify a solver to silence this warning.\n",
      "  FutureWarning)\n",
      "C:\\Users\\jeickholt\\Anaconda3\\lib\\site-packages\\sklearn\\linear_model\\logistic.py:432: FutureWarning: Default solver will be changed to 'lbfgs' in 0.22. Specify a solver to silence this warning.\n",
      "  FutureWarning)\n",
      "C:\\Users\\jeickholt\\Anaconda3\\lib\\site-packages\\sklearn\\linear_model\\logistic.py:432: FutureWarning: Default solver will be changed to 'lbfgs' in 0.22. Specify a solver to silence this warning.\n",
      "  FutureWarning)\n",
      "C:\\Users\\jeickholt\\Anaconda3\\lib\\site-packages\\sklearn\\linear_model\\logistic.py:432: FutureWarning: Default solver will be changed to 'lbfgs' in 0.22. Specify a solver to silence this warning.\n",
      "  FutureWarning)\n",
      "C:\\Users\\jeickholt\\Anaconda3\\lib\\site-packages\\sklearn\\linear_model\\logistic.py:432: FutureWarning: Default solver will be changed to 'lbfgs' in 0.22. Specify a solver to silence this warning.\n",
      "  FutureWarning)\n",
      "C:\\Users\\jeickholt\\Anaconda3\\lib\\site-packages\\sklearn\\linear_model\\logistic.py:432: FutureWarning: Default solver will be changed to 'lbfgs' in 0.22. Specify a solver to silence this warning.\n",
      "  FutureWarning)\n",
      "C:\\Users\\jeickholt\\Anaconda3\\lib\\site-packages\\sklearn\\linear_model\\logistic.py:432: FutureWarning: Default solver will be changed to 'lbfgs' in 0.22. Specify a solver to silence this warning.\n",
      "  FutureWarning)\n",
      "C:\\Users\\jeickholt\\Anaconda3\\lib\\site-packages\\sklearn\\linear_model\\logistic.py:432: FutureWarning: Default solver will be changed to 'lbfgs' in 0.22. Specify a solver to silence this warning.\n",
      "  FutureWarning)\n",
      "C:\\Users\\jeickholt\\Anaconda3\\lib\\site-packages\\sklearn\\linear_model\\logistic.py:432: FutureWarning: Default solver will be changed to 'lbfgs' in 0.22. Specify a solver to silence this warning.\n",
      "  FutureWarning)\n",
      "C:\\Users\\jeickholt\\Anaconda3\\lib\\site-packages\\sklearn\\linear_model\\logistic.py:432: FutureWarning: Default solver will be changed to 'lbfgs' in 0.22. Specify a solver to silence this warning.\n",
      "  FutureWarning)\n",
      "C:\\Users\\jeickholt\\Anaconda3\\lib\\site-packages\\sklearn\\linear_model\\logistic.py:432: FutureWarning: Default solver will be changed to 'lbfgs' in 0.22. Specify a solver to silence this warning.\n",
      "  FutureWarning)\n",
      "C:\\Users\\jeickholt\\Anaconda3\\lib\\site-packages\\sklearn\\linear_model\\logistic.py:432: FutureWarning: Default solver will be changed to 'lbfgs' in 0.22. Specify a solver to silence this warning.\n",
      "  FutureWarning)\n",
      "C:\\Users\\jeickholt\\Anaconda3\\lib\\site-packages\\sklearn\\linear_model\\logistic.py:432: FutureWarning: Default solver will be changed to 'lbfgs' in 0.22. Specify a solver to silence this warning.\n",
      "  FutureWarning)\n",
      "C:\\Users\\jeickholt\\Anaconda3\\lib\\site-packages\\sklearn\\linear_model\\logistic.py:432: FutureWarning: Default solver will be changed to 'lbfgs' in 0.22. Specify a solver to silence this warning.\n",
      "  FutureWarning)\n",
      "C:\\Users\\jeickholt\\Anaconda3\\lib\\site-packages\\sklearn\\linear_model\\logistic.py:432: FutureWarning: Default solver will be changed to 'lbfgs' in 0.22. Specify a solver to silence this warning.\n",
      "  FutureWarning)\n",
      "C:\\Users\\jeickholt\\Anaconda3\\lib\\site-packages\\sklearn\\linear_model\\logistic.py:432: FutureWarning: Default solver will be changed to 'lbfgs' in 0.22. Specify a solver to silence this warning.\n",
      "  FutureWarning)\n",
      "C:\\Users\\jeickholt\\Anaconda3\\lib\\site-packages\\sklearn\\linear_model\\logistic.py:432: FutureWarning: Default solver will be changed to 'lbfgs' in 0.22. Specify a solver to silence this warning.\n",
      "  FutureWarning)\n",
      "C:\\Users\\jeickholt\\Anaconda3\\lib\\site-packages\\sklearn\\linear_model\\logistic.py:432: FutureWarning: Default solver will be changed to 'lbfgs' in 0.22. Specify a solver to silence this warning.\n",
      "  FutureWarning)\n",
      "C:\\Users\\jeickholt\\Anaconda3\\lib\\site-packages\\sklearn\\linear_model\\logistic.py:432: FutureWarning: Default solver will be changed to 'lbfgs' in 0.22. Specify a solver to silence this warning.\n",
      "  FutureWarning)\n",
      "C:\\Users\\jeickholt\\Anaconda3\\lib\\site-packages\\sklearn\\linear_model\\logistic.py:432: FutureWarning: Default solver will be changed to 'lbfgs' in 0.22. Specify a solver to silence this warning.\n",
      "  FutureWarning)\n"
     ]
    },
    {
     "name": "stderr",
     "output_type": "stream",
     "text": [
      "C:\\Users\\jeickholt\\Anaconda3\\lib\\site-packages\\sklearn\\linear_model\\logistic.py:432: FutureWarning: Default solver will be changed to 'lbfgs' in 0.22. Specify a solver to silence this warning.\n",
      "  FutureWarning)\n",
      "C:\\Users\\jeickholt\\Anaconda3\\lib\\site-packages\\sklearn\\linear_model\\logistic.py:432: FutureWarning: Default solver will be changed to 'lbfgs' in 0.22. Specify a solver to silence this warning.\n",
      "  FutureWarning)\n",
      "C:\\Users\\jeickholt\\Anaconda3\\lib\\site-packages\\sklearn\\linear_model\\logistic.py:432: FutureWarning: Default solver will be changed to 'lbfgs' in 0.22. Specify a solver to silence this warning.\n",
      "  FutureWarning)\n",
      "C:\\Users\\jeickholt\\Anaconda3\\lib\\site-packages\\sklearn\\linear_model\\logistic.py:432: FutureWarning: Default solver will be changed to 'lbfgs' in 0.22. Specify a solver to silence this warning.\n",
      "  FutureWarning)\n",
      "C:\\Users\\jeickholt\\Anaconda3\\lib\\site-packages\\sklearn\\linear_model\\logistic.py:432: FutureWarning: Default solver will be changed to 'lbfgs' in 0.22. Specify a solver to silence this warning.\n",
      "  FutureWarning)\n",
      "C:\\Users\\jeickholt\\Anaconda3\\lib\\site-packages\\sklearn\\linear_model\\logistic.py:432: FutureWarning: Default solver will be changed to 'lbfgs' in 0.22. Specify a solver to silence this warning.\n",
      "  FutureWarning)\n",
      "C:\\Users\\jeickholt\\Anaconda3\\lib\\site-packages\\sklearn\\linear_model\\logistic.py:432: FutureWarning: Default solver will be changed to 'lbfgs' in 0.22. Specify a solver to silence this warning.\n",
      "  FutureWarning)\n",
      "C:\\Users\\jeickholt\\Anaconda3\\lib\\site-packages\\sklearn\\linear_model\\logistic.py:432: FutureWarning: Default solver will be changed to 'lbfgs' in 0.22. Specify a solver to silence this warning.\n",
      "  FutureWarning)\n",
      "C:\\Users\\jeickholt\\Anaconda3\\lib\\site-packages\\sklearn\\linear_model\\logistic.py:432: FutureWarning: Default solver will be changed to 'lbfgs' in 0.22. Specify a solver to silence this warning.\n",
      "  FutureWarning)\n",
      "C:\\Users\\jeickholt\\Anaconda3\\lib\\site-packages\\sklearn\\linear_model\\logistic.py:432: FutureWarning: Default solver will be changed to 'lbfgs' in 0.22. Specify a solver to silence this warning.\n",
      "  FutureWarning)\n",
      "C:\\Users\\jeickholt\\Anaconda3\\lib\\site-packages\\sklearn\\linear_model\\logistic.py:432: FutureWarning: Default solver will be changed to 'lbfgs' in 0.22. Specify a solver to silence this warning.\n",
      "  FutureWarning)\n",
      "C:\\Users\\jeickholt\\Anaconda3\\lib\\site-packages\\sklearn\\linear_model\\logistic.py:432: FutureWarning: Default solver will be changed to 'lbfgs' in 0.22. Specify a solver to silence this warning.\n",
      "  FutureWarning)\n",
      "C:\\Users\\jeickholt\\Anaconda3\\lib\\site-packages\\sklearn\\linear_model\\logistic.py:432: FutureWarning: Default solver will be changed to 'lbfgs' in 0.22. Specify a solver to silence this warning.\n",
      "  FutureWarning)\n",
      "C:\\Users\\jeickholt\\Anaconda3\\lib\\site-packages\\sklearn\\linear_model\\logistic.py:432: FutureWarning: Default solver will be changed to 'lbfgs' in 0.22. Specify a solver to silence this warning.\n",
      "  FutureWarning)\n",
      "C:\\Users\\jeickholt\\Anaconda3\\lib\\site-packages\\sklearn\\linear_model\\logistic.py:432: FutureWarning: Default solver will be changed to 'lbfgs' in 0.22. Specify a solver to silence this warning.\n",
      "  FutureWarning)\n",
      "C:\\Users\\jeickholt\\Anaconda3\\lib\\site-packages\\sklearn\\linear_model\\logistic.py:432: FutureWarning: Default solver will be changed to 'lbfgs' in 0.22. Specify a solver to silence this warning.\n",
      "  FutureWarning)\n",
      "C:\\Users\\jeickholt\\Anaconda3\\lib\\site-packages\\sklearn\\linear_model\\logistic.py:432: FutureWarning: Default solver will be changed to 'lbfgs' in 0.22. Specify a solver to silence this warning.\n",
      "  FutureWarning)\n",
      "C:\\Users\\jeickholt\\Anaconda3\\lib\\site-packages\\sklearn\\linear_model\\logistic.py:432: FutureWarning: Default solver will be changed to 'lbfgs' in 0.22. Specify a solver to silence this warning.\n",
      "  FutureWarning)\n",
      "C:\\Users\\jeickholt\\Anaconda3\\lib\\site-packages\\sklearn\\linear_model\\logistic.py:432: FutureWarning: Default solver will be changed to 'lbfgs' in 0.22. Specify a solver to silence this warning.\n",
      "  FutureWarning)\n",
      "C:\\Users\\jeickholt\\Anaconda3\\lib\\site-packages\\sklearn\\linear_model\\logistic.py:432: FutureWarning: Default solver will be changed to 'lbfgs' in 0.22. Specify a solver to silence this warning.\n",
      "  FutureWarning)\n",
      "C:\\Users\\jeickholt\\Anaconda3\\lib\\site-packages\\sklearn\\linear_model\\logistic.py:432: FutureWarning: Default solver will be changed to 'lbfgs' in 0.22. Specify a solver to silence this warning.\n",
      "  FutureWarning)\n",
      "C:\\Users\\jeickholt\\Anaconda3\\lib\\site-packages\\sklearn\\linear_model\\logistic.py:432: FutureWarning: Default solver will be changed to 'lbfgs' in 0.22. Specify a solver to silence this warning.\n",
      "  FutureWarning)\n",
      "C:\\Users\\jeickholt\\Anaconda3\\lib\\site-packages\\sklearn\\linear_model\\logistic.py:432: FutureWarning: Default solver will be changed to 'lbfgs' in 0.22. Specify a solver to silence this warning.\n",
      "  FutureWarning)\n",
      "C:\\Users\\jeickholt\\Anaconda3\\lib\\site-packages\\sklearn\\linear_model\\logistic.py:432: FutureWarning: Default solver will be changed to 'lbfgs' in 0.22. Specify a solver to silence this warning.\n",
      "  FutureWarning)\n",
      "C:\\Users\\jeickholt\\Anaconda3\\lib\\site-packages\\sklearn\\linear_model\\logistic.py:432: FutureWarning: Default solver will be changed to 'lbfgs' in 0.22. Specify a solver to silence this warning.\n",
      "  FutureWarning)\n",
      "C:\\Users\\jeickholt\\Anaconda3\\lib\\site-packages\\sklearn\\linear_model\\logistic.py:432: FutureWarning: Default solver will be changed to 'lbfgs' in 0.22. Specify a solver to silence this warning.\n",
      "  FutureWarning)\n",
      "C:\\Users\\jeickholt\\Anaconda3\\lib\\site-packages\\sklearn\\linear_model\\logistic.py:432: FutureWarning: Default solver will be changed to 'lbfgs' in 0.22. Specify a solver to silence this warning.\n",
      "  FutureWarning)\n",
      "C:\\Users\\jeickholt\\Anaconda3\\lib\\site-packages\\sklearn\\linear_model\\logistic.py:432: FutureWarning: Default solver will be changed to 'lbfgs' in 0.22. Specify a solver to silence this warning.\n",
      "  FutureWarning)\n",
      "C:\\Users\\jeickholt\\Anaconda3\\lib\\site-packages\\sklearn\\linear_model\\logistic.py:432: FutureWarning: Default solver will be changed to 'lbfgs' in 0.22. Specify a solver to silence this warning.\n",
      "  FutureWarning)\n",
      "C:\\Users\\jeickholt\\Anaconda3\\lib\\site-packages\\sklearn\\linear_model\\logistic.py:432: FutureWarning: Default solver will be changed to 'lbfgs' in 0.22. Specify a solver to silence this warning.\n",
      "  FutureWarning)\n",
      "C:\\Users\\jeickholt\\Anaconda3\\lib\\site-packages\\sklearn\\linear_model\\logistic.py:432: FutureWarning: Default solver will be changed to 'lbfgs' in 0.22. Specify a solver to silence this warning.\n",
      "  FutureWarning)\n",
      "C:\\Users\\jeickholt\\Anaconda3\\lib\\site-packages\\sklearn\\linear_model\\logistic.py:432: FutureWarning: Default solver will be changed to 'lbfgs' in 0.22. Specify a solver to silence this warning.\n",
      "  FutureWarning)\n",
      "C:\\Users\\jeickholt\\Anaconda3\\lib\\site-packages\\sklearn\\linear_model\\logistic.py:432: FutureWarning: Default solver will be changed to 'lbfgs' in 0.22. Specify a solver to silence this warning.\n",
      "  FutureWarning)\n",
      "C:\\Users\\jeickholt\\Anaconda3\\lib\\site-packages\\sklearn\\linear_model\\logistic.py:432: FutureWarning: Default solver will be changed to 'lbfgs' in 0.22. Specify a solver to silence this warning.\n",
      "  FutureWarning)\n",
      "C:\\Users\\jeickholt\\Anaconda3\\lib\\site-packages\\sklearn\\linear_model\\logistic.py:432: FutureWarning: Default solver will be changed to 'lbfgs' in 0.22. Specify a solver to silence this warning.\n",
      "  FutureWarning)\n",
      "C:\\Users\\jeickholt\\Anaconda3\\lib\\site-packages\\sklearn\\linear_model\\logistic.py:432: FutureWarning: Default solver will be changed to 'lbfgs' in 0.22. Specify a solver to silence this warning.\n",
      "  FutureWarning)\n",
      "C:\\Users\\jeickholt\\Anaconda3\\lib\\site-packages\\sklearn\\linear_model\\logistic.py:432: FutureWarning: Default solver will be changed to 'lbfgs' in 0.22. Specify a solver to silence this warning.\n",
      "  FutureWarning)\n",
      "C:\\Users\\jeickholt\\Anaconda3\\lib\\site-packages\\sklearn\\linear_model\\logistic.py:432: FutureWarning: Default solver will be changed to 'lbfgs' in 0.22. Specify a solver to silence this warning.\n",
      "  FutureWarning)\n",
      "C:\\Users\\jeickholt\\Anaconda3\\lib\\site-packages\\sklearn\\linear_model\\logistic.py:432: FutureWarning: Default solver will be changed to 'lbfgs' in 0.22. Specify a solver to silence this warning.\n",
      "  FutureWarning)\n",
      "C:\\Users\\jeickholt\\Anaconda3\\lib\\site-packages\\sklearn\\linear_model\\logistic.py:432: FutureWarning: Default solver will be changed to 'lbfgs' in 0.22. Specify a solver to silence this warning.\n",
      "  FutureWarning)\n"
     ]
    },
    {
     "name": "stderr",
     "output_type": "stream",
     "text": [
      "C:\\Users\\jeickholt\\Anaconda3\\lib\\site-packages\\sklearn\\linear_model\\logistic.py:432: FutureWarning: Default solver will be changed to 'lbfgs' in 0.22. Specify a solver to silence this warning.\n",
      "  FutureWarning)\n",
      "C:\\Users\\jeickholt\\Anaconda3\\lib\\site-packages\\sklearn\\linear_model\\logistic.py:432: FutureWarning: Default solver will be changed to 'lbfgs' in 0.22. Specify a solver to silence this warning.\n",
      "  FutureWarning)\n",
      "C:\\Users\\jeickholt\\Anaconda3\\lib\\site-packages\\sklearn\\linear_model\\logistic.py:432: FutureWarning: Default solver will be changed to 'lbfgs' in 0.22. Specify a solver to silence this warning.\n",
      "  FutureWarning)\n",
      "C:\\Users\\jeickholt\\Anaconda3\\lib\\site-packages\\sklearn\\linear_model\\logistic.py:432: FutureWarning: Default solver will be changed to 'lbfgs' in 0.22. Specify a solver to silence this warning.\n",
      "  FutureWarning)\n",
      "C:\\Users\\jeickholt\\Anaconda3\\lib\\site-packages\\sklearn\\linear_model\\logistic.py:432: FutureWarning: Default solver will be changed to 'lbfgs' in 0.22. Specify a solver to silence this warning.\n",
      "  FutureWarning)\n",
      "C:\\Users\\jeickholt\\Anaconda3\\lib\\site-packages\\sklearn\\linear_model\\logistic.py:432: FutureWarning: Default solver will be changed to 'lbfgs' in 0.22. Specify a solver to silence this warning.\n",
      "  FutureWarning)\n",
      "C:\\Users\\jeickholt\\Anaconda3\\lib\\site-packages\\sklearn\\linear_model\\logistic.py:432: FutureWarning: Default solver will be changed to 'lbfgs' in 0.22. Specify a solver to silence this warning.\n",
      "  FutureWarning)\n",
      "C:\\Users\\jeickholt\\Anaconda3\\lib\\site-packages\\sklearn\\linear_model\\logistic.py:432: FutureWarning: Default solver will be changed to 'lbfgs' in 0.22. Specify a solver to silence this warning.\n",
      "  FutureWarning)\n",
      "C:\\Users\\jeickholt\\Anaconda3\\lib\\site-packages\\sklearn\\linear_model\\logistic.py:432: FutureWarning: Default solver will be changed to 'lbfgs' in 0.22. Specify a solver to silence this warning.\n",
      "  FutureWarning)\n",
      "C:\\Users\\jeickholt\\Anaconda3\\lib\\site-packages\\sklearn\\linear_model\\logistic.py:432: FutureWarning: Default solver will be changed to 'lbfgs' in 0.22. Specify a solver to silence this warning.\n",
      "  FutureWarning)\n",
      "C:\\Users\\jeickholt\\Anaconda3\\lib\\site-packages\\sklearn\\linear_model\\logistic.py:432: FutureWarning: Default solver will be changed to 'lbfgs' in 0.22. Specify a solver to silence this warning.\n",
      "  FutureWarning)\n",
      "C:\\Users\\jeickholt\\Anaconda3\\lib\\site-packages\\sklearn\\linear_model\\logistic.py:432: FutureWarning: Default solver will be changed to 'lbfgs' in 0.22. Specify a solver to silence this warning.\n",
      "  FutureWarning)\n",
      "C:\\Users\\jeickholt\\Anaconda3\\lib\\site-packages\\sklearn\\linear_model\\logistic.py:432: FutureWarning: Default solver will be changed to 'lbfgs' in 0.22. Specify a solver to silence this warning.\n",
      "  FutureWarning)\n",
      "C:\\Users\\jeickholt\\Anaconda3\\lib\\site-packages\\sklearn\\linear_model\\logistic.py:432: FutureWarning: Default solver will be changed to 'lbfgs' in 0.22. Specify a solver to silence this warning.\n",
      "  FutureWarning)\n",
      "C:\\Users\\jeickholt\\Anaconda3\\lib\\site-packages\\sklearn\\linear_model\\logistic.py:432: FutureWarning: Default solver will be changed to 'lbfgs' in 0.22. Specify a solver to silence this warning.\n",
      "  FutureWarning)\n",
      "C:\\Users\\jeickholt\\Anaconda3\\lib\\site-packages\\sklearn\\linear_model\\logistic.py:432: FutureWarning: Default solver will be changed to 'lbfgs' in 0.22. Specify a solver to silence this warning.\n",
      "  FutureWarning)\n",
      "C:\\Users\\jeickholt\\Anaconda3\\lib\\site-packages\\sklearn\\linear_model\\logistic.py:432: FutureWarning: Default solver will be changed to 'lbfgs' in 0.22. Specify a solver to silence this warning.\n",
      "  FutureWarning)\n",
      "C:\\Users\\jeickholt\\Anaconda3\\lib\\site-packages\\sklearn\\linear_model\\logistic.py:432: FutureWarning: Default solver will be changed to 'lbfgs' in 0.22. Specify a solver to silence this warning.\n",
      "  FutureWarning)\n",
      "C:\\Users\\jeickholt\\Anaconda3\\lib\\site-packages\\sklearn\\linear_model\\logistic.py:432: FutureWarning: Default solver will be changed to 'lbfgs' in 0.22. Specify a solver to silence this warning.\n",
      "  FutureWarning)\n",
      "C:\\Users\\jeickholt\\Anaconda3\\lib\\site-packages\\sklearn\\linear_model\\logistic.py:432: FutureWarning: Default solver will be changed to 'lbfgs' in 0.22. Specify a solver to silence this warning.\n",
      "  FutureWarning)\n",
      "C:\\Users\\jeickholt\\Anaconda3\\lib\\site-packages\\sklearn\\linear_model\\logistic.py:432: FutureWarning: Default solver will be changed to 'lbfgs' in 0.22. Specify a solver to silence this warning.\n",
      "  FutureWarning)\n"
     ]
    }
   ],
   "source": [
    "# Fit grid search\n",
    "best_model = clf.fit(X_train_scaled, y_class_train)"
   ]
  },
  {
   "cell_type": "code",
   "execution_count": 133,
   "metadata": {},
   "outputs": [
    {
     "name": "stdout",
     "output_type": "stream",
     "text": [
      "Best Penalty: l1\n",
      "Best C: 166.81005372000593\n"
     ]
    }
   ],
   "source": [
    "# View best hyperparameters\n",
    "print('Best Penalty:', best_model.best_estimator_.get_params()['penalty'])\n",
    "print('Best C:', best_model.best_estimator_.get_params()['C'])"
   ]
  },
  {
   "cell_type": "markdown",
   "metadata": {},
   "source": [
    "### Output logistic model with pickle"
   ]
  },
  {
   "cell_type": "code",
   "execution_count": 220,
   "metadata": {},
   "outputs": [],
   "source": [
    "# output model to pickle\n",
    "\n",
    "import pickle\n",
    "\n",
    "with open('../static/models/logistic_model.pkl','wb') as f:\n",
    "    pickle.dump(classifier, f)"
   ]
  },
  {
   "cell_type": "markdown",
   "metadata": {},
   "source": [
    "## Develop KNN model to predict if issue was not closed by due date. Although this model was a bit better, it seems very cumbersome to deploy give the large amount of data.  The pickle output of the model was >200 Mbytes."
   ]
  },
  {
   "cell_type": "markdown",
   "metadata": {},
   "source": [
    "#### Fit the model"
   ]
  },
  {
   "cell_type": "code",
   "execution_count": 23,
   "metadata": {},
   "outputs": [],
   "source": [
    "from sklearn.neighbors import KNeighborsClassifier"
   ]
  },
  {
   "cell_type": "code",
   "execution_count": 84,
   "metadata": {},
   "outputs": [
    {
     "data": {
      "text/plain": [
       "KNeighborsClassifier(algorithm='auto', leaf_size=30, metric='minkowski',\n",
       "                     metric_params=None, n_jobs=None, n_neighbors=4, p=2,\n",
       "                     weights='uniform')"
      ]
     },
     "execution_count": 84,
     "metadata": {},
     "output_type": "execute_result"
    }
   ],
   "source": [
    "# Chose k=4 after running the loop below to check other values for k\n",
    "\n",
    "knn = KNeighborsClassifier(n_neighbors=4)\n",
    "knn.fit(X_train_scaled, y_class_train)"
   ]
  },
  {
   "cell_type": "markdown",
   "metadata": {},
   "source": [
    "#### Check the score"
   ]
  },
  {
   "cell_type": "code",
   "execution_count": 85,
   "metadata": {},
   "outputs": [
    {
     "name": "stdout",
     "output_type": "stream",
     "text": [
      "k=5 Test Acc: 0.843\n"
     ]
    },
    {
     "data": {
      "text/plain": [
       "KNeighborsClassifier(algorithm='auto', leaf_size=30, metric='minkowski',\n",
       "                     metric_params=None, n_jobs=None, n_neighbors=4, p=2,\n",
       "                     weights='uniform')"
      ]
     },
     "execution_count": 85,
     "metadata": {},
     "output_type": "execute_result"
    }
   ],
   "source": [
    "print('k=5 Test Acc: %.3f' % knn.score(X_train_scaled, y_class_train))\n",
    "knn"
   ]
  },
  {
   "cell_type": "markdown",
   "metadata": {},
   "source": [
    "#### Look at predictions"
   ]
  },
  {
   "cell_type": "code",
   "execution_count": null,
   "metadata": {},
   "outputs": [],
   "source": [
    "# look at the prediction vs actual for the test data\n",
    "\n",
    "predictions_knn = knn.predict(X_test_scaled)\n",
    "probs_knn = knn.predict_proba(X_test_scaled)\n",
    "\n",
    "\n",
    "pd.DataFrame({\n",
    "    \"Prediction\": predictions_knn, \n",
    "    \"Actual\": y_class_test, \n",
    "    \"On Time\": [p[0] for p in probs_knn], \n",
    "    \"Overdue\": [p[1] for p in probs_knn]}).head()"
   ]
  },
  {
   "cell_type": "markdown",
   "metadata": {},
   "source": [
    "#### Predict a new data point"
   ]
  },
  {
   "cell_type": "code",
   "execution_count": 91,
   "metadata": {},
   "outputs": [
    {
     "name": "stdout",
     "output_type": "stream",
     "text": [
      "New Prediction: 0.000\n",
      "Prob of Meeting Deadline : 1.000\n",
      "Prob of Not Meeting Deadline : 0.000\n",
      "[[38931, 31.9, 44957, 22.82, 24.95, 56.07, 0.27, 1, 0, 0, 0, 0, 0, 0, 0, 0, 0, 0, 0, 0, 0, 0]]\n",
      "[[ 0.39366916 -0.57383356 -0.35805553  0.21805589 -1.95933636 -2.13800639\n",
      "   0.24057979  2.81738006 -0.21252576 -0.37613373 -0.27086858 -0.30086824\n",
      "  -0.30896869 -0.20270583 -0.33567591 -0.13876926 -0.1752962  -0.22708341\n",
      "  -0.2092351  -0.19037391 -0.35690846 -0.2390681 ]]\n"
     ]
    }
   ],
   "source": [
    "# predict a  new data point\n",
    "\n",
    "# Population, Median Age, Household Income, Poverty Rate, % Owner Occupied, tempAvg, precipAvg, Container Problem, Drainage,\n",
    "# Missed Garbage Pickup, Missed Heavy Trash Pickup, Missed Recycling Pickup, Nuisance On Property, SWM Escalation, \n",
    "# Sewer Wasterwater, Storm Debris Collection, Street Condition,\n",
    "# Street Hazard, Traffic Signal Maintenance, Traffic Sign, Water Leak, Water Service\n",
    "\n",
    "\n",
    "new_data_knn = [[38931, 31.9, 44957, 22.82, 24.95, 56.07, 0.27, 1, 0, 0, 0, 0, 0, 0, 0, 0, 0, 0, 0, 0, 0, 0]]\n",
    "\n",
    "# have to scale the new data\n",
    "new_data_knn_scaled = X_scaler.transform(new_data_knn)\n",
    "\n",
    "new_predict_knn = knn.predict(new_data_knn_scaled)\n",
    "\n",
    "print(\"New Prediction: %.3f\" % new_predict_knn)\n",
    "\n",
    "new_prob_knn = knn.predict_proba(new_data_knn_scaled)\n",
    "\n",
    "print(\"Prob of Meeting Deadline : %.3f\" % new_prob_knn[0,0])\n",
    "print(\"Prob of Not Meeting Deadline : %.3f\" % new_prob_knn[0,1])\n",
    "\n",
    "print(new_data_knn)\n",
    "print(new_data_knn_scaled)\n",
    "    \n",
    "    \n",
    "parameters = knn.get_params\n",
    "\n"
   ]
  },
  {
   "cell_type": "markdown",
   "metadata": {},
   "source": [
    "#### Output the file using pickle."
   ]
  },
  {
   "cell_type": "code",
   "execution_count": 22,
   "metadata": {},
   "outputs": [],
   "source": [
    "# This output a file that is >200 MB, so not running it.\n",
    "\n",
    "# output model using pickle\n",
    "\n",
    "# import pickle\n",
    "\n",
    "# with open('../static/models/knn_model.pkl','wb') as f:\n",
    "#     pickle.dump(knn, f)"
   ]
  },
  {
   "cell_type": "markdown",
   "metadata": {},
   "source": [
    "### Look at different number of neighbors to see if a better model can be found\n",
    "#### This took a long time to run, given the large amount of data.  I stopped it after K=11 (after running 2 hours), since it was clearly not improving.  It looks like k=4 is probably about right."
   ]
  },
  {
   "cell_type": "code",
   "execution_count": null,
   "metadata": {},
   "outputs": [
    {
     "name": "stdout",
     "output_type": "stream",
     "text": [
      "k: 1, Train/Test Score: 0.830/0.768\n",
      "k: 3, Train/Test Score: 0.847/0.798\n",
      "k: 5, Train/Test Score: 0.845/0.804\n",
      "k: 7, Train/Test Score: 0.840/0.804\n",
      "k: 9, Train/Test Score: 0.834/0.804\n",
      "k: 11, Train/Test Score: 0.829/0.801\n"
     ]
    }
   ],
   "source": [
    "# Loop through different k values to see which has the highest accuracy\n",
    "# Note: We only use odd numbers because we don't want any ties\n",
    "train_scores = []\n",
    "test_scores = []\n",
    "\n",
    "for k in range(1, 20, 2):\n",
    "    # create the classifier for each value of K\n",
    "    knn = KNeighborsClassifier(n_neighbors=k)\n",
    "    knn.fit(X_train_scaled, y_class_train)\n",
    "    \n",
    "    #Score with both test and train data\n",
    "    train_score = knn.score(X_train_scaled, y_class_train)\n",
    "    test_score = knn.score(X_test_scaled, y_class_test)\n",
    "    \n",
    "    #append the scores to our list of scores\n",
    "    train_scores.append(train_score)\n",
    "    test_scores.append(test_score)\n",
    "    print(f\"k: {k}, Train/Test Score: {train_score:.3f}/{test_score:.3f}\")\n",
    "    "
   ]
  }
 ],
 "metadata": {
  "kernelspec": {
   "display_name": "Python 3",
   "language": "python",
   "name": "python3"
  },
  "language_info": {
   "codemirror_mode": {
    "name": "ipython",
    "version": 3
   },
   "file_extension": ".py",
   "mimetype": "text/x-python",
   "name": "python",
   "nbconvert_exporter": "python",
   "pygments_lexer": "ipython3",
   "version": "3.7.3"
  }
 },
 "nbformat": 4,
 "nbformat_minor": 2
}
