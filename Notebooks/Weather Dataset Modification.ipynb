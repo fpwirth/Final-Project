{
 "cells": [
  {
   "cell_type": "code",
   "execution_count": 1,
   "metadata": {},
   "outputs": [],
   "source": [
    "#Load dependencies\n",
    "from datetime import datetime as dt, timedelta\n",
    "import pandas as pd\n",
    "import numpy as np"
   ]
  },
  {
   "cell_type": "code",
   "execution_count": 2,
   "metadata": {},
   "outputs": [],
   "source": [
    "#Create weather dataframes and add week column\n",
    "weatherdata=pd.read_csv('../static/data/Final_selected_weather_data.csv')\n",
    "weatherdata.drop(['Unnamed: 0'],axis=1,inplace=True)\n",
    "weatherdata['datetime']=weatherdata['date_field'].apply(pd.to_datetime,format='%Y-%m-%d')\n",
    "weatherdata['week']=weatherdata['datetime'].dt.strftime('%Y-%U')\n",
    "weatherdata.columns=['date','maxtemp','avgtemp','mintemp','precip','datetime','week']"
   ]
  },
  {
   "cell_type": "code",
   "execution_count": 3,
   "metadata": {},
   "outputs": [],
   "source": [
    "#Get weekly weather values\n",
    "weekweatherdata=weatherdata[['week','maxtemp','avgtemp','mintemp','precip']].groupby('week').mean().reset_index()\n",
    "weekweatherdata.columns=['week','weekmaxtemp','weekavgtemp','weekmintemp','weekprecip']"
   ]
  },
  {
   "cell_type": "code",
   "execution_count": 4,
   "metadata": {},
   "outputs": [],
   "source": [
    "#Create new weather datframe for model use\n",
    "weather=pd.merge(weatherdata,weekweatherdata,on=['week'],how='left')\n",
    "weather.drop(['datetime'],axis=1,inplace=True)"
   ]
  },
  {
   "cell_type": "code",
   "execution_count": 5,
   "metadata": {},
   "outputs": [],
   "source": [
    "weather.to_csv('../Clean Data Files/weatherdata.csv',index=False,header=True)"
   ]
  },
  {
   "cell_type": "code",
   "execution_count": null,
   "metadata": {},
   "outputs": [],
   "source": []
  }
 ],
 "metadata": {
  "kernelspec": {
   "display_name": "Python 3",
   "language": "python",
   "name": "python3"
  },
  "language_info": {
   "codemirror_mode": {
    "name": "ipython",
    "version": 3
   },
   "file_extension": ".py",
   "mimetype": "text/x-python",
   "name": "python",
   "nbconvert_exporter": "python",
   "pygments_lexer": "ipython3",
   "version": "3.7.4"
  }
 },
 "nbformat": 4,
 "nbformat_minor": 4
}
