{
 "cells": [
  {
   "cell_type": "code",
   "execution_count": 1,
   "metadata": {},
   "outputs": [],
   "source": [
    "#Load dependencies and define data files to import\n",
    "from datetime import datetime as dt, timedelta\n",
    "import pandas as pd\n",
    "url2017='https://hfdapp.houstontx.gov/311/311-Public-Data-Extract-2017.txt'\n",
    "url2018='https://hfdapp.houstontx.gov/311/311-Public-Data-Extract-2018.txt'\n",
    "url2019='https://hfdapp.houstontx.gov/311/311-Public-Data-Extract-2019.txt'\n",
    "url2020='https://hfdapp.houstontx.gov/311/311-Public-Data-Extract-monthly.txt'"
   ]
  },
  {
   "cell_type": "code",
   "execution_count": 2,
   "metadata": {},
   "outputs": [
    {
     "name": "stderr",
     "output_type": "stream",
     "text": [
      "b'Skipping line 9979: expected 29 fields, saw 30\\nSkipping line 16339: expected 29 fields, saw 30\\n'\n",
      "b'Skipping line 211068: expected 29 fields, saw 30\\n'\n",
      "b'Skipping line 294299: expected 29 fields, saw 30\\n'\n",
      "b'Skipping line 327924: expected 29 fields, saw 30\\n'\n"
     ]
    },
    {
     "data": {
      "text/plain": [
       "(364664, 29)"
      ]
     },
     "execution_count": 2,
     "metadata": {},
     "output_type": "execute_result"
    }
   ],
   "source": [
    "#Create 2017 data frames\n",
    "data2017=pd.read_csv(url2017,header=5,sep='|',error_bad_lines=False)\n",
    "data2017=data2017.drop(data2017.index[0]).reset_index(drop=True)\n",
    "data2017.columns=['case number','sr location','county','district','neighborhood','tax id','trash quad','recycle quad','trash day','heavy trash day','recycle day','key map',\n",
    "                'management district','department','division','sr type','queue','sla','status','sr create date','due date','date closed','overdue','title','x','y','latitude',\n",
    "                'longitude','channel type']\n",
    "data2017[['sr create date','due date','date closed']]=data2017[['sr create date','due date','date closed']].apply(pd.to_datetime,errors='coerce')\n",
    "top2017=data2017.groupby(['sr type'])['case number'].count().sort_values(ascending=False).head(20)\n",
    "data2017.shape"
   ]
  },
  {
   "cell_type": "code",
   "execution_count": 3,
   "metadata": {},
   "outputs": [
    {
     "name": "stderr",
     "output_type": "stream",
     "text": [
      "b'Skipping line 124864: expected 29 fields, saw 30\\n'\n",
      "C:\\Users\\phili\\Anaconda3\\lib\\site-packages\\IPython\\core\\interactiveshell.py:3058: DtypeWarning: Columns (22) have mixed types. Specify dtype option on import or set low_memory=False.\n",
      "  interactivity=interactivity, compiler=compiler, result=result)\n"
     ]
    },
    {
     "data": {
      "text/plain": [
       "(399953, 29)"
      ]
     },
     "execution_count": 3,
     "metadata": {},
     "output_type": "execute_result"
    }
   ],
   "source": [
    "#Create 2018 data frames\n",
    "data2018=pd.read_csv(url2018,header=5,sep='|',error_bad_lines=False)\n",
    "data2018=data2018.drop(data2018.index[0]).reset_index(drop=True)\n",
    "data2018.columns=['case number','sr location','county','district','neighborhood','tax id','trash quad','recycle quad','trash day','heavy trash day','recycle day','key map',\n",
    "                'management district','department','division','sr type','queue','sla','status','sr create date','due date','date closed','overdue','title','x','y','latitude',\n",
    "                'longitude','channel type']\n",
    "data2018[['sr create date','due date','date closed']]=data2018[['sr create date','due date','date closed']].apply(pd.to_datetime,errors='coerce')\n",
    "top2018=data2018.groupby(['sr type'])['case number'].count().sort_values(ascending=False).head(20)\n",
    "data2018.shape"
   ]
  },
  {
   "cell_type": "code",
   "execution_count": 4,
   "metadata": {},
   "outputs": [
    {
     "name": "stderr",
     "output_type": "stream",
     "text": [
      "b'Skipping line 86859: expected 29 fields, saw 31\\n'\n",
      "b'Skipping line 124913: expected 29 fields, saw 30\\n'\n",
      "b'Skipping line 144497: expected 29 fields, saw 30\\n'\n",
      "b'Skipping line 218652: expected 29 fields, saw 31\\n'\n",
      "b'Skipping line 349873: expected 29 fields, saw 30\\n'\n"
     ]
    },
    {
     "data": {
      "text/plain": [
       "(395258, 29)"
      ]
     },
     "execution_count": 4,
     "metadata": {},
     "output_type": "execute_result"
    }
   ],
   "source": [
    "#Create 2019 data frames\n",
    "data2019=pd.read_csv(url2019,header=5,sep='|',error_bad_lines=False)\n",
    "data2019=data2019.drop(data2019.index[0]).reset_index(drop=True)\n",
    "data2019.columns=['case number','sr location','county','district','neighborhood','tax id','trash quad','recycle quad','trash day','heavy trash day','recycle day','key map',\n",
    "                'management district','department','division','sr type','queue','sla','status','sr create date','due date','date closed','overdue','title','x','y','latitude',\n",
    "                'longitude','channel type']\n",
    "data2019[['sr create date','due date','date closed']]=data2019[['sr create date','due date','date closed']].apply(pd.to_datetime,errors='coerce')\n",
    "top2019=data2019.groupby(['sr type'])['case number'].count().sort_values(ascending=False).head(20)\n",
    "data2019.shape"
   ]
  },
  {
   "cell_type": "code",
   "execution_count": 5,
   "metadata": {},
   "outputs": [
    {
     "data": {
      "text/plain": [
       "(21209, 29)"
      ]
     },
     "execution_count": 5,
     "metadata": {},
     "output_type": "execute_result"
    }
   ],
   "source": [
    "#Create 2020 data frames\n",
    "data2020=pd.read_csv(url2020,header=5,sep='|',error_bad_lines=False)\n",
    "data2020=data2020.drop(data2020.index[0]).reset_index(drop=True)\n",
    "data2020.columns=['case number','sr location','county','district','neighborhood','tax id','trash quad','recycle quad','trash day','heavy trash day','recycle day','key map',\n",
    "                'management district','department','division','sr type','queue','sla','status','sr create date','due date','date closed','overdue','title','x','y','latitude',\n",
    "                'longitude','channel type']\n",
    "data2020[['sr create date','due date','date closed']]=data2020[['sr create date','due date','date closed']].apply(pd.to_datetime,errors='coerce')\n",
    "top2020=data2020.groupby(['sr type'])['case number'].count().sort_values(ascending=False).head(20)\n",
    "data2020.shape"
   ]
  },
  {
   "cell_type": "code",
   "execution_count": 6,
   "metadata": {},
   "outputs": [
    {
     "data": {
      "text/plain": [
       "(1159875, 30)"
      ]
     },
     "execution_count": 6,
     "metadata": {},
     "output_type": "execute_result"
    }
   ],
   "source": [
    "data311=data2017.append([data2018,data2019])\n",
    "data311['year']=data311['sr create date'].dt.year\n",
    "types311=data311.groupby(['sr type','year'])['case number'].count().unstack('year').reset_index()\n",
    "types311.columns=['sr type','2017','2018','2019']\n",
    "data311.shape"
   ]
  },
  {
   "cell_type": "code",
   "execution_count": 7,
   "metadata": {},
   "outputs": [
    {
     "data": {
      "text/plain": [
       "sr type\n",
       "Missed Garbage Pickup                       26950\n",
       "Container Problem                           25151\n",
       "Water Leak                                  23661\n",
       "Sewer Wastewater                            22585\n",
       "Nuisance On Property                        18806\n",
       "Traffic Signal Maintenance                  17424\n",
       "Street Hazard                               13147\n",
       "Missed Recycling Pickup                     12167\n",
       "Storm Debris Collection                     10802\n",
       "Water Service                               10778\n",
       "Traffic Signs                               10595\n",
       "Drainage                                     9382\n",
       "Parking Violation                            8806\n",
       "Dead Animal Collection                       8380\n",
       "Trash Dumping or Illegal Dumpsite            7563\n",
       "Heavy Trash Violation                        7476\n",
       "Unclassified 311 Web Request                 7244\n",
       "Recycling Cart Repair or Replace             6892\n",
       "Street Condition                             6832\n",
       "Missed Heavy Trash Pickup                    6416\n",
       "Name: case number, dtype: int64"
      ]
     },
     "execution_count": 7,
     "metadata": {},
     "output_type": "execute_result"
    }
   ],
   "source": [
    "top2017"
   ]
  },
  {
   "cell_type": "code",
   "execution_count": null,
   "metadata": {},
   "outputs": [],
   "source": [
    "top2018"
   ]
  },
  {
   "cell_type": "code",
   "execution_count": null,
   "metadata": {},
   "outputs": [],
   "source": [
    "top2019"
   ]
  },
  {
   "cell_type": "code",
   "execution_count": null,
   "metadata": {},
   "outputs": [],
   "source": [
    "top2020"
   ]
  },
  {
   "cell_type": "code",
   "execution_count": null,
   "metadata": {},
   "outputs": [],
   "source": [
    "types311"
   ]
  },
  {
   "cell_type": "code",
   "execution_count": null,
   "metadata": {},
   "outputs": [],
   "source": [
    "types311.to_csv('../Clean Data Files/Houston 311 SR Types by Year.csv',index=False,header=True)"
   ]
  },
  {
   "cell_type": "code",
   "execution_count": null,
   "metadata": {},
   "outputs": [],
   "source": []
  }
 ],
 "metadata": {
  "kernelspec": {
   "display_name": "Python 3",
   "language": "python",
   "name": "python3"
  },
  "language_info": {
   "codemirror_mode": {
    "name": "ipython",
    "version": 3
   },
   "file_extension": ".py",
   "mimetype": "text/x-python",
   "name": "python",
   "nbconvert_exporter": "python",
   "pygments_lexer": "ipython3",
   "version": "3.7.4"
  }
 },
 "nbformat": 4,
 "nbformat_minor": 4
}
